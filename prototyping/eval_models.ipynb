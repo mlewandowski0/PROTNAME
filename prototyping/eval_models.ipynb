{
 "cells": [
  {
   "cell_type": "code",
   "execution_count": 2,
   "metadata": {},
   "outputs": [
    {
     "name": "stdout",
     "output_type": "stream",
     "text": [
      "Defaulting to user installation because normal site-packages is not writeable\n",
      "Requirement already satisfied: torchinfo in /home/ache/.local/lib/python3.10/site-packages (1.7.2)\n",
      "Defaulting to user installation because normal site-packages is not writeable\n",
      "Requirement already satisfied: huggingface_hub in /home/ache/.local/lib/python3.10/site-packages (0.12.1)\n",
      "Requirement already satisfied: tqdm>=4.42.1 in /home/ache/.local/lib/python3.10/site-packages (from huggingface_hub) (4.64.1)\n",
      "Requirement already satisfied: pyyaml>=5.1 in /usr/lib/python3/dist-packages (from huggingface_hub) (5.4.1)\n",
      "Requirement already satisfied: filelock in /home/ache/.local/lib/python3.10/site-packages (from huggingface_hub) (3.9.0)\n",
      "Requirement already satisfied: typing-extensions>=3.7.4.3 in /home/ache/.local/lib/python3.10/site-packages (from huggingface_hub) (4.5.0)\n",
      "Requirement already satisfied: requests in /home/ache/.local/lib/python3.10/site-packages (from huggingface_hub) (2.28.2)\n",
      "Requirement already satisfied: packaging>=20.9 in /home/ache/.local/lib/python3.10/site-packages (from huggingface_hub) (23.0)\n",
      "Requirement already satisfied: charset-normalizer<4,>=2 in /home/ache/.local/lib/python3.10/site-packages (from requests->huggingface_hub) (3.0.1)\n",
      "Requirement already satisfied: idna<4,>=2.5 in /home/ache/.local/lib/python3.10/site-packages (from requests->huggingface_hub) (3.4)\n",
      "Requirement already satisfied: certifi>=2017.4.17 in /home/ache/.local/lib/python3.10/site-packages (from requests->huggingface_hub) (2022.12.7)\n",
      "Requirement already satisfied: urllib3<1.27,>=1.21.1 in /home/ache/.local/lib/python3.10/site-packages (from requests->huggingface_hub) (1.26.14)\n"
     ]
    }
   ],
   "source": [
    "!pip install -q accelerate\n",
    "!pip install -q scikit-learn\n",
    "!pip install -q tqdm\n",
    "!pip install torchinfo \n",
    "!pip install -q pandas\n",
    "!pip install -q matplotlib \n",
    "!pip install huggingface_hub"
   ]
  },
  {
   "cell_type": "code",
   "execution_count": 3,
   "metadata": {},
   "outputs": [],
   "source": [
    "import os\n",
    "file_id = '1w3IQMK3PmXH-Bq6Lt_P8wxGPvr5olrZT'\n",
    "destination = 'pfam.zip'\n",
    "n_families_of_interest = 1000\n",
    "data_dirpath = \"pfam\"\n",
    "os.makedirs(\"models\", exist_ok=True)\n",
    "vocab_size = 32\n",
    "max_aminoacid_len = 512\n",
    "batch_size = 128\n",
    "pin_memory_flag = True\n",
    "\n",
    "mixed_precision = \"fp16\" # or \"fp32\""
   ]
  },
  {
   "cell_type": "code",
   "execution_count": 4,
   "metadata": {},
   "outputs": [
    {
     "name": "stderr",
     "output_type": "stream",
     "text": [
      "2023-04-24 00:34:53.131192: I tensorflow/core/platform/cpu_feature_guard.cc:193] This TensorFlow binary is optimized with oneAPI Deep Neural Network Library (oneDNN) to use the following CPU instructions in performance-critical operations:  AVX2 FMA\n",
      "To enable them in other operations, rebuild TensorFlow with the appropriate compiler flags.\n"
     ]
    }
   ],
   "source": [
    "import os\n",
    "import gc\n",
    "import json\n",
    "import zipfile\n",
    "import requests\n",
    "import numpy as np\n",
    "import pandas as pd\n",
    "from functools import partial \n",
    "from tqdm.notebook import tqdm \n",
    "from collections import Counter\n",
    "import matplotlib.pyplot as plt\n",
    "from collections import Counter\n",
    "from accelerate import Accelerator\n",
    "from torchinfo import summary\n",
    "import matplotlib.pyplot as plt\n",
    "from collections import defaultdict\n",
    "\n",
    "import torch\n",
    "import torch.nn as nn\n",
    "import torch.optim as optim\n",
    "import torch.nn.functional as F \n",
    "from torch.nn.utils.rnn import pad_sequence\n",
    "from torch.utils.data import DataLoader, Dataset\n",
    "from sklearn.metrics import f1_score, accuracy_score, matthews_corrcoef"
   ]
  },
  {
   "cell_type": "code",
   "execution_count": 5,
   "metadata": {},
   "outputs": [],
   "source": [
    "def format_size(value):\n",
    "  if value >= 1024**3:\n",
    "    return f\"{round(value / 1024**3 , 3)} GB\"\n",
    "  elif value >= 1024**2:\n",
    "    return f\"{round(value / 1024**2 , 3)} MB\"\n",
    "  elif value >= 1024:\n",
    "    return f\"{round(value / 1024 , 3)} KB\"\n",
    "  return f\"{value} B\"\n",
    "\n",
    "# Code taken from https://stackoverflow.com/questions/38511444/python-download-files-from-google-drive-using-url\n",
    "def download_file_from_google_drive(id, destination):\n",
    "    URL = \"https://docs.google.com/uc?export=download\"\n",
    "\n",
    "    session = requests.Session()\n",
    "\n",
    "    response = session.get(URL, params = { 'id' : id }, stream = True)\n",
    "    token = get_confirm_token(response)\n",
    "    params = { 'id' : id, 'confirm' : 1 }\n",
    "    response = session.get(URL, params = params, stream = True)\n",
    "\n",
    "    save_response_content(response, destination)    \n",
    "\n",
    "def get_confirm_token(response):\n",
    "    for key, value in response.cookies.items():\n",
    "        if key.startswith('download_warning'):\n",
    "            return value\n",
    "\n",
    "    return None\n",
    "\n",
    "def save_response_content(response, destination):\n",
    "    CHUNK_SIZE = 32768\n",
    "    \n",
    "    pb = tqdm(response.iter_content(CHUNK_SIZE))\n",
    "    b_total = 0\n",
    "    with open(destination, \"wb\") as f:\n",
    "        for i,chunk in enumerate(pb):\n",
    "            if chunk: # filter out keep-alive new chunks\n",
    "                f.write(chunk)\n",
    "                b_total += len(chunk)\n",
    "\n",
    "                if i % 1000 == 0:\n",
    "                  pb.set_description(f\"written : {format_size(b_total)}\")\n",
    "                i += 1\n",
    "    print(\"\\n\")\n",
    "    print(f\"saved all the data to {destination}. total size : {format_size(os.stat(destination).st_size)}\")"
   ]
  },
  {
   "cell_type": "code",
   "execution_count": 6,
   "metadata": {},
   "outputs": [
    {
     "data": {
      "application/vnd.jupyter.widget-view+json": {
       "model_id": "2eba24a6fe0842c2a1ad63d8bad8d822",
       "version_major": 2,
       "version_minor": 0
      },
      "text/plain": [
       "0it [00:00, ?it/s]"
      ]
     },
     "metadata": {},
     "output_type": "display_data"
    },
    {
     "name": "stdout",
     "output_type": "stream",
     "text": [
      "\n",
      "\n",
      "saved all the data to pfam.zip. total size : 493.095 MB\n",
      "mv: cannot move 'random_split' to 'pfam/random_split': Directory not empty\n"
     ]
    }
   ],
   "source": [
    "download_file_from_google_drive(file_id, destination)\n",
    "with zipfile.ZipFile(destination, 'r') as zip_ref:\n",
    "    zip_ref.extractall(\".\")\n",
    "!mv random_split pfam"
   ]
  },
  {
   "cell_type": "code",
   "execution_count": 7,
   "metadata": {},
   "outputs": [
    {
     "name": "stdout",
     "output_type": "stream",
     "text": [
      "Available dataset partitions:  ['dev', 'train', 'test', 'random_split']\n"
     ]
    }
   ],
   "source": [
    "data_dirpath = \"pfam\"\n",
    "print('Available dataset partitions: ', os.listdir(data_dirpath))"
   ]
  },
  {
   "cell_type": "code",
   "execution_count": 8,
   "metadata": {},
   "outputs": [
    {
     "name": "stdout",
     "output_type": "stream",
     "text": [
      "Dataset partition \"test\" has 126171 sequences\n",
      "Dataset partition \"dev\" has 126171 sequences\n",
      "Dataset partition \"train\" has 1086741 sequences\n"
     ]
    }
   ],
   "source": [
    "def read_all_shards(partition='dev', data_dir = data_dirpath):\n",
    "    shards = []\n",
    "    for fn in os.listdir(os.path.join(data_dir, partition)):\n",
    "        with open(os.path.join(data_dir, partition, fn)) as f:\n",
    "            shards.append(pd.read_csv(f, index_col=None))\n",
    "    \n",
    "    return pd.concat(shards)\n",
    "\n",
    "def read_all_data_initial():\n",
    "  global train, test, dev, all_train_ds_size, all_test_ds_size, all_dev_ds_size\n",
    "\n",
    "  test = read_all_shards('test')\n",
    "  dev = read_all_shards('dev')\n",
    "  train = read_all_shards('train')\n",
    "\n",
    "  partitions = {'test': test, 'dev': dev, 'train': train}\n",
    "  for name, df in partitions.items():\n",
    "      print('Dataset partition \"%s\" has %d sequences' % (name, len(df)))\n",
    "\n",
    "  all_train_ds_size = len(train)\n",
    "  all_test_ds_size = len(test)\n",
    "  all_dev_ds_size = len(dev)\n",
    "\n",
    "  train.reset_index(inplace=True, drop=True)\n",
    "  dev.reset_index(inplace=True, drop=True)\n",
    "  test.reset_index(inplace=True, drop=True)\n",
    "\n",
    "read_all_data_initial()"
   ]
  },
  {
   "cell_type": "code",
   "execution_count": 9,
   "metadata": {},
   "outputs": [
    {
     "name": "stdout",
     "output_type": "stream",
     "text": [
      "how many labels : 17929\n"
     ]
    },
    {
     "data": {
      "image/png": "[encoded data removed]",
      "text/plain": [
       "<Figure size 1152x432 with 2 Axes>"
      ]
     },
     "metadata": {
      "needs_background": "light"
     },
     "output_type": "display_data"
    }
   ],
   "source": [
    "def plot_counts(data):\n",
    "\n",
    "    counter = Counter(data['family_accession'])\n",
    "    print(f\"how many labels : {len(counter)}\")\n",
    "    \n",
    "    datasetSize = len(data)\n",
    "    xs = []\n",
    "    x_labels = []\n",
    "    ys = []\n",
    "\n",
    "    t = 0\n",
    "    cumulative = []\n",
    "\n",
    "    for i,(x, y) in  enumerate(counter.most_common()):\n",
    "        xs.append(i)\n",
    "        x_labels.append(x)\n",
    "        ys.append(y)\n",
    "        t += y / datasetSize\n",
    "        cumulative.append(t)\n",
    "\n",
    "    plt.figure(figsize=(16 ,6))\n",
    "    plt.subplot(1, 2, 1)\n",
    "    plt.plot(xs, ys)\n",
    "    plt.yscale(\"log\")\n",
    "\n",
    "    plt.subplot(1, 2, 2)\n",
    "    plt.plot(xs, cumulative)\n",
    "    plt.yticks([0, 0.1, 0.2, 0.3, 0.4, 0.5, 0.6, 0.7, 0.8, 0.9, 1.])\n",
    "    plt.show()\n",
    "    return cumulative\n",
    "\n",
    "cumulative = plot_counts(train)"
   ]
  },
  {
   "cell_type": "code",
   "execution_count": 10,
   "metadata": {},
   "outputs": [
    {
     "name": "stdout",
     "output_type": "stream",
     "text": [
      "1000 classes is 40.400000000000006 portion of training data\n"
     ]
    }
   ],
   "source": [
    "print(f\"{n_families_of_interest} classes is {100 * round( cumulative[n_families_of_interest-1],3)} portion of training data\")"
   ]
  },
  {
   "cell_type": "code",
   "execution_count": 11,
   "metadata": {},
   "outputs": [
    {
     "name": "stdout",
     "output_type": "stream",
     "text": [
      "how many labels : 991\n"
     ]
    },
    {
     "data": {
      "image/png": "[encoded data removed]",
      "text/plain": [
       "<Figure size 1152x432 with 2 Axes>"
      ]
     },
     "metadata": {
      "needs_background": "light"
     },
     "output_type": "display_data"
    }
   ],
   "source": [
    "familiesOfInterest = train.family_accession.value_counts()[:n_families_of_interest]\n",
    "\n",
    "mask = train.family_accession.isin(familiesOfInterest.index.values)\n",
    "train = train.loc[mask,:]\n",
    "mask = train[\"sequence\"].str.len() <= max_aminoacid_len\n",
    "train = train.loc[mask, :]\n",
    "\n",
    "mask = dev.family_accession.isin(familiesOfInterest.index.values)\n",
    "dev = dev.loc[mask,:]\n",
    "mask = dev[\"sequence\"].str.len() <= max_aminoacid_len\n",
    "dev = dev.loc[mask,:]\n",
    "\n",
    "mask = test.family_accession.isin(familiesOfInterest.index.values)\n",
    "test = test.loc[mask,:]\n",
    "mask = test[\"sequence\"].str.len() <= max_aminoacid_len\n",
    "test = test.loc[mask,:]\n",
    "\n",
    "cumulative_split = plot_counts(train)"
   ]
  },
  {
   "cell_type": "code",
   "execution_count": 12,
   "metadata": {},
   "outputs": [],
   "source": [
    "train_seq = train['sequence']\n",
    "dev_seq = dev['sequence']\n",
    "test_seq = test['sequence']\n",
    "train_sentences = train_seq.apply(lambda seq: \" \".join([aa for aa in seq]))\n",
    "validation_sentences = dev_seq.apply(lambda seq: \" \".join([aa for aa in seq]))\n",
    "test_sentences = test_seq.apply(lambda seq: \" \".join([aa for aa in seq]))\n",
    "\n",
    "train_labels = train['family_accession'].apply(lambda x: x.split('.')[0])\n",
    "validation_labels = dev['family_accession'].apply(lambda x: x.split('.')[0])\n",
    "test_labels = test['family_accession'].apply(lambda x: x.split('.')[0])"
   ]
  },
  {
   "cell_type": "code",
   "execution_count": 13,
   "metadata": {},
   "outputs": [
    {
     "data": {
      "application/vnd.jupyter.widget-view+json": {
       "model_id": "c5dd973c599b43eebdd0390fd14e1974",
       "version_major": 2,
       "version_minor": 0
      },
      "text/plain": [
       "  0%|          | 0/432209 [00:00<?, ?it/s]"
      ]
     },
     "metadata": {},
     "output_type": "display_data"
    },
    {
     "name": "stdout",
     "output_type": "stream",
     "text": [
      "Counter({514: 432209})\n",
      "Counter({514: 53471})\n",
      "Counter({514: 53465})\n"
     ]
    }
   ],
   "source": [
    "class Tokenizer(object):\n",
    "    def __init__(self, vocab_size, padding=512):\n",
    "        self.idx_to_token = {0: '<pad>', 1:'<s>', 2:'</s>', 3: '<unk>'}\n",
    "        self.token_to_idx = {k:j for j,k in self.idx_to_token.items()} \n",
    "        self.max_size = vocab_size\n",
    "        self.padding = padding + 2\n",
    "    \n",
    "    def __len__(self):\n",
    "        return len(self.token_to_idx)\n",
    "\n",
    "    @staticmethod\n",
    "    def tokenizer(text):\n",
    "        return [tok.lower().strip() for tok in text.split(' ')]\n",
    "    \n",
    "    def build_vocabulary(self, sentences):\n",
    "        idx = 4\n",
    "        frequencies = {}\n",
    "   \n",
    "        for sentence in tqdm(sentences):\n",
    "            for word in self.tokenizer(sentence):\n",
    "                if word not in frequencies.keys():\n",
    "                    frequencies[word]=1\n",
    "                else:\n",
    "                    frequencies[word]+=1\n",
    "                    \n",
    "        #limit vocab by removing low freq words\n",
    "        frequencies = {k:v for k,v in frequencies.items()} \n",
    "        \n",
    "        #limit vocab to the max_size specified\n",
    "        frequencies = dict(sorted(frequencies.items(), key = lambda x: -x[1])[:self.max_size-idx]) # idx =4 for pad, start, end , unk\n",
    "            \n",
    "        #create vocab\n",
    "        for word in frequencies.keys():\n",
    "            self.token_to_idx[word] = idx\n",
    "            self.idx_to_token[idx] = word\n",
    "            idx+=1\n",
    "            \n",
    "    def numericalize(self, text):\n",
    "        #tokenize text\n",
    "        tokenized_text = self.tokenizer(text)\n",
    "        numericalized_text = [self.token_to_idx[\"<s>\"]]\n",
    "        for token in tokenized_text:\n",
    "            if token in self.token_to_idx.keys():\n",
    "                numericalized_text.append(self.token_to_idx[token])\n",
    "            else: #out-of-vocab words are represented by UNK token index\n",
    "                numericalized_text.append(self.token_to_idx['<unk>'])\n",
    "        \n",
    "        numericalized_text.append(self.token_to_idx['</s>'])\n",
    "        if self.padding != -1:\n",
    "          numericalized_text = numericalized_text + [self.token_to_idx[\"<pad>\"]] * (self.padding - len(numericalized_text))\n",
    "\n",
    "        return np.array(numericalized_text)\n",
    "\n",
    "tokenizer = Tokenizer(vocab_size)\n",
    "tokenizer.build_vocabulary(train_sentences)\n",
    "train_sentences = train_sentences.apply(tokenizer.numericalize)\n",
    "validation_sentences = validation_sentences.apply(tokenizer.numericalize)\n",
    "test_sentences = test_sentences.apply(tokenizer.numericalize)\n",
    "train_sentences = train_sentences.values\n",
    "validation_sentences = validation_sentences.values\n",
    "test_sentences = test_sentences.values\n",
    "print(Counter([len(v) for v in train_sentences]))\n",
    "print(Counter([len(v) for v in validation_sentences]))\n",
    "print(Counter([len(v) for v in test_sentences]))\n",
    "keys = Counter(train_labels.values).keys()\n",
    "family_id_to_val = {k : v for v, k in enumerate(keys)}\n",
    "\n",
    "train_labels = train_labels.map(family_id_to_val).values\n",
    "validation_labels = validation_labels.map(family_id_to_val).values\n",
    "test_labels = test_labels.map(family_id_to_val).values"
   ]
  },
  {
   "cell_type": "code",
   "execution_count": 15,
   "metadata": {},
   "outputs": [],
   "source": [
    "class Aminoacid_dataset_train(Dataset):\n",
    "    def __init__(self):\n",
    "      pass\n",
    "\n",
    "    def __len__(self):\n",
    "        return len(train_sentences)\n",
    "\n",
    "    def __getitem__(self, index):\n",
    "        return torch.tensor(train_sentences[index]), torch.tensor(train_labels[index]) \n",
    "\n",
    "class Aminoacid_dataset_val(Dataset):\n",
    "    def __init__(self):\n",
    "      pass\n",
    "\n",
    "    def __len__(self):\n",
    "        return len(validation_sentences)\n",
    "\n",
    "    def __getitem__(self, index):\n",
    "        return torch.tensor(validation_sentences[index]), torch.tensor(validation_labels[index]) \n",
    "\n",
    "class Aminoacid_dataset_test(Dataset):\n",
    "    def __init__(self):\n",
    "      pass\n",
    "\n",
    "    def __len__(self):\n",
    "        return len(test_sentences)\n",
    "\n",
    "    def __getitem__(self, index):\n",
    "        return torch.tensor(test_sentences[index]), torch.tensor(test_labels[index]) \n",
    "\n",
    "train_dataset = Aminoacid_dataset_train()\n",
    "val_dataset = Aminoacid_dataset_val()\n",
    "test_dataset = Aminoacid_dataset_test()\n",
    "\n",
    "# for final evaluation\n",
    "test_dl = DataLoader(test_dataset, batch_size=batch_size, \n",
    "                      pin_memory=True, shuffle=False)"
   ]
  },
  {
   "cell_type": "code",
   "execution_count": 16,
   "metadata": {},
   "outputs": [],
   "source": [
    "def evaluate_model(model, dataset, metrics=[], report_every=100):\n",
    "  pb = tqdm(dataset)\n",
    "  model.eval()\n",
    "  classified_correctly = 0\n",
    "  len_so_far = 0\n",
    "  loss_whole = 0\n",
    "  preds = torch.zeros(len(dataset.dataset))\n",
    "  true_preds = torch.zeros(len(dataset.dataset))\n",
    "\n",
    "  for i, (source, targets) in enumerate(pb):\n",
    "    source = source.to(device)\n",
    "    targets = targets.to(device)\n",
    "    output = model(source)\n",
    "    loss = F.cross_entropy(output, targets)\n",
    "    pred = torch.argmax(output, dim=1)\n",
    "\n",
    "    classified_correctly += torch.sum(pred == targets).item()\n",
    "\n",
    "    # save the predictions for later evalution \n",
    "    preds[len_so_far:(len_so_far+targets.shape[0])] = pred\n",
    "    true_preds[len_so_far:(len_so_far+targets.shape[0])] = targets\n",
    "\n",
    "    len_so_far += targets.shape[0]\n",
    "    loss_whole += targets.shape[0] * loss.item()\n",
    "\n",
    "    if i % report_every == 0:\n",
    "      pb.set_description(f\"Loss : {round(loss.item(), 3)}, Accuracy : {round(classified_correctly / len_so_far, 4)}\")\n",
    "\n",
    "  evaluations = {}\n",
    "  for metric in metrics:\n",
    "    if isinstance(metric, partial):\n",
    "      evaluations[metric.func.__name__] = metric(preds, true_preds)  \n",
    "    else:\n",
    "      evaluations[metric.__name__] = metric(preds, true_preds)  \n",
    "  evaluations[\"loss\"] = loss_whole / len_so_far\n"
   ]
  },
  {
   "cell_type": "code",
   "execution_count": 17,
   "metadata": {},
   "outputs": [],
   "source": [
    "accelerator = Accelerator(mixed_precision=mixed_precision)\n",
    "device = accelerator.device"
   ]
  },
  {
   "cell_type": "code",
   "execution_count": 23,
   "metadata": {},
   "outputs": [],
   "source": [
    "class ResidualBlock(nn.Module):\n",
    "    def __init__(self, in_channels, dil, filters, ks=3):\n",
    "        super(ResidualBlock, self).__init__()\n",
    "        self.bn1 = nn.BatchNorm1d(in_channels)\n",
    "        self.relu1 = nn.ReLU()\n",
    "        self.conv1 = nn.Conv1d(in_channels, filters, ks, padding=\"same\", dilation=dil)\n",
    "        \n",
    "        self.bn2 = nn.BatchNorm1d(filters)\n",
    "        self.relu2 = nn.ReLU()\n",
    "        self.conv2 = nn.Conv1d(filters, filters, ks, padding=\"same\")\n",
    "        \n",
    "    def forward(self, x):\n",
    "        shortcut = x\n",
    "        x = self.bn1(x)\n",
    "        x = self.relu1(x)\n",
    "        x = self.conv1(x)\n",
    "        \n",
    "        x = self.bn2(x)\n",
    "        x = self.relu2(x)\n",
    "        x = self.conv2(x)\n",
    "        \n",
    "        x += shortcut\n",
    "        return x\n",
    "\n",
    "\n",
    "class ProtCNN(nn.Module):\n",
    "    def __init__(self, numclass, inp_size, vocab_size, residuals_ks=3, residuals_filters=64):\n",
    "        super(ProtCNN, self).__init__()\n",
    "        self.embedding = nn.Embedding(vocab_size, vocab_size, padding_idx=None)\n",
    "        self.embedding.weight.data.copy_(torch.eye(vocab_size))\n",
    "        self.embedding.weight.requires_grad = False\n",
    "        self.conv1 = nn.Conv1d(inp_size, 64, 8, padding=\"same\")\n",
    "        \n",
    "        self.res_block1 = ResidualBlock(64, 1, residuals_filters, ks=residuals_ks)\n",
    "        self.res_block2 = ResidualBlock(residuals_filters, 2, residuals_filters, ks=residuals_ks)\n",
    "        \n",
    "        self.conv2 = nn.Conv1d(32, 64, 3, padding=1)\n",
    "        \n",
    "        self.res_block3 = ResidualBlock(64, 1, residuals_filters, ks=residuals_ks)\n",
    "        self.res_block4 = ResidualBlock(residuals_filters, 2, residuals_filters, ks=residuals_ks)\n",
    "        \n",
    "        self.conv3 = nn.Conv2d(1, 32, (4, 4), padding=\"same\")\n",
    "        self.conv4 = nn.Conv2d(32, 8, (8, 8), padding=\"same\")\n",
    "        self.maxpool = nn.MaxPool2d((64, 64))\n",
    "        self.fc = nn.Linear(8, numclass+1)\n",
    "\n",
    "    def forward(self, x):\n",
    "        x = self.embedding(x)\n",
    "        # x = x.permute(0, 2, 1)\n",
    "        x = self.conv1(x)\n",
    "        x = self.res_block1(x)\n",
    "        x = self.res_block2(x)\n",
    "        x = x.permute(0, 2, 1)\n",
    "        x = self.conv2(x)\n",
    "        x = self.res_block3(x)\n",
    "        x = self.res_block4(x)\n",
    "        x = x.unsqueeze(1)\n",
    "        x = self.conv3(x)\n",
    "        x = F.relu(x)\n",
    "        x = self.conv4(x)\n",
    "        x = F.relu(x)\n",
    "        x = self.maxpool(x)\n",
    "        x = x.view(x.size(0), -1)\n",
    "        x = self.fc(x)\n",
    "        #x = F.softmax(x, dim=1)\n",
    "        return x"
   ]
  },
  {
   "cell_type": "code",
   "execution_count": 24,
   "metadata": {},
   "outputs": [
    {
     "data": {
      "application/vnd.jupyter.widget-view+json": {
       "model_id": "2c0cdb692a1e47468f9ab347c2a40ce8",
       "version_major": 2,
       "version_minor": 0
      },
      "text/plain": [
       "  0%|          | 0/418 [00:00<?, ?it/s]"
      ]
     },
     "metadata": {},
     "output_type": "display_data"
    }
   ],
   "source": [
    "model_name = os.path.join(\"models\",\"protCNN1_ks=5.pt\")\n",
    "evaluate_model(torch.load(model_name), test_dl, metrics=[partial(f1_score, average=\"micro\"), accuracy_score, matthews_corrcoef])"
   ]
  },
  {
   "cell_type": "code",
   "execution_count": 35,
   "metadata": {},
   "outputs": [],
   "source": [
    "class ResidualBlock(nn.Module):\n",
    "    def __init__(self, in_channels, dil, filters, ks=3):\n",
    "        super(ResidualBlock, self).__init__()\n",
    "        self.bn1 = nn.BatchNorm1d(in_channels)\n",
    "        self.relu1 = nn.ReLU()\n",
    "        self.conv1 = nn.Conv1d(in_channels, filters, ks, padding=\"same\", dilation=dil)\n",
    "        \n",
    "        self.bn2 = nn.BatchNorm1d(filters)\n",
    "        self.relu2 = nn.ReLU()\n",
    "        self.conv2 = nn.Conv1d(filters, filters, ks, padding=\"same\")\n",
    "        \n",
    "    def forward(self, x):\n",
    "        shortcut = x\n",
    "        #print(x.shape)\n",
    "        x = self.bn1(x)\n",
    "        #print(x.shape)\n",
    "        x = self.relu1(x)\n",
    "        #print(x.shape)\n",
    "        x = self.conv1(x)\n",
    "        #print(x.shape)\n",
    "        \n",
    "        x = self.bn2(x)\n",
    "        #print(x.shape)\n",
    "        x = self.relu2(x)\n",
    "        #print(x.shape)\n",
    "        x = self.conv2(x)\n",
    "        \n",
    "        #print(x.shape, shortcut.shape)\n",
    "        x += shortcut\n",
    "        return x\n",
    "\n",
    "\n",
    "class ProtCNN2(nn.Module):\n",
    "    def __init__(self, numclass, inp_size, vocab_size, residuals_ks1=3, residuals_ks2=3, residuals_filters=64):\n",
    "        super(ProtCNN2, self).__init__()\n",
    "        self.embedding = nn.Embedding(vocab_size, vocab_size, padding_idx=None)\n",
    "        self.embedding.weight.data.copy_(torch.eye(vocab_size))\n",
    "        self.embedding.weight.requires_grad = False\n",
    "        self.conv1 = nn.Conv1d(inp_size, residuals_filters, 8, padding=\"same\")\n",
    "        \n",
    "        self.res_block1 = ResidualBlock(residuals_filters, 1, residuals_filters, ks=residuals_ks1)\n",
    "        self.res_block2 = ResidualBlock(residuals_filters, 1, residuals_filters, ks=residuals_ks1)\n",
    "        self.res_block3 = ResidualBlock(residuals_filters, 2, residuals_filters, ks=residuals_ks1)\n",
    "        \n",
    "        self.conv2 = nn.Conv1d(32, residuals_filters, 3, padding=1)\n",
    "        \n",
    "        self.res_block4 = ResidualBlock(residuals_filters, 1, residuals_filters, ks=residuals_ks2)\n",
    "        self.res_block5 = ResidualBlock(residuals_filters, 1, residuals_filters, ks=residuals_ks2)\n",
    "        self.res_block6 = ResidualBlock(residuals_filters, 2, residuals_filters, ks=residuals_ks2)\n",
    "        \n",
    "        self.conv3 = nn.Conv2d(1, 32, (4, 4), padding=\"same\")\n",
    "        self.conv4 = nn.Conv2d(32, 8, (8, 8), padding=\"same\")\n",
    "        self.maxpool = nn.MaxPool2d((residuals_filters, residuals_filters))\n",
    "        self.fc = nn.Linear(8, numclass+1)\n",
    "\n",
    "    def forward(self, x):\n",
    "        x = self.embedding(x)\n",
    "        # x = x.permute(0, 2, 1)\n",
    "        #print(x.shape)\n",
    "        x = self.conv1(x)\n",
    "        #print(x.shape)\n",
    "        x = self.res_block1(x)\n",
    "        #print(x.shape)\n",
    "        x = self.res_block2(x)\n",
    "        x = self.res_block3(x)\n",
    "        x = x.permute(0, 2, 1)\n",
    "        x = self.conv2(x)\n",
    "        x = self.res_block4(x)\n",
    "        x = self.res_block5(x)\n",
    "        x = self.res_block6(x)\n",
    "        x = x.unsqueeze(1)\n",
    "        x = self.conv3(x)\n",
    "        x = F.relu(x)\n",
    "        x = self.conv4(x)\n",
    "        #print(x.shape)\n",
    "        x = F.relu(x)\n",
    "        x = self.maxpool(x)\n",
    "        #print(x.shape)\n",
    "        x = x.view(x.size(0), -1)\n",
    "        x = self.fc(x)\n",
    "        #x = F.softmax(x, dim=1)\n",
    "        return x"
   ]
  },
  {
   "cell_type": "code",
   "execution_count": 44,
   "metadata": {},
   "outputs": [],
   "source": [
    "accelerator = Accelerator(mixed_precision=mixed_precision)\n",
    "device = accelerator.device"
   ]
  },
  {
   "cell_type": "code",
   "execution_count": 46,
   "metadata": {},
   "outputs": [],
   "source": [
    "model = ProtCNN2(n_families_of_interest, max_aminoacid_len + 2, 32, residuals_ks1=5, residuals_ks2=5, residuals_filters=128)\n",
    "model = model.to(\"cpu\")"
   ]
  },
  {
   "cell_type": "code",
   "execution_count": 48,
   "metadata": {},
   "outputs": [
    {
     "data": {
      "text/plain": [
       "tensor([[-0.2689, -0.2962,  0.0626,  ..., -0.2572,  0.0936, -0.1762],\n",
       "        [-0.2241, -0.3776,  0.0010,  ..., -0.2559,  0.1331, -0.1743],\n",
       "        [-0.2324, -0.3277,  0.0204,  ..., -0.1941,  0.0483, -0.1269],\n",
       "        ...,\n",
       "        [-0.2910, -0.2538,  0.0573,  ..., -0.2772,  0.0651, -0.2167],\n",
       "        [-0.2288, -0.3191, -0.0101,  ..., -0.2280,  0.0686, -0.1395],\n",
       "        [-0.2740, -0.2964,  0.0666,  ..., -0.2628,  0.0478, -0.1663]],\n",
       "       grad_fn=<AddmmBackward0>)"
      ]
     },
     "execution_count": 48,
     "metadata": {},
     "output_type": "execute_result"
    }
   ],
   "source": [
    "model(next(iter(test_dl))[0])"
   ]
  },
  {
   "cell_type": "code",
   "execution_count": 49,
   "metadata": {},
   "outputs": [
    {
     "data": {
      "text/plain": [
       "<All keys matched successfully>"
      ]
     },
     "execution_count": 49,
     "metadata": {},
     "output_type": "execute_result"
    }
   ],
   "source": [
    "model.load_state_dict(torch.load(os.path.join(\"models\", \"state_dict_ProtCNN2_ks=5_3residuals.pt\")))"
   ]
  },
  {
   "cell_type": "code",
   "execution_count": 51,
   "metadata": {},
   "outputs": [
    {
     "ename": "",
     "evalue": "",
     "output_type": "error",
     "traceback": [
      "\u001b[1;31mCanceled future for execute_request message before replies were done"
     ]
    },
    {
     "ename": "",
     "evalue": "",
     "output_type": "error",
     "traceback": [
      "\u001b[1;31mThe Kernel crashed while executing code in the the current cell or a previous cell. Please review the code in the cell(s) to identify a possible cause of the failure. Click <a href='https://aka.ms/vscodeJupyterKernelCrash'>here</a> for more info. View Jupyter <a href='command:jupyter.viewOutput'>log</a> for further details."
     ]
    }
   ],
   "source": [
    "model(next(iter(test_dl))[0])"
   ]
  },
  {
   "cell_type": "code",
   "execution_count": null,
   "metadata": {},
   "outputs": [
    {
     "data": {
      "application/vnd.jupyter.widget-view+json": {
       "model_id": "cb71f2000ba94199b771a41f3a2f83e8",
       "version_major": 2,
       "version_minor": 0
      },
      "text/plain": [
       "  0%|          | 0/418 [00:00<?, ?it/s]"
      ]
     },
     "metadata": {},
     "output_type": "display_data"
    },
    {
     "ename": "OutOfMemoryError",
     "evalue": "CUDA out of memory. Tried to allocate 256.00 MiB (GPU 0; 3.82 GiB total capacity; 1.74 GiB already allocated; 288.94 MiB free; 1.77 GiB reserved in total by PyTorch) If reserved memory is >> allocated memory try setting max_split_size_mb to avoid fragmentation.  See documentation for Memory Management and PYTORCH_CUDA_ALLOC_CONF",
     "output_type": "error",
     "traceback": [
      "\u001b[0;31m---------------------------------------------------------------------------\u001b[0m",
      "\u001b[0;31mOutOfMemoryError\u001b[0m                          Traceback (most recent call last)",
      "\u001b[0;32m/tmp/ipykernel_30234/1276372667.py\u001b[0m in \u001b[0;36m<module>\u001b[0;34m\u001b[0m\n\u001b[0;32m----> 1\u001b[0;31m \u001b[0mevaluate_model\u001b[0m\u001b[0;34m(\u001b[0m\u001b[0mmodel\u001b[0m\u001b[0;34m,\u001b[0m \u001b[0mtest_dl\u001b[0m\u001b[0;34m,\u001b[0m \u001b[0mmetrics\u001b[0m\u001b[0;34m=\u001b[0m\u001b[0;34m[\u001b[0m\u001b[0mpartial\u001b[0m\u001b[0;34m(\u001b[0m\u001b[0mf1_score\u001b[0m\u001b[0;34m,\u001b[0m \u001b[0maverage\u001b[0m\u001b[0;34m=\u001b[0m\u001b[0;34m\"micro\"\u001b[0m\u001b[0;34m)\u001b[0m\u001b[0;34m,\u001b[0m \u001b[0maccuracy_score\u001b[0m\u001b[0;34m,\u001b[0m \u001b[0mmatthews_corrcoef\u001b[0m\u001b[0;34m]\u001b[0m\u001b[0;34m)\u001b[0m\u001b[0;34m\u001b[0m\u001b[0;34m\u001b[0m\u001b[0m\n\u001b[0m",
      "\u001b[0;32m/tmp/ipykernel_30234/645308073.py\u001b[0m in \u001b[0;36mevaluate_model\u001b[0;34m(model, dataset, metrics, report_every)\u001b[0m\n\u001b[1;32m     11\u001b[0m     \u001b[0msource\u001b[0m \u001b[0;34m=\u001b[0m \u001b[0msource\u001b[0m\u001b[0;34m.\u001b[0m\u001b[0mto\u001b[0m\u001b[0;34m(\u001b[0m\u001b[0mdevice\u001b[0m\u001b[0;34m)\u001b[0m\u001b[0;34m\u001b[0m\u001b[0;34m\u001b[0m\u001b[0m\n\u001b[1;32m     12\u001b[0m     \u001b[0mtargets\u001b[0m \u001b[0;34m=\u001b[0m \u001b[0mtargets\u001b[0m\u001b[0;34m.\u001b[0m\u001b[0mto\u001b[0m\u001b[0;34m(\u001b[0m\u001b[0mdevice\u001b[0m\u001b[0;34m)\u001b[0m\u001b[0;34m\u001b[0m\u001b[0;34m\u001b[0m\u001b[0m\n\u001b[0;32m---> 13\u001b[0;31m     \u001b[0moutput\u001b[0m \u001b[0;34m=\u001b[0m \u001b[0mmodel\u001b[0m\u001b[0;34m(\u001b[0m\u001b[0msource\u001b[0m\u001b[0;34m)\u001b[0m\u001b[0;34m\u001b[0m\u001b[0;34m\u001b[0m\u001b[0m\n\u001b[0m\u001b[1;32m     14\u001b[0m     \u001b[0mloss\u001b[0m \u001b[0;34m=\u001b[0m \u001b[0mF\u001b[0m\u001b[0;34m.\u001b[0m\u001b[0mcross_entropy\u001b[0m\u001b[0;34m(\u001b[0m\u001b[0moutput\u001b[0m\u001b[0;34m,\u001b[0m \u001b[0mtargets\u001b[0m\u001b[0;34m)\u001b[0m\u001b[0;34m\u001b[0m\u001b[0;34m\u001b[0m\u001b[0m\n\u001b[1;32m     15\u001b[0m     \u001b[0mpred\u001b[0m \u001b[0;34m=\u001b[0m \u001b[0mtorch\u001b[0m\u001b[0;34m.\u001b[0m\u001b[0margmax\u001b[0m\u001b[0;34m(\u001b[0m\u001b[0moutput\u001b[0m\u001b[0;34m,\u001b[0m \u001b[0mdim\u001b[0m\u001b[0;34m=\u001b[0m\u001b[0;36m1\u001b[0m\u001b[0;34m)\u001b[0m\u001b[0;34m\u001b[0m\u001b[0;34m\u001b[0m\u001b[0m\n",
      "\u001b[0;32m~/.local/lib/python3.10/site-packages/torch/nn/modules/module.py\u001b[0m in \u001b[0;36m_call_impl\u001b[0;34m(self, *args, **kwargs)\u001b[0m\n\u001b[1;32m   1499\u001b[0m                 \u001b[0;32mor\u001b[0m \u001b[0m_global_backward_pre_hooks\u001b[0m \u001b[0;32mor\u001b[0m \u001b[0m_global_backward_hooks\u001b[0m\u001b[0;34m\u001b[0m\u001b[0;34m\u001b[0m\u001b[0m\n\u001b[1;32m   1500\u001b[0m                 or _global_forward_hooks or _global_forward_pre_hooks):\n\u001b[0;32m-> 1501\u001b[0;31m             \u001b[0;32mreturn\u001b[0m \u001b[0mforward_call\u001b[0m\u001b[0;34m(\u001b[0m\u001b[0;34m*\u001b[0m\u001b[0margs\u001b[0m\u001b[0;34m,\u001b[0m \u001b[0;34m**\u001b[0m\u001b[0mkwargs\u001b[0m\u001b[0;34m)\u001b[0m\u001b[0;34m\u001b[0m\u001b[0;34m\u001b[0m\u001b[0m\n\u001b[0m\u001b[1;32m   1502\u001b[0m         \u001b[0;31m# Do not call functions when jit is used\u001b[0m\u001b[0;34m\u001b[0m\u001b[0;34m\u001b[0m\u001b[0m\n\u001b[1;32m   1503\u001b[0m         \u001b[0mfull_backward_hooks\u001b[0m\u001b[0;34m,\u001b[0m \u001b[0mnon_full_backward_hooks\u001b[0m \u001b[0;34m=\u001b[0m \u001b[0;34m[\u001b[0m\u001b[0;34m]\u001b[0m\u001b[0;34m,\u001b[0m \u001b[0;34m[\u001b[0m\u001b[0;34m]\u001b[0m\u001b[0;34m\u001b[0m\u001b[0;34m\u001b[0m\u001b[0m\n",
      "\u001b[0;32m/tmp/ipykernel_30234/589677992.py\u001b[0m in \u001b[0;36mforward\u001b[0;34m(self, x)\u001b[0m\n\u001b[1;32m     70\u001b[0m         \u001b[0mx\u001b[0m \u001b[0;34m=\u001b[0m \u001b[0mself\u001b[0m\u001b[0;34m.\u001b[0m\u001b[0mres_block6\u001b[0m\u001b[0;34m(\u001b[0m\u001b[0mx\u001b[0m\u001b[0;34m)\u001b[0m\u001b[0;34m\u001b[0m\u001b[0;34m\u001b[0m\u001b[0m\n\u001b[1;32m     71\u001b[0m         \u001b[0mx\u001b[0m \u001b[0;34m=\u001b[0m \u001b[0mx\u001b[0m\u001b[0;34m.\u001b[0m\u001b[0munsqueeze\u001b[0m\u001b[0;34m(\u001b[0m\u001b[0;36m1\u001b[0m\u001b[0;34m)\u001b[0m\u001b[0;34m\u001b[0m\u001b[0;34m\u001b[0m\u001b[0m\n\u001b[0;32m---> 72\u001b[0;31m         \u001b[0mx\u001b[0m \u001b[0;34m=\u001b[0m \u001b[0mself\u001b[0m\u001b[0;34m.\u001b[0m\u001b[0mconv3\u001b[0m\u001b[0;34m(\u001b[0m\u001b[0mx\u001b[0m\u001b[0;34m)\u001b[0m\u001b[0;34m\u001b[0m\u001b[0;34m\u001b[0m\u001b[0m\n\u001b[0m\u001b[1;32m     73\u001b[0m         \u001b[0mx\u001b[0m \u001b[0;34m=\u001b[0m \u001b[0mF\u001b[0m\u001b[0;34m.\u001b[0m\u001b[0mrelu\u001b[0m\u001b[0;34m(\u001b[0m\u001b[0mx\u001b[0m\u001b[0;34m)\u001b[0m\u001b[0;34m\u001b[0m\u001b[0;34m\u001b[0m\u001b[0m\n\u001b[1;32m     74\u001b[0m         \u001b[0mx\u001b[0m \u001b[0;34m=\u001b[0m \u001b[0mself\u001b[0m\u001b[0;34m.\u001b[0m\u001b[0mconv4\u001b[0m\u001b[0;34m(\u001b[0m\u001b[0mx\u001b[0m\u001b[0;34m)\u001b[0m\u001b[0;34m\u001b[0m\u001b[0;34m\u001b[0m\u001b[0m\n",
      "\u001b[0;32m~/.local/lib/python3.10/site-packages/torch/nn/modules/module.py\u001b[0m in \u001b[0;36m_call_impl\u001b[0;34m(self, *args, **kwargs)\u001b[0m\n\u001b[1;32m   1499\u001b[0m                 \u001b[0;32mor\u001b[0m \u001b[0m_global_backward_pre_hooks\u001b[0m \u001b[0;32mor\u001b[0m \u001b[0m_global_backward_hooks\u001b[0m\u001b[0;34m\u001b[0m\u001b[0;34m\u001b[0m\u001b[0m\n\u001b[1;32m   1500\u001b[0m                 or _global_forward_hooks or _global_forward_pre_hooks):\n\u001b[0;32m-> 1501\u001b[0;31m             \u001b[0;32mreturn\u001b[0m \u001b[0mforward_call\u001b[0m\u001b[0;34m(\u001b[0m\u001b[0;34m*\u001b[0m\u001b[0margs\u001b[0m\u001b[0;34m,\u001b[0m \u001b[0;34m**\u001b[0m\u001b[0mkwargs\u001b[0m\u001b[0;34m)\u001b[0m\u001b[0;34m\u001b[0m\u001b[0;34m\u001b[0m\u001b[0m\n\u001b[0m\u001b[1;32m   1502\u001b[0m         \u001b[0;31m# Do not call functions when jit is used\u001b[0m\u001b[0;34m\u001b[0m\u001b[0;34m\u001b[0m\u001b[0m\n\u001b[1;32m   1503\u001b[0m         \u001b[0mfull_backward_hooks\u001b[0m\u001b[0;34m,\u001b[0m \u001b[0mnon_full_backward_hooks\u001b[0m \u001b[0;34m=\u001b[0m \u001b[0;34m[\u001b[0m\u001b[0;34m]\u001b[0m\u001b[0;34m,\u001b[0m \u001b[0;34m[\u001b[0m\u001b[0;34m]\u001b[0m\u001b[0;34m\u001b[0m\u001b[0;34m\u001b[0m\u001b[0m\n",
      "\u001b[0;32m~/.local/lib/python3.10/site-packages/torch/nn/modules/conv.py\u001b[0m in \u001b[0;36mforward\u001b[0;34m(self, input)\u001b[0m\n\u001b[1;32m    461\u001b[0m \u001b[0;34m\u001b[0m\u001b[0m\n\u001b[1;32m    462\u001b[0m     \u001b[0;32mdef\u001b[0m \u001b[0mforward\u001b[0m\u001b[0;34m(\u001b[0m\u001b[0mself\u001b[0m\u001b[0;34m,\u001b[0m \u001b[0minput\u001b[0m\u001b[0;34m:\u001b[0m \u001b[0mTensor\u001b[0m\u001b[0;34m)\u001b[0m \u001b[0;34m->\u001b[0m \u001b[0mTensor\u001b[0m\u001b[0;34m:\u001b[0m\u001b[0;34m\u001b[0m\u001b[0;34m\u001b[0m\u001b[0m\n\u001b[0;32m--> 463\u001b[0;31m         \u001b[0;32mreturn\u001b[0m \u001b[0mself\u001b[0m\u001b[0;34m.\u001b[0m\u001b[0m_conv_forward\u001b[0m\u001b[0;34m(\u001b[0m\u001b[0minput\u001b[0m\u001b[0;34m,\u001b[0m \u001b[0mself\u001b[0m\u001b[0;34m.\u001b[0m\u001b[0mweight\u001b[0m\u001b[0;34m,\u001b[0m \u001b[0mself\u001b[0m\u001b[0;34m.\u001b[0m\u001b[0mbias\u001b[0m\u001b[0;34m)\u001b[0m\u001b[0;34m\u001b[0m\u001b[0;34m\u001b[0m\u001b[0m\n\u001b[0m\u001b[1;32m    464\u001b[0m \u001b[0;34m\u001b[0m\u001b[0m\n\u001b[1;32m    465\u001b[0m \u001b[0;32mclass\u001b[0m \u001b[0mConv3d\u001b[0m\u001b[0;34m(\u001b[0m\u001b[0m_ConvNd\u001b[0m\u001b[0;34m)\u001b[0m\u001b[0;34m:\u001b[0m\u001b[0;34m\u001b[0m\u001b[0;34m\u001b[0m\u001b[0m\n",
      "\u001b[0;32m~/.local/lib/python3.10/site-packages/torch/nn/modules/conv.py\u001b[0m in \u001b[0;36m_conv_forward\u001b[0;34m(self, input, weight, bias)\u001b[0m\n\u001b[1;32m    457\u001b[0m                             \u001b[0mweight\u001b[0m\u001b[0;34m,\u001b[0m \u001b[0mbias\u001b[0m\u001b[0;34m,\u001b[0m \u001b[0mself\u001b[0m\u001b[0;34m.\u001b[0m\u001b[0mstride\u001b[0m\u001b[0;34m,\u001b[0m\u001b[0;34m\u001b[0m\u001b[0;34m\u001b[0m\u001b[0m\n\u001b[1;32m    458\u001b[0m                             _pair(0), self.dilation, self.groups)\n\u001b[0;32m--> 459\u001b[0;31m         return F.conv2d(input, weight, bias, self.stride,\n\u001b[0m\u001b[1;32m    460\u001b[0m                         self.padding, self.dilation, self.groups)\n\u001b[1;32m    461\u001b[0m \u001b[0;34m\u001b[0m\u001b[0m\n",
      "\u001b[0;31mOutOfMemoryError\u001b[0m: CUDA out of memory. Tried to allocate 256.00 MiB (GPU 0; 3.82 GiB total capacity; 1.74 GiB already allocated; 288.94 MiB free; 1.77 GiB reserved in total by PyTorch) If reserved memory is >> allocated memory try setting max_split_size_mb to avoid fragmentation.  See documentation for Memory Management and PYTORCH_CUDA_ALLOC_CONF"
     ]
    }
   ],
   "source": [
    "evaluate_model(model, test_dl, metrics=[partial(f1_score, average=\"micro\"), accuracy_score, matthews_corrcoef])"
   ]
  },
  {
   "cell_type": "code",
   "execution_count": null,
   "metadata": {},
   "outputs": [],
   "source": []
  }
 ],
 "metadata": {
  "kernelspec": {
   "display_name": "Python 3",
   "language": "python",
   "name": "python3"
  },
  "language_info": {
   "codemirror_mode": {
    "name": "ipython",
    "version": 3
   },
   "file_extension": ".py",
   "mimetype": "text/x-python",
   "name": "python",
   "nbconvert_exporter": "python",
   "pygments_lexer": "ipython3",
   "version": "3.10.6"
  },
  "orig_nbformat": 4
 },
 "nbformat": 4,
 "nbformat_minor": 2
}
