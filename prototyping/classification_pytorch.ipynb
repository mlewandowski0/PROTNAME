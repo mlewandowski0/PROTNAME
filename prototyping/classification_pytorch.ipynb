{
  "nbformat": 4,
  "nbformat_minor": 0,
  "metadata": {
    "colab": {
      "provenance": [],
      "machine_shape": "hm"
    },
    "kernelspec": {
      "name": "python3",
      "display_name": "Python 3"
    },
    "language_info": {
      "name": "python"
    },
    "accelerator": "GPU",
    "gpuClass": "standard"
  },
  "cells": [
    {
      "cell_type": "markdown",
      "source": [
        "# Install dependenices"
      ],
      "metadata": {
        "id": "3eJoP3R9D30y"
      }
    },
    {
      "cell_type": "code",
      "execution_count": 1,
      "metadata": {
        "colab": {
          "base_uri": "https://localhost:8080/"
        },
        "id": "SDOrN2HvDnrK",
        "outputId": "bb8605fd-d330-46e9-d926-c46ad6067dd9"
      },
      "outputs": [
        {
          "output_type": "stream",
          "name": "stdout",
          "text": [
            "Looking in indexes: https://pypi.org/simple, https://us-python.pkg.dev/colab-wheels/public/simple/\n",
            "Collecting accelerate\n",
            "  Downloading accelerate-0.18.0-py3-none-any.whl (215 kB)\n",
            "\u001b[2K     \u001b[90m━━━━━━━━━━━━━━━━━━━━━━━━━━━━━━━━━━━━━━━\u001b[0m \u001b[32m215.3/215.3 kB\u001b[0m \u001b[31m5.1 MB/s\u001b[0m eta \u001b[36m0:00:00\u001b[0m\n",
            "\u001b[?25hRequirement already satisfied: pyyaml in /usr/local/lib/python3.9/dist-packages (from accelerate) (6.0)\n",
            "Requirement already satisfied: psutil in /usr/local/lib/python3.9/dist-packages (from accelerate) (5.9.5)\n",
            "Requirement already satisfied: numpy>=1.17 in /usr/local/lib/python3.9/dist-packages (from accelerate) (1.22.4)\n",
            "Requirement already satisfied: packaging>=20.0 in /usr/local/lib/python3.9/dist-packages (from accelerate) (23.1)\n",
            "Requirement already satisfied: torch>=1.4.0 in /usr/local/lib/python3.9/dist-packages (from accelerate) (2.0.0+cu118)\n",
            "Requirement already satisfied: typing-extensions in /usr/local/lib/python3.9/dist-packages (from torch>=1.4.0->accelerate) (4.5.0)\n",
            "Requirement already satisfied: filelock in /usr/local/lib/python3.9/dist-packages (from torch>=1.4.0->accelerate) (3.11.0)\n",
            "Requirement already satisfied: jinja2 in /usr/local/lib/python3.9/dist-packages (from torch>=1.4.0->accelerate) (3.1.2)\n",
            "Requirement already satisfied: sympy in /usr/local/lib/python3.9/dist-packages (from torch>=1.4.0->accelerate) (1.11.1)\n",
            "Requirement already satisfied: triton==2.0.0 in /usr/local/lib/python3.9/dist-packages (from torch>=1.4.0->accelerate) (2.0.0)\n",
            "Requirement already satisfied: networkx in /usr/local/lib/python3.9/dist-packages (from torch>=1.4.0->accelerate) (3.1)\n",
            "Requirement already satisfied: lit in /usr/local/lib/python3.9/dist-packages (from triton==2.0.0->torch>=1.4.0->accelerate) (16.0.1)\n",
            "Requirement already satisfied: cmake in /usr/local/lib/python3.9/dist-packages (from triton==2.0.0->torch>=1.4.0->accelerate) (3.25.2)\n",
            "Requirement already satisfied: MarkupSafe>=2.0 in /usr/local/lib/python3.9/dist-packages (from jinja2->torch>=1.4.0->accelerate) (2.1.2)\n",
            "Requirement already satisfied: mpmath>=0.19 in /usr/local/lib/python3.9/dist-packages (from sympy->torch>=1.4.0->accelerate) (1.3.0)\n",
            "Installing collected packages: accelerate\n",
            "Successfully installed accelerate-0.18.0\n",
            "Looking in indexes: https://pypi.org/simple, https://us-python.pkg.dev/colab-wheels/public/simple/\n",
            "Requirement already satisfied: scikit-learn in /usr/local/lib/python3.9/dist-packages (1.2.2)\n",
            "Requirement already satisfied: numpy>=1.17.3 in /usr/local/lib/python3.9/dist-packages (from scikit-learn) (1.22.4)\n",
            "Requirement already satisfied: threadpoolctl>=2.0.0 in /usr/local/lib/python3.9/dist-packages (from scikit-learn) (3.1.0)\n",
            "Requirement already satisfied: scipy>=1.3.2 in /usr/local/lib/python3.9/dist-packages (from scikit-learn) (1.10.1)\n",
            "Requirement already satisfied: joblib>=1.1.1 in /usr/local/lib/python3.9/dist-packages (from scikit-learn) (1.2.0)\n"
          ]
        }
      ],
      "source": [
        "!pip install accelerate\n",
        "!pip install scikit-learn\n",
        "!pip install -q tqdm\n",
        "!pip install -q scikit-learn \n",
        "!pip install -q pandas\n",
        "!pip install -q matplotlib "
      ]
    },
    {
      "cell_type": "markdown",
      "source": [
        "# Hyperparameters"
      ],
      "metadata": {
        "id": "2IKfay0WES1E"
      }
    },
    {
      "cell_type": "code",
      "source": [
        "import os\n",
        "file_id = '1w3IQMK3PmXH-Bq6Lt_P8wxGPvr5olrZT'\n",
        "destination = 'pfam.zip'\n",
        "n_families_of_interest = 50 # 3000\n",
        "data_dirpath = \"pfam\"\n",
        "os.makedirs(\"models\", exist_ok=True)\n",
        "vocab_size = 32\n",
        "max_aminoacid_len = 512\n",
        "batch_size = 32"
      ],
      "metadata": {
        "id": "AqKHHyvEEQ4P"
      },
      "execution_count": 2,
      "outputs": []
    },
    {
      "cell_type": "code",
      "source": [
        "import os\n",
        "import gc\n",
        "import tqdm\n",
        "import json\n",
        "import zipfile\n",
        "import requests\n",
        "import numpy as np\n",
        "import pandas as pd\n",
        "from functools import partial \n",
        "from collections import Counter\n",
        "import matplotlib.pyplot as plt\n",
        "from collections import Counter\n",
        "\n",
        "\n",
        "import torch\n",
        "import torch.nn as nn\n",
        "import torch.optim as optim\n",
        "from torch.nn.utils.rnn import pad_sequence\n",
        "from torch.utils.data import DataLoader, Dataset"
      ],
      "metadata": {
        "id": "mCd6Q7EWEU7_"
      },
      "execution_count": 3,
      "outputs": []
    },
    {
      "cell_type": "markdown",
      "source": [
        "# Utils"
      ],
      "metadata": {
        "id": "qO4Xtka8EjGd"
      }
    },
    {
      "cell_type": "code",
      "source": [
        "def format_size(value):\n",
        "  if value >= 1024**3:\n",
        "    return f\"{round(value / 1024**3 , 3)} GB\"\n",
        "  elif value >= 1024**2:\n",
        "    return f\"{round(value / 1024**2 , 3)} MB\"\n",
        "  elif value >= 1024:\n",
        "    return f\"{round(value / 1024 , 3)} KB\"\n",
        "  return f\"{value} B\"\n",
        "\n",
        "# Code taken from https://stackoverflow.com/questions/38511444/python-download-files-from-google-drive-using-url\n",
        "def download_file_from_google_drive(id, destination):\n",
        "    URL = \"https://docs.google.com/uc?export=download\"\n",
        "\n",
        "    session = requests.Session()\n",
        "\n",
        "    response = session.get(URL, params = { 'id' : id }, stream = True)\n",
        "    token = get_confirm_token(response)\n",
        "    params = { 'id' : id, 'confirm' : 1 }\n",
        "    response = session.get(URL, params = params, stream = True)\n",
        "\n",
        "    save_response_content(response, destination)    \n",
        "\n",
        "def get_confirm_token(response):\n",
        "    for key, value in response.cookies.items():\n",
        "        if key.startswith('download_warning'):\n",
        "            return value\n",
        "\n",
        "    return None\n",
        "\n",
        "def save_response_content(response, destination):\n",
        "    CHUNK_SIZE = 32768\n",
        "    \n",
        "    pb = tqdm.tqdm(response.iter_content(CHUNK_SIZE))\n",
        "    b_total = 0\n",
        "    with open(destination, \"wb\") as f:\n",
        "        for i,chunk in enumerate(pb):\n",
        "            if chunk: # filter out keep-alive new chunks\n",
        "                f.write(chunk)\n",
        "                b_total += len(chunk)\n",
        "\n",
        "                if i % 1000 == 0:\n",
        "                  pb.set_description(f\"written : {format_size(b_total)}\")\n",
        "                i += 1\n",
        "    print(\"\\n\")\n",
        "    print(f\"saved all the data to {destination}. total size : {format_size(os.stat(destination).st_size)}\")"
      ],
      "metadata": {
        "id": "iVtyIH6uEgLT"
      },
      "execution_count": 4,
      "outputs": []
    },
    {
      "cell_type": "markdown",
      "source": [
        "# Download Dataset"
      ],
      "metadata": {
        "id": "0nFpXxhOEkSB"
      }
    },
    {
      "cell_type": "code",
      "source": [
        "download_file_from_google_drive(file_id, destination)\n",
        "with zipfile.ZipFile(destination, 'r') as zip_ref:\n",
        "    zip_ref.extractall(\".\")\n",
        "!mv random_split pfam"
      ],
      "metadata": {
        "colab": {
          "base_uri": "https://localhost:8080/"
        },
        "id": "8y3Wd5JNEj1u",
        "outputId": "afd78eac-d2c8-435c-ac65-0e198f9b9d82"
      },
      "execution_count": 5,
      "outputs": [
        {
          "output_type": "stream",
          "name": "stderr",
          "text": [
            "written : 468.781 MB: : 15780it [00:04, 3452.97it/s]\n"
          ]
        },
        {
          "output_type": "stream",
          "name": "stdout",
          "text": [
            "\n",
            "\n",
            "saved all the data to pfam.zip. total size : 493.095 MB\n"
          ]
        }
      ]
    },
    {
      "cell_type": "code",
      "source": [
        "data_dirpath = \"pfam\"\n",
        "print('Available dataset partitions: ', os.listdir(data_dirpath))"
      ],
      "metadata": {
        "colab": {
          "base_uri": "https://localhost:8080/"
        },
        "id": "iXk3zAQpEnTH",
        "outputId": "921c5ec5-0d3b-4073-f980-618dbbba6480"
      },
      "execution_count": 6,
      "outputs": [
        {
          "output_type": "stream",
          "name": "stdout",
          "text": [
            "Available dataset partitions:  ['dev', 'train', 'test', 'random_split']\n"
          ]
        }
      ]
    },
    {
      "cell_type": "markdown",
      "source": [
        "# Create a raw dataset"
      ],
      "metadata": {
        "id": "xHfckalPEwdr"
      }
    },
    {
      "cell_type": "code",
      "source": [
        "def read_all_shards(partition='dev', data_dir = data_dirpath):\n",
        "    shards = []\n",
        "    for fn in os.listdir(os.path.join(data_dir, partition)):\n",
        "        with open(os.path.join(data_dir, partition, fn)) as f:\n",
        "            shards.append(pd.read_csv(f, index_col=None))\n",
        "    \n",
        "    return pd.concat(shards)\n",
        "\n",
        "def read_all_data_initial():\n",
        "  global train, test, dev, all_train_ds_size, all_test_ds_size, all_dev_ds_size\n",
        "\n",
        "  test = read_all_shards('test')\n",
        "  dev = read_all_shards('dev')\n",
        "  train = read_all_shards('train')\n",
        "\n",
        "  partitions = {'test': test, 'dev': dev, 'train': train}\n",
        "  for name, df in partitions.items():\n",
        "      print('Dataset partition \"%s\" has %d sequences' % (name, len(df)))\n",
        "\n",
        "  all_train_ds_size = len(train)\n",
        "  all_test_ds_size = len(test)\n",
        "  all_dev_ds_size = len(dev)\n",
        "\n",
        "  train.reset_index(inplace=True, drop=True)\n",
        "  dev.reset_index(inplace=True, drop=True)\n",
        "  test.reset_index(inplace=True, drop=True)\n",
        "\n",
        "read_all_data_initial()"
      ],
      "metadata": {
        "colab": {
          "base_uri": "https://localhost:8080/"
        },
        "id": "CVqQv-w3EoGj",
        "outputId": "19bde22d-b4e1-4da1-ca61-7d28be38a4ff"
      },
      "execution_count": 7,
      "outputs": [
        {
          "output_type": "stream",
          "name": "stdout",
          "text": [
            "Dataset partition \"test\" has 126171 sequences\n",
            "Dataset partition \"dev\" has 126171 sequences\n",
            "Dataset partition \"train\" has 1086741 sequences\n"
          ]
        }
      ]
    },
    {
      "cell_type": "markdown",
      "source": [
        "# Inspect the data"
      ],
      "metadata": {
        "id": "M4onubaXE8z4"
      }
    },
    {
      "cell_type": "code",
      "source": [
        "def plot_counts(data):\n",
        "\n",
        "    counter = Counter(data['family_accession'])\n",
        "    print(f\"how many labels : {len(counter)}\")\n",
        "    \n",
        "    datasetSize = len(data)\n",
        "    xs = []\n",
        "    x_labels = []\n",
        "    ys = []\n",
        "\n",
        "    t = 0\n",
        "    cumulative = []\n",
        "\n",
        "    for i,(x, y) in  enumerate(counter.most_common()):\n",
        "        xs.append(i)\n",
        "        x_labels.append(x)\n",
        "        ys.append(y)\n",
        "        t += y / datasetSize\n",
        "        cumulative.append(t)\n",
        "\n",
        "    plt.figure(figsize=(16 ,6))\n",
        "    plt.subplot(1, 2, 1)\n",
        "    plt.plot(xs, ys)\n",
        "    plt.yscale(\"log\")\n",
        "\n",
        "    plt.subplot(1, 2, 2)\n",
        "    plt.plot(xs, cumulative)\n",
        "    plt.yticks([0, 0.1, 0.2, 0.3, 0.4, 0.5, 0.6, 0.7, 0.8, 0.9, 1.])\n",
        "    plt.show()\n",
        "    return cumulative\n",
        "\n",
        "cumulative = plot_counts(train)"
      ],
      "metadata": {
        "colab": {
          "base_uri": "https://localhost:8080/",
          "height": 539
        },
        "id": "_Q5ZOi9QEynL",
        "outputId": "cf5cfa0a-9047-4316-dc12-cfa431fc64a2"
      },
      "execution_count": 8,
      "outputs": [
        {
          "output_type": "stream",
          "name": "stdout",
          "text": [
            "how many labels : 17929\n"
          ]
        },
        {
          "output_type": "display_data",
          "data": {
            "text/plain": [
              "<Figure size 1600x600 with 2 Axes>"
            ],
            "image/png": "[encoded data removed]"
          },
          "metadata": {}
        }
      ]
    },
    {
      "cell_type": "code",
      "source": [
        "print(f\"{n_families_of_interest} classes is {100 * round( cumulative[n_families_of_interest-1],3)} portion of training data\")"
      ],
      "metadata": {
        "colab": {
          "base_uri": "https://localhost:8080/"
        },
        "id": "brUykqKPE-De",
        "outputId": "1e92c87b-1c59-471c-aa8a-586514893210"
      },
      "execution_count": 9,
      "outputs": [
        {
          "output_type": "stream",
          "name": "stdout",
          "text": [
            "50 classes is 5.1 portion of training data\n"
          ]
        }
      ]
    },
    {
      "cell_type": "markdown",
      "source": [
        "# preprocess dataset"
      ],
      "metadata": {
        "id": "TYD26TrQFDBw"
      }
    },
    {
      "cell_type": "code",
      "source": [
        "familiesOfInterest = train.family_accession.value_counts()[:n_families_of_interest]\n",
        "\n",
        "mask = train.family_accession.isin(familiesOfInterest.index.values)\n",
        "train = train.loc[mask,:]\n",
        "mask = train[\"sequence\"].str.len() <= max_aminoacid_len\n",
        "train = train.loc[mask, :]\n",
        "\n",
        "mask = dev.family_accession.isin(familiesOfInterest.index.values)\n",
        "dev = dev.loc[mask,:]\n",
        "mask = dev[\"sequence\"].str.len() <= max_aminoacid_len\n",
        "dev = dev.loc[mask,:]\n",
        "\n",
        "mask = test.family_accession.isin(familiesOfInterest.index.values)\n",
        "test = test.loc[mask,:]\n",
        "mask = test[\"sequence\"].str.len() <= max_aminoacid_len\n",
        "test = test.loc[mask,:]\n",
        "\n",
        "cumulative_split = plot_counts(train)"
      ],
      "metadata": {
        "colab": {
          "base_uri": "https://localhost:8080/",
          "height": 539
        },
        "id": "ivpTZ-GZNmjN",
        "outputId": "36f0aa5b-474d-4117-97c8-a0242db4d95e"
      },
      "execution_count": 10,
      "outputs": [
        {
          "output_type": "stream",
          "name": "stdout",
          "text": [
            "how many labels : 50\n"
          ]
        },
        {
          "output_type": "display_data",
          "data": {
            "text/plain": [
              "<Figure size 1600x600 with 2 Axes>"
            ],
            "image/png": "[encoded data removed]"
          },
          "metadata": {}
        }
      ]
    },
    {
      "cell_type": "code",
      "source": [
        "train_seq = train['sequence']\n",
        "dev_seq = dev['sequence']\n",
        "test_seq = test['sequence']\n",
        "train_sentences = train_seq.apply(lambda seq: \" \".join([aa for aa in seq]))\n",
        "validation_sentences = dev_seq.apply(lambda seq: \" \".join([aa for aa in seq]))\n",
        "test_sentences = test_seq.apply(lambda seq: \" \".join([aa for aa in seq]))\n",
        "\n",
        "train_labels = train['family_accession'].apply(lambda x: x.split('.')[0])\n",
        "validation_labels = dev['family_accession'].apply(lambda x: x.split('.')[0])\n",
        "test_labels = test['family_accession'].apply(lambda x: x.split('.')[0])"
      ],
      "metadata": {
        "id": "TixcQU-zFBfY"
      },
      "execution_count": 11,
      "outputs": []
    },
    {
      "cell_type": "code",
      "source": [
        "train_sentences"
      ],
      "metadata": {
        "colab": {
          "base_uri": "https://localhost:8080/"
        },
        "id": "TuF1pE8DFkez",
        "outputId": "3685c50b-b913-46ba-9ab2-c41ee3f216fd"
      },
      "execution_count": 12,
      "outputs": [
        {
          "output_type": "execute_result",
          "data": {
            "text/plain": [
              "10                   S L K F L N F A Q N E F N G S I P E S V\n",
              "37         K R V I D I V F S I I G I V V L S P L M L A I ...\n",
              "62         L G Y W P V L A G R V V A G D Q R G R Q L G F ...\n",
              "103        S G A A I A A L F A G M G S A K G T S I A G Q ...\n",
              "116        F V L G L V A G S L S F G G A Y T A I P F V Q ...\n",
              "                                 ...                        \n",
              "1086685    Y D I I A K K R D G L A L S E E E I R F F V S ...\n",
              "1086688    R I Y L A S R S P R R A E L L H Q I G V A F V ...\n",
              "1086708    R Q V L A R L T G G D D L A R G Q A A W A M D ...\n",
              "1086729    I V T S V R K I N E Y I G I E I P A E R I I N ...\n",
              "1086740    L S T E H D T L E K Q L I E S F D T R V A A R ...\n",
              "Name: sequence, Length: 55216, dtype: object"
            ]
          },
          "metadata": {},
          "execution_count": 12
        }
      ]
    },
    {
      "cell_type": "code",
      "source": [
        "from tqdm import tqdm \n",
        " \n",
        "class Tokenizer(object):\n",
        "    def __init__(self, vocab_size, padding=512):\n",
        "        self.idx_to_token = {0: '<pad>', 1:'<s>', 2:'</s>', 3: '<unk>'}\n",
        "        self.token_to_idx = {k:j for j,k in self.idx_to_token.items()} \n",
        "        self.max_size = vocab_size\n",
        "        self.padding = padding + 2\n",
        "    \n",
        "    def __len__(self):\n",
        "        return len(self.token_to_idx)\n",
        "\n",
        "    @staticmethod\n",
        "    def tokenizer(text):\n",
        "        return [tok.lower().strip() for tok in text.split(' ')]\n",
        "    \n",
        "    def build_vocabulary(self, sentences):\n",
        "        idx = 4\n",
        "        frequencies = {}\n",
        "   \n",
        "        for sentence in tqdm(sentences):\n",
        "            for word in self.tokenizer(sentence):\n",
        "                if word not in frequencies.keys():\n",
        "                    frequencies[word]=1\n",
        "                else:\n",
        "                    frequencies[word]+=1\n",
        "                    \n",
        "        #limit vocab by removing low freq words\n",
        "        frequencies = {k:v for k,v in frequencies.items()} \n",
        "        \n",
        "        #limit vocab to the max_size specified\n",
        "        frequencies = dict(sorted(frequencies.items(), key = lambda x: -x[1])[:self.max_size-idx]) # idx =4 for pad, start, end , unk\n",
        "            \n",
        "        #create vocab\n",
        "        for word in frequencies.keys():\n",
        "            self.token_to_idx[word] = idx\n",
        "            self.idx_to_token[idx] = word\n",
        "            idx+=1\n",
        "            \n",
        "    def numericalize(self, text):\n",
        "        #tokenize text\n",
        "        tokenized_text = self.tokenizer(text)\n",
        "        numericalized_text = [self.token_to_idx[\"<s>\"]]\n",
        "        for token in tokenized_text:\n",
        "            if token in self.token_to_idx.keys():\n",
        "                numericalized_text.append(self.token_to_idx[token])\n",
        "            else: #out-of-vocab words are represented by UNK token index\n",
        "                numericalized_text.append(self.token_to_idx['<unk>'])\n",
        "        \n",
        "        numericalized_text.append(self.token_to_idx['</s>'])\n",
        "        if self.padding != -1:\n",
        "          numericalized_text = numericalized_text + [self.token_to_idx[\"<pad>\"]] * (self.padding - len(numericalized_text))\n",
        "\n",
        "        return np.array(numericalized_text)\n"
      ],
      "metadata": {
        "id": "OuhLHPhHFmXN"
      },
      "execution_count": 13,
      "outputs": []
    },
    {
      "cell_type": "code",
      "source": [
        "%%time\n",
        "tokenizer = Tokenizer(vocab_size)\n",
        "tokenizer.build_vocabulary(train_sentences)"
      ],
      "metadata": {
        "colab": {
          "base_uri": "https://localhost:8080/"
        },
        "id": "6MVg6477OT6J",
        "outputId": "0e25db9c-12d3-40a6-a960-d5a375dce99f"
      },
      "execution_count": 14,
      "outputs": [
        {
          "output_type": "stream",
          "name": "stderr",
          "text": [
            "100%|██████████| 55216/55216 [00:02<00:00, 25168.53it/s]"
          ]
        },
        {
          "output_type": "stream",
          "name": "stdout",
          "text": [
            "CPU times: user 2.2 s, sys: 15 ms, total: 2.22 s\n",
            "Wall time: 2.2 s\n"
          ]
        },
        {
          "output_type": "stream",
          "name": "stderr",
          "text": [
            "\n"
          ]
        }
      ]
    },
    {
      "cell_type": "code",
      "source": [
        "%%time\n",
        "train_sentences = train_sentences.apply(tokenizer.numericalize)\n",
        "validation_sentences = validation_sentences.apply(tokenizer.numericalize)\n",
        "test_sentences = test_sentences.apply(tokenizer.numericalize)"
      ],
      "metadata": {
        "colab": {
          "base_uri": "https://localhost:8080/"
        },
        "id": "E85omKBkIiCq",
        "outputId": "2ffb1aac-1801-4cae-8b14-a8ddbfb0b5a2"
      },
      "execution_count": 15,
      "outputs": [
        {
          "output_type": "stream",
          "name": "stdout",
          "text": [
            "CPU times: user 4.97 s, sys: 98.5 ms, total: 5.07 s\n",
            "Wall time: 5.05 s\n"
          ]
        }
      ]
    },
    {
      "cell_type": "code",
      "source": [
        "train_sentences = train_sentences.values\n",
        "validation_sentences = validation_sentences.values\n",
        "test_sentences = test_sentences.values"
      ],
      "metadata": {
        "id": "C_C3x9sTN5-M"
      },
      "execution_count": 16,
      "outputs": []
    },
    {
      "cell_type": "code",
      "source": [
        "print(Counter([len(v) for v in train_sentences]))\n",
        "print(Counter([len(v) for v in validation_sentences]))\n",
        "print(Counter([len(v) for v in test_sentences]))"
      ],
      "metadata": {
        "colab": {
          "base_uri": "https://localhost:8080/"
        },
        "id": "sypElN3aSsLN",
        "outputId": "2f8fb4f9-8281-4356-c264-4e28fc379859"
      },
      "execution_count": 17,
      "outputs": [
        {
          "output_type": "stream",
          "name": "stdout",
          "text": [
            "Counter({514: 55216})\n",
            "Counter({514: 6875})\n",
            "Counter({514: 6875})\n"
          ]
        }
      ]
    },
    {
      "cell_type": "code",
      "source": [
        "keys = Counter(train_labels.values).keys()\n",
        "family_id_to_val = {k : v for v, k in enumerate(keys)}\n",
        "\n",
        "train_labels = train_labels.map(family_id_to_val).values\n",
        "validation_labels = validation_labels.map(family_id_to_val).values\n",
        "test_labels = test_labels.map(family_id_to_val).values"
      ],
      "metadata": {
        "id": "iyJp80IBO5gj"
      },
      "execution_count": 18,
      "outputs": []
    },
    {
      "cell_type": "markdown",
      "source": [
        "# Pytorch dataset"
      ],
      "metadata": {
        "id": "W3O8yod-Q4_6"
      }
    },
    {
      "cell_type": "code",
      "source": [
        "class Aminoacid_dataset_train(Dataset):\n",
        "    def __init__(self):\n",
        "      pass\n",
        "\n",
        "    def __len__(self):\n",
        "        return len(train_sentences)\n",
        "\n",
        "    def __getitem__(self, index):\n",
        "        return torch.tensor(train_sentences[index]), torch.tensor(train_labels[index]) \n",
        "\n",
        "class Aminoacid_dataset_val(Dataset):\n",
        "    def __init__(self):\n",
        "      pass\n",
        "\n",
        "    def __len__(self):\n",
        "        return len(validation_sentences)\n",
        "\n",
        "    def __getitem__(self, index):\n",
        "        return torch.tensor(validation_sentences[index]), torch.tensor(validation_labels[index]) \n",
        "\n",
        "\n",
        "train_dataset = Aminoacid_dataset_train()\n",
        "val_dataset = Aminoacid_dataset_val()"
      ],
      "metadata": {
        "id": "FfFXHgW4RBSN"
      },
      "execution_count": 47,
      "outputs": []
    },
    {
      "cell_type": "code",
      "source": [
        "train_dl = DataLoader(train_dataset, batch_size=batch_size)\n",
        "val_dl = DataLoader(val_dataset, batch_size=batch_size)"
      ],
      "metadata": {
        "id": "z_rt_DXDU4rD"
      },
      "execution_count": 48,
      "outputs": []
    },
    {
      "cell_type": "code",
      "source": [
        "import torch.nn as nn \n",
        "from torchsummary import summary\n",
        "\n",
        "device = torch.device(\"cuda:0\" if torch.cuda.is_available() else \"cpu\")\n",
        "\n",
        "    \n",
        "class residualBlock(nn.Module):\n",
        "    def __init__(self, filters, dilation_rate=1):\n",
        "        super(residualBlock, self).__init__()\n",
        "        self.bn1 = nn.BatchNorm1d(filters)\n",
        "        self.activ1 = nn.ReLU()\n",
        "        self.conv1 = nn.Conv1d(filters, filters, kernel_size=3, dilation=dilation_rate, padding=\"same\")\n",
        "        \n",
        "        self.bn2 = nn.BatchNorm1d(filters)\n",
        "        self.activ2 = nn.ReLU()\n",
        "        self.conv2 = nn.Conv1d(filters, filters, 1, padding=\"same\")\n",
        "        \n",
        "    def forward(self, x):\n",
        "        \n",
        "        fwd = self.bn1(x)\n",
        "        #print(fwd.shape)\n",
        "        fwd = self.activ1(fwd)\n",
        "        #print(fwd.shape)\n",
        "        fwd = self.conv1(fwd)\n",
        "        #print(fwd.shape)\n",
        "        fwd = self.bn2(fwd)\n",
        "        #print(fwd.shape)\n",
        "        fwd = self.activ2(fwd)\n",
        "        #print(fwd.shape)\n",
        "        fwd = self.conv2(fwd)\n",
        "        #print(fwd.shape)\n",
        "        return x + fwd\n",
        "        \n",
        "\n",
        "class ProtCNN(nn.Module):\n",
        "    def __init__(self, input_size, num_classes):\n",
        "        super(ProtCNN, self).__init__()\n",
        "        self.embedding = nn.Embedding(vocab_size, vocab_size)\n",
        "        self.initial_conv = nn.Conv1d(input_size, 64, 8, padding=\"same\")\n",
        "        self.res1 = residualBlock(64, 1)\n",
        "        self.res2 = residualBlock(64, 2)\n",
        "        self.conv2 = nn.Conv1d(vocab_size, 64, 3, padding=\"same\")\n",
        "        self.res3 = residualBlock(64, 1)\n",
        "        self.res4 = residualBlock(64, 2)\n",
        "        \n",
        "        self.conv3  = nn.Conv2d(1, 32, 4, padding=\"same\")\n",
        "        self.activ3 = nn.ReLU()\n",
        "        self.conv4  = nn.Conv2d(32, 8, 8, padding=\"same\")\n",
        "        self.activ4 = nn.ReLU()\n",
        "\n",
        "        self.pool = nn.MaxPool2d(64)\n",
        "        self.logits = nn.Linear(8, num_classes)\n",
        "        self.head = nn.Softmax()\n",
        "    \n",
        "    def forward(self, x):\n",
        "        x = self.embedding(x)\n",
        "        #x = x.permute(0, 2, 1)\n",
        "        #print(x.shape)\n",
        "        #raise\n",
        "        x = self.initial_conv(x)\n",
        "        #print(x.shape)\n",
        "        x = self.res1(x)\n",
        "        #print(x.shape)\n",
        "        x = self.res2(x)\n",
        "        #print(x.shape)\n",
        "        x = x.permute(0, 2, 1)\n",
        "        #print(x.shape)\n",
        "        x = self.conv2(x)\n",
        "        #print(x.shape)\n",
        "        x = self.res3(x)\n",
        "        #print(x.shape)\n",
        "        x = self.res4(x)\n",
        "        #print(x.shape)\n",
        "        x = x.reshape(-1, 1, 64, 64)\n",
        "        #print(x.shape)\n",
        "        x = self.conv3(x)\n",
        "        #print(x.shape)\n",
        "        x = self.activ3(x)\n",
        "        #print(x.shape)\n",
        "        x = self.conv4(x)\n",
        "        #print(x.shape)\n",
        "        x = self.activ4(x)\n",
        "        #print(x.shape)\n",
        "        x = self.pool(x)\n",
        "        #print(x.shape)\n",
        "        x = x.reshape(-1, 8)\n",
        "        #print(x.shape)\n",
        "        return self.logits(x)\n",
        "    \n",
        "model = ProtCNN(514, n_families_of_interest)\n",
        "model = model.to(device)\n",
        "\n",
        "y = model(torch.zeros((1, 514)).long().to(device))"
      ],
      "metadata": {
        "id": "aF4LbFVuWBJB"
      },
      "execution_count": 66,
      "outputs": []
    },
    {
      "cell_type": "code",
      "source": [
        "class ResidualBlock(nn.Module):\n",
        "    def __init__(self, in_channels, dil, filters, ks=3):\n",
        "        super(ResidualBlock, self).__init__()\n",
        "        self.bn1 = nn.BatchNorm1d(in_channels)\n",
        "        self.relu1 = nn.ReLU()\n",
        "        self.conv1 = nn.Conv1d(in_channels, filters, ks, padding=\"same\", dilation=dil)\n",
        "        \n",
        "        self.bn2 = nn.BatchNorm1d(filters)\n",
        "        self.relu2 = nn.ReLU()\n",
        "        self.conv2 = nn.Conv1d(filters, filters, ks, padding=\"same\")\n",
        "        \n",
        "    def forward(self, x):\n",
        "        shortcut = x\n",
        "        x = self.bn1(x)\n",
        "        x = self.relu1(x)\n",
        "        x = self.conv1(x)\n",
        "        \n",
        "        x = self.bn2(x)\n",
        "        x = self.relu2(x)\n",
        "        x = self.conv2(x)\n",
        "        \n",
        "        x += shortcut\n",
        "        return x\n",
        "\n",
        "\n",
        "class ProtCNN(nn.Module):\n",
        "    def __init__(self, numclass, inp_size, vocab_size, residuals_ks=3, residuals_filters=64):\n",
        "        super(ProtCNN, self).__init__()\n",
        "        self.embedding = nn.Embedding(vocab_size, vocab_size, padding_idx=None)\n",
        "        self.embedding.weight.data.copy_(torch.eye(vocab_size))\n",
        "        self.embedding.weight.requires_grad = False\n",
        "        self.conv1 = nn.Conv1d(inp_size, 64, 8, padding=\"same\")\n",
        "        \n",
        "        self.res_block1 = ResidualBlock(64, 1, residuals_filters, ks=residuals_ks)\n",
        "        self.res_block2 = ResidualBlock(residuals_filters, 2, residuals_filters, ks=residuals_ks)\n",
        "        \n",
        "        self.conv2 = nn.Conv1d(32, 64, 3, padding=1)\n",
        "        \n",
        "        self.res_block3 = ResidualBlock(64, 1, residuals_filters, ks=residuals_ks)\n",
        "        self.res_block4 = ResidualBlock(residuals_filters, 2, residuals_filters, ks=residuals_ks)\n",
        "        \n",
        "        self.conv3 = nn.Conv2d(1, 32, (4, 4), padding=\"same\")\n",
        "        self.conv4 = nn.Conv2d(32, 8, (8, 8), padding=\"same\")\n",
        "        self.maxpool = nn.MaxPool2d((64, 64))\n",
        "        self.fc = nn.Linear(8, numclass + 1)\n",
        "\n",
        "    def forward(self, x):\n",
        "        x = self.embedding(x)\n",
        "        # x = x.permute(0, 2, 1)\n",
        "        x = self.conv1(x)\n",
        "        x = self.res_block1(x)\n",
        "        x = self.res_block2(x)\n",
        "        x = x.permute(0, 2, 1)\n",
        "        x = self.conv2(x)\n",
        "        x = self.res_block3(x)\n",
        "        x = self.res_block4(x)\n",
        "        x = x.unsqueeze(1)\n",
        "        x = self.conv3(x)\n",
        "        x = F.relu(x)\n",
        "        x = self.conv4(x)\n",
        "        x = F.relu(x)\n",
        "        x = self.maxpool(x)\n",
        "        x = x.view(x.size(0), -1)\n",
        "        x = self.fc(x)\n",
        "        #x = F.softmax(x, dim=1)\n",
        "        return x\n",
        "\n",
        "model = ProtCNN(n_families_of_interest, 514, 32)\n",
        "model = model.to(device)\n",
        "\n",
        "y = model(torch.zeros((1, 514)).long().to(device))"
      ],
      "metadata": {
        "id": "AXn63NdNnukq"
      },
      "execution_count": 92,
      "outputs": []
    },
    {
      "cell_type": "code",
      "source": [
        "import torch\n",
        "import torch.nn.functional as F\n",
        "from accelerate import Accelerator\n",
        "\n",
        "accelerator = Accelerator()\n",
        "device = accelerator.device\n",
        "\n",
        "optimizer = torch.optim.Adam(model.parameters())\n",
        "model, optimizer, data = accelerator.prepare(model, optimizer, train_dl)\n",
        "#scheduler = torch.optim.lr_scheduler.CyclicLR(optimizer, base_lr=1e-4, max_lr=1e-3, cycle_momentum=False, \n",
        "#                                              gamma = 0.95, step_size_up = len(train_dl))\n",
        "\n",
        "\n",
        "report_every = 100\n",
        "\n",
        "\n",
        "for epoch in range(4):\n",
        "  print(\"-\"*64)\n",
        "  pb = tqdm(train_dl)\n",
        "  model.train()\n",
        "  classified_correctly = 0\n",
        "  len_so_far = 0\n",
        "  for i, (source, targets) in enumerate(pb):\n",
        "    source = source.to(device)\n",
        "    targets = targets.to(device)\n",
        "    \n",
        "    optimizer.zero_grad()\n",
        "    output = model(source)\n",
        "    loss = F.cross_entropy(output, targets)\n",
        "    pred = torch.argmax(output, dim=1)\n",
        "    classified_correctly += torch.sum(pred == targets).item()\n",
        "    len_so_far += targets.shape[0]\n",
        "\n",
        "    accelerator.backward(loss)\n",
        "    optimizer.step()\n",
        "\n",
        "    if i % report_every == 0:\n",
        "      pb.set_description(f\"Loss : {round(loss.item(), 3)}, Accuracy : {round(classified_correctly / len_so_far, 4)}\")\n",
        "\n",
        "  pb = tqdm(val_dl)\n",
        "  model.eval()\n",
        "  classified_correctly = 0\n",
        "  for i, (source, targets) in enumerate(pb):\n",
        "    source = source.to(device)\n",
        "    targets = targets.to(device)\n",
        "    output = model(source)\n",
        "    pred = torch.argmax(output, dim=1)\n",
        "    classified_correctly += torch.sum(pred == targets).item()\n",
        "    #pb.set_description(f\"Loss : {round(loss.item(), 3)}\")\n",
        "\n",
        "  print(f\"\\nTotal accuracy for epoch {epoch} was {classified_correctly / len(val_dataset)}\")\n",
        "  optimizer.zero_grad()"
      ],
      "metadata": {
        "colab": {
          "base_uri": "https://localhost:8080/"
        },
        "id": "3RdRM-IqX9fk",
        "outputId": "0f71bf99-01e7-42c1-8c2a-15e4494fe208"
      },
      "execution_count": null,
      "outputs": [
        {
          "output_type": "stream",
          "name": "stdout",
          "text": [
            "----------------------------------------------------------------\n"
          ]
        },
        {
          "output_type": "stream",
          "name": "stderr",
          "text": [
            "Loss : 0.389, Accuracy : 0.6237: 100%|██████████| 1726/1726 [00:50<00:00, 34.29it/s]\n",
            "100%|██████████| 215/215 [00:01<00:00, 198.01it/s]\n"
          ]
        },
        {
          "output_type": "stream",
          "name": "stdout",
          "text": [
            "\n",
            "Total accuracy for epoch 0 was 0.8641454545454545\n",
            "----------------------------------------------------------------\n"
          ]
        },
        {
          "output_type": "stream",
          "name": "stderr",
          "text": [
            "Loss : 0.197, Accuracy : 0.9164:  97%|█████████▋| 1676/1726 [00:48<00:01, 34.61it/s]"
          ]
        }
      ]
    },
    {
      "cell_type": "code",
      "source": [
        "  "
      ],
      "metadata": {
        "id": "XGxhG48Lexhf"
      },
      "execution_count": null,
      "outputs": []
    }
  ]
}