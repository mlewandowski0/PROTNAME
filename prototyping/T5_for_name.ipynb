{
  "nbformat": 4,
  "nbformat_minor": 0,
  "metadata": {
    "colab": {
      "provenance": [],
      "machine_shape": "hm"
    },
    "kernelspec": {
      "name": "python3",
      "display_name": "Python 3"
    },
    "language_info": {
      "name": "python"
    },
    "gpuClass": "standard",
    "widgets": {
      "application/vnd.jupyter.widget-state+json": {
        "0de8bb85911b427d8294a81d94939ce4": {
          "model_module": "@jupyter-widgets/controls",
          "model_name": "HBoxModel",
          "model_module_version": "1.5.0",
          "state": {
            "_dom_classes": [],
            "_model_module": "@jupyter-widgets/controls",
            "_model_module_version": "1.5.0",
            "_model_name": "HBoxModel",
            "_view_count": null,
            "_view_module": "@jupyter-widgets/controls",
            "_view_module_version": "1.5.0",
            "_view_name": "HBoxView",
            "box_style": "",
            "children": [
              "IPY_MODEL_cd698668f6984461956d307c4cbce5cc",
              "IPY_MODEL_99170237c3444b13a432b8c374fc1473",
              "IPY_MODEL_43cf4edef7a043928b9508bde88b9374"
            ],
            "layout": "IPY_MODEL_443cfdca91394190a0c800b1e1e654eb"
          }
        },
        "cd698668f6984461956d307c4cbce5cc": {
          "model_module": "@jupyter-widgets/controls",
          "model_name": "HTMLModel",
          "model_module_version": "1.5.0",
          "state": {
            "_dom_classes": [],
            "_model_module": "@jupyter-widgets/controls",
            "_model_module_version": "1.5.0",
            "_model_name": "HTMLModel",
            "_view_count": null,
            "_view_module": "@jupyter-widgets/controls",
            "_view_module_version": "1.5.0",
            "_view_name": "HTMLView",
            "description": "",
            "description_tooltip": null,
            "layout": "IPY_MODEL_71b09a2f29c44961b792ddf69ea8f150",
            "placeholder": "​",
            "style": "IPY_MODEL_99599d201e274dacb4d8c0dc8ffb80b9",
            "value": "  0%"
          }
        },
        "99170237c3444b13a432b8c374fc1473": {
          "model_module": "@jupyter-widgets/controls",
          "model_name": "FloatProgressModel",
          "model_module_version": "1.5.0",
          "state": {
            "_dom_classes": [],
            "_model_module": "@jupyter-widgets/controls",
            "_model_module_version": "1.5.0",
            "_model_name": "FloatProgressModel",
            "_view_count": null,
            "_view_module": "@jupyter-widgets/controls",
            "_view_module_version": "1.5.0",
            "_view_name": "ProgressView",
            "bar_style": "",
            "description": "",
            "description_tooltip": null,
            "layout": "IPY_MODEL_2106053b50d844a5a4b0b466a5614841",
            "max": 198,
            "min": 0,
            "orientation": "horizontal",
            "style": "IPY_MODEL_971715e9020f4f68ab3a4f024c7e85bb",
            "value": 0
          }
        },
        "43cf4edef7a043928b9508bde88b9374": {
          "model_module": "@jupyter-widgets/controls",
          "model_name": "HTMLModel",
          "model_module_version": "1.5.0",
          "state": {
            "_dom_classes": [],
            "_model_module": "@jupyter-widgets/controls",
            "_model_module_version": "1.5.0",
            "_model_name": "HTMLModel",
            "_view_count": null,
            "_view_module": "@jupyter-widgets/controls",
            "_view_module_version": "1.5.0",
            "_view_name": "HTMLView",
            "description": "",
            "description_tooltip": null,
            "layout": "IPY_MODEL_3d217e7538a049be9fb50bacf859e9ac",
            "placeholder": "​",
            "style": "IPY_MODEL_2fe2f7b256874bf384386a4fa5123ea3",
            "value": " 0/198 [00:00&lt;?, ?it/s]"
          }
        },
        "443cfdca91394190a0c800b1e1e654eb": {
          "model_module": "@jupyter-widgets/base",
          "model_name": "LayoutModel",
          "model_module_version": "1.2.0",
          "state": {
            "_model_module": "@jupyter-widgets/base",
            "_model_module_version": "1.2.0",
            "_model_name": "LayoutModel",
            "_view_count": null,
            "_view_module": "@jupyter-widgets/base",
            "_view_module_version": "1.2.0",
            "_view_name": "LayoutView",
            "align_content": null,
            "align_items": null,
            "align_self": null,
            "border": null,
            "bottom": null,
            "display": null,
            "flex": null,
            "flex_flow": null,
            "grid_area": null,
            "grid_auto_columns": null,
            "grid_auto_flow": null,
            "grid_auto_rows": null,
            "grid_column": null,
            "grid_gap": null,
            "grid_row": null,
            "grid_template_areas": null,
            "grid_template_columns": null,
            "grid_template_rows": null,
            "height": null,
            "justify_content": null,
            "justify_items": null,
            "left": null,
            "margin": null,
            "max_height": null,
            "max_width": null,
            "min_height": null,
            "min_width": null,
            "object_fit": null,
            "object_position": null,
            "order": null,
            "overflow": null,
            "overflow_x": null,
            "overflow_y": null,
            "padding": null,
            "right": null,
            "top": null,
            "visibility": null,
            "width": null
          }
        },
        "71b09a2f29c44961b792ddf69ea8f150": {
          "model_module": "@jupyter-widgets/base",
          "model_name": "LayoutModel",
          "model_module_version": "1.2.0",
          "state": {
            "_model_module": "@jupyter-widgets/base",
            "_model_module_version": "1.2.0",
            "_model_name": "LayoutModel",
            "_view_count": null,
            "_view_module": "@jupyter-widgets/base",
            "_view_module_version": "1.2.0",
            "_view_name": "LayoutView",
            "align_content": null,
            "align_items": null,
            "align_self": null,
            "border": null,
            "bottom": null,
            "display": null,
            "flex": null,
            "flex_flow": null,
            "grid_area": null,
            "grid_auto_columns": null,
            "grid_auto_flow": null,
            "grid_auto_rows": null,
            "grid_column": null,
            "grid_gap": null,
            "grid_row": null,
            "grid_template_areas": null,
            "grid_template_columns": null,
            "grid_template_rows": null,
            "height": null,
            "justify_content": null,
            "justify_items": null,
            "left": null,
            "margin": null,
            "max_height": null,
            "max_width": null,
            "min_height": null,
            "min_width": null,
            "object_fit": null,
            "object_position": null,
            "order": null,
            "overflow": null,
            "overflow_x": null,
            "overflow_y": null,
            "padding": null,
            "right": null,
            "top": null,
            "visibility": null,
            "width": null
          }
        },
        "99599d201e274dacb4d8c0dc8ffb80b9": {
          "model_module": "@jupyter-widgets/controls",
          "model_name": "DescriptionStyleModel",
          "model_module_version": "1.5.0",
          "state": {
            "_model_module": "@jupyter-widgets/controls",
            "_model_module_version": "1.5.0",
            "_model_name": "DescriptionStyleModel",
            "_view_count": null,
            "_view_module": "@jupyter-widgets/base",
            "_view_module_version": "1.2.0",
            "_view_name": "StyleView",
            "description_width": ""
          }
        },
        "2106053b50d844a5a4b0b466a5614841": {
          "model_module": "@jupyter-widgets/base",
          "model_name": "LayoutModel",
          "model_module_version": "1.2.0",
          "state": {
            "_model_module": "@jupyter-widgets/base",
            "_model_module_version": "1.2.0",
            "_model_name": "LayoutModel",
            "_view_count": null,
            "_view_module": "@jupyter-widgets/base",
            "_view_module_version": "1.2.0",
            "_view_name": "LayoutView",
            "align_content": null,
            "align_items": null,
            "align_self": null,
            "border": null,
            "bottom": null,
            "display": null,
            "flex": null,
            "flex_flow": null,
            "grid_area": null,
            "grid_auto_columns": null,
            "grid_auto_flow": null,
            "grid_auto_rows": null,
            "grid_column": null,
            "grid_gap": null,
            "grid_row": null,
            "grid_template_areas": null,
            "grid_template_columns": null,
            "grid_template_rows": null,
            "height": null,
            "justify_content": null,
            "justify_items": null,
            "left": null,
            "margin": null,
            "max_height": null,
            "max_width": null,
            "min_height": null,
            "min_width": null,
            "object_fit": null,
            "object_position": null,
            "order": null,
            "overflow": null,
            "overflow_x": null,
            "overflow_y": null,
            "padding": null,
            "right": null,
            "top": null,
            "visibility": null,
            "width": null
          }
        },
        "971715e9020f4f68ab3a4f024c7e85bb": {
          "model_module": "@jupyter-widgets/controls",
          "model_name": "ProgressStyleModel",
          "model_module_version": "1.5.0",
          "state": {
            "_model_module": "@jupyter-widgets/controls",
            "_model_module_version": "1.5.0",
            "_model_name": "ProgressStyleModel",
            "_view_count": null,
            "_view_module": "@jupyter-widgets/base",
            "_view_module_version": "1.2.0",
            "_view_name": "StyleView",
            "bar_color": null,
            "description_width": ""
          }
        },
        "3d217e7538a049be9fb50bacf859e9ac": {
          "model_module": "@jupyter-widgets/base",
          "model_name": "LayoutModel",
          "model_module_version": "1.2.0",
          "state": {
            "_model_module": "@jupyter-widgets/base",
            "_model_module_version": "1.2.0",
            "_model_name": "LayoutModel",
            "_view_count": null,
            "_view_module": "@jupyter-widgets/base",
            "_view_module_version": "1.2.0",
            "_view_name": "LayoutView",
            "align_content": null,
            "align_items": null,
            "align_self": null,
            "border": null,
            "bottom": null,
            "display": null,
            "flex": null,
            "flex_flow": null,
            "grid_area": null,
            "grid_auto_columns": null,
            "grid_auto_flow": null,
            "grid_auto_rows": null,
            "grid_column": null,
            "grid_gap": null,
            "grid_row": null,
            "grid_template_areas": null,
            "grid_template_columns": null,
            "grid_template_rows": null,
            "height": null,
            "justify_content": null,
            "justify_items": null,
            "left": null,
            "margin": null,
            "max_height": null,
            "max_width": null,
            "min_height": null,
            "min_width": null,
            "object_fit": null,
            "object_position": null,
            "order": null,
            "overflow": null,
            "overflow_x": null,
            "overflow_y": null,
            "padding": null,
            "right": null,
            "top": null,
            "visibility": null,
            "width": null
          }
        },
        "2fe2f7b256874bf384386a4fa5123ea3": {
          "model_module": "@jupyter-widgets/controls",
          "model_name": "DescriptionStyleModel",
          "model_module_version": "1.5.0",
          "state": {
            "_model_module": "@jupyter-widgets/controls",
            "_model_module_version": "1.5.0",
            "_model_name": "DescriptionStyleModel",
            "_view_count": null,
            "_view_module": "@jupyter-widgets/base",
            "_view_module_version": "1.2.0",
            "_view_name": "StyleView",
            "description_width": ""
          }
        }
      }
    }
  },
  "cells": [
    {
      "cell_type": "code",
      "execution_count": 27,
      "metadata": {
        "colab": {
          "base_uri": "https://localhost:8080/"
        },
        "id": "KMTa-R8A6jiI",
        "outputId": "055e3f68-aac1-4757-ca16-c9333a94bd25"
      },
      "outputs": [
        {
          "output_type": "stream",
          "name": "stdout",
          "text": [
            "Looking in indexes: https://pypi.org/simple, https://us-python.pkg.dev/colab-wheels/public/simple/\n",
            "Requirement already satisfied: transformers in /usr/local/lib/python3.9/dist-packages (4.28.1)\n",
            "Requirement already satisfied: datasets in /usr/local/lib/python3.9/dist-packages (2.11.0)\n",
            "Requirement already satisfied: huggingface-hub<1.0,>=0.11.0 in /usr/local/lib/python3.9/dist-packages (from transformers) (0.13.4)\n",
            "Requirement already satisfied: filelock in /usr/local/lib/python3.9/dist-packages (from transformers) (3.11.0)\n",
            "Requirement already satisfied: numpy>=1.17 in /usr/local/lib/python3.9/dist-packages (from transformers) (1.22.4)\n",
            "Requirement already satisfied: packaging>=20.0 in /usr/local/lib/python3.9/dist-packages (from transformers) (23.1)\n",
            "Requirement already satisfied: requests in /usr/local/lib/python3.9/dist-packages (from transformers) (2.27.1)\n",
            "Requirement already satisfied: regex!=2019.12.17 in /usr/local/lib/python3.9/dist-packages (from transformers) (2022.10.31)\n",
            "Requirement already satisfied: tokenizers!=0.11.3,<0.14,>=0.11.1 in /usr/local/lib/python3.9/dist-packages (from transformers) (0.13.3)\n",
            "Requirement already satisfied: tqdm>=4.27 in /usr/local/lib/python3.9/dist-packages (from transformers) (4.65.0)\n",
            "Requirement already satisfied: pyyaml>=5.1 in /usr/local/lib/python3.9/dist-packages (from transformers) (6.0)\n",
            "Requirement already satisfied: pyarrow>=8.0.0 in /usr/local/lib/python3.9/dist-packages (from datasets) (9.0.0)\n",
            "Requirement already satisfied: multiprocess in /usr/local/lib/python3.9/dist-packages (from datasets) (0.70.14)\n",
            "Requirement already satisfied: responses<0.19 in /usr/local/lib/python3.9/dist-packages (from datasets) (0.18.0)\n",
            "Requirement already satisfied: fsspec[http]>=2021.11.1 in /usr/local/lib/python3.9/dist-packages (from datasets) (2023.4.0)\n",
            "Requirement already satisfied: aiohttp in /usr/local/lib/python3.9/dist-packages (from datasets) (3.8.4)\n",
            "Requirement already satisfied: dill<0.3.7,>=0.3.0 in /usr/local/lib/python3.9/dist-packages (from datasets) (0.3.6)\n",
            "Requirement already satisfied: xxhash in /usr/local/lib/python3.9/dist-packages (from datasets) (3.2.0)\n",
            "Requirement already satisfied: pandas in /usr/local/lib/python3.9/dist-packages (from datasets) (1.5.3)\n",
            "Requirement already satisfied: multidict<7.0,>=4.5 in /usr/local/lib/python3.9/dist-packages (from aiohttp->datasets) (6.0.4)\n",
            "Requirement already satisfied: yarl<2.0,>=1.0 in /usr/local/lib/python3.9/dist-packages (from aiohttp->datasets) (1.9.1)\n",
            "Requirement already satisfied: frozenlist>=1.1.1 in /usr/local/lib/python3.9/dist-packages (from aiohttp->datasets) (1.3.3)\n",
            "Requirement already satisfied: charset-normalizer<4.0,>=2.0 in /usr/local/lib/python3.9/dist-packages (from aiohttp->datasets) (2.0.12)\n",
            "Requirement already satisfied: attrs>=17.3.0 in /usr/local/lib/python3.9/dist-packages (from aiohttp->datasets) (23.1.0)\n",
            "Requirement already satisfied: async-timeout<5.0,>=4.0.0a3 in /usr/local/lib/python3.9/dist-packages (from aiohttp->datasets) (4.0.2)\n",
            "Requirement already satisfied: aiosignal>=1.1.2 in /usr/local/lib/python3.9/dist-packages (from aiohttp->datasets) (1.3.1)\n",
            "Requirement already satisfied: typing-extensions>=3.7.4.3 in /usr/local/lib/python3.9/dist-packages (from huggingface-hub<1.0,>=0.11.0->transformers) (4.5.0)\n",
            "Requirement already satisfied: certifi>=2017.4.17 in /usr/local/lib/python3.9/dist-packages (from requests->transformers) (2022.12.7)\n",
            "Requirement already satisfied: idna<4,>=2.5 in /usr/local/lib/python3.9/dist-packages (from requests->transformers) (3.4)\n",
            "Requirement already satisfied: urllib3<1.27,>=1.21.1 in /usr/local/lib/python3.9/dist-packages (from requests->transformers) (1.26.15)\n",
            "Requirement already satisfied: pytz>=2020.1 in /usr/local/lib/python3.9/dist-packages (from pandas->datasets) (2022.7.1)\n",
            "Requirement already satisfied: python-dateutil>=2.8.1 in /usr/local/lib/python3.9/dist-packages (from pandas->datasets) (2.8.2)\n",
            "Requirement already satisfied: six>=1.5 in /usr/local/lib/python3.9/dist-packages (from python-dateutil>=2.8.1->pandas->datasets) (1.16.0)\n"
          ]
        }
      ],
      "source": [
        "!pip install transformers datasets"
      ]
    },
    {
      "cell_type": "code",
      "source": [
        "import os\n",
        "import requests\n",
        "import tqdm\n",
        "import json\n",
        "import pandas as pd\n",
        "import numpy as np\n",
        "import zipfile\n",
        "from collections import Counter"
      ],
      "metadata": {
        "id": "Qpd_5bdc6sxf"
      },
      "execution_count": 28,
      "outputs": []
    },
    {
      "cell_type": "code",
      "source": [
        "file_id = '1yXvDTRRxjCLyAf4icU1sEMKF0NpssCnC'\n",
        "destination = 'human_proteins.tsv'\n",
        "hf_name = \"t5-small\"\n",
        "max_length = 512\n",
        "tokenizer_folder = \"PROTNAME_tok\"\n",
        "save_folder = \"PROTNAME\"\n",
        "vocab_size=32"
      ],
      "metadata": {
        "id": "J_tfT6Ll6wKh"
      },
      "execution_count": 29,
      "outputs": []
    },
    {
      "cell_type": "code",
      "source": [
        "file_id = '1yXvDTRRxjCLyAf4icU1sEMKF0NpssCnC'\n",
        "destination = 'human_proteins.tsv'\n",
        "\n",
        "def format_size(value):\n",
        "  if value >= 1024**3:\n",
        "    return f\"{round(value / 1024**3 , 3)} GB\"\n",
        "  elif value >= 1024**2:\n",
        "    return f\"{round(value / 1024**2 , 3)} MB\"\n",
        "  elif value >= 1024:\n",
        "    return f\"{round(value / 1024 , 3)} KB\"\n",
        "  return f\"{value} B\"\n",
        "\n",
        "# Code taken from https://stackoverflow.com/questions/38511444/python-download-files-from-google-drive-using-url\n",
        "def download_file_from_google_drive(id, destination):\n",
        "    URL = \"https://docs.google.com/uc?export=download\"\n",
        "\n",
        "    session = requests.Session()\n",
        "\n",
        "    response = session.get(URL, params = { 'id' : id }, stream = True)\n",
        "    token = get_confirm_token(response)\n",
        "    params = { 'id' : id, 'confirm' : 1 }\n",
        "    response = session.get(URL, params = params, stream = True)\n",
        "\n",
        "    save_response_content(response, destination)    \n",
        "\n",
        "def get_confirm_token(response):\n",
        "    for key, value in response.cookies.items():\n",
        "        if key.startswith('download_warning'):\n",
        "            return value\n",
        "\n",
        "    return None\n",
        "\n",
        "def save_response_content(response, destination):\n",
        "    CHUNK_SIZE = 32768\n",
        "    \n",
        "    pb = tqdm.tqdm(response.iter_content(CHUNK_SIZE))\n",
        "    b_total = 0\n",
        "    with open(destination, \"wb\") as f:\n",
        "        for i,chunk in enumerate(pb):\n",
        "            if chunk: # filter out keep-alive new chunks\n",
        "                f.write(chunk)\n",
        "                b_total += len(chunk)\n",
        "\n",
        "                if i % 1000 == 0:\n",
        "                  pb.set_description(f\"written : {format_size(b_total)}\")\n",
        "                i += 1\n",
        "    print(\"\\n\")\n",
        "    print(f\"saved all the data to {destination}. total size : {format_size(os.stat(destination).st_size)}\")\n",
        "\n",
        "\n",
        "download_file_from_google_drive(file_id, destination)"
      ],
      "metadata": {
        "colab": {
          "base_uri": "https://localhost:8080/"
        },
        "id": "1Mkm87uO7quF",
        "outputId": "2d4e1725-26b9-4ef8-c871-dfbb2c77daf3"
      },
      "execution_count": 30,
      "outputs": [
        {
          "output_type": "stream",
          "name": "stderr",
          "text": [
            "written : 32.0 KB: : 413it [00:01, 382.18it/s]"
          ]
        },
        {
          "output_type": "stream",
          "name": "stdout",
          "text": [
            "\n",
            "\n",
            "saved all the data to human_proteins.tsv. total size : 12.9 MB\n"
          ]
        },
        {
          "output_type": "stream",
          "name": "stderr",
          "text": [
            "\n"
          ]
        }
      ]
    },
    {
      "cell_type": "code",
      "source": [
        "dataframe = pd.read_csv(\"human_proteins.tsv\", sep=\"\\t\")"
      ],
      "metadata": {
        "id": "21QymT2_8C48"
      },
      "execution_count": 33,
      "outputs": []
    },
    {
      "cell_type": "code",
      "source": [
        "dataframe = dataframe[dataframe[\"Sequence\"].str.len() <= 510]"
      ],
      "metadata": {
        "id": "ibHSmvdTcIra"
      },
      "execution_count": 143,
      "outputs": []
    },
    {
      "cell_type": "code",
      "source": [
        "with open(\"Sequences.txt\", \"w\") as f:\n",
        "    f.write(\"\\n\".join(dataframe[\"Sequence\"].values))"
      ],
      "metadata": {
        "id": "jNw9bimPQ2KC"
      },
      "execution_count": 144,
      "outputs": []
    },
    {
      "cell_type": "code",
      "source": [
        "with open(\"names.txt\", \"w\") as f:\n",
        "    f.write(\"\\n\".join([v.split(\"(\")[0].strip() for v in dataframe[\"Protein Name\"].values]))"
      ],
      "metadata": {
        "id": "xfulKvgLcDib"
      },
      "execution_count": 145,
      "outputs": []
    },
    {
      "cell_type": "code",
      "source": [
        "from tokenizers import ByteLevelBPETokenizer\n",
        "from tokenizers.processors import BertProcessing\n",
        "\n",
        "# Train the input tokenizer \n",
        "input_tokenizer = ByteLevelBPETokenizer()\n",
        "input_tokenizer.train(files=[\"Sequences.txt\"], vocab_size=261, \n",
        "                      special_tokens=[\"<pad>\", \"<s>\", \"</s>\",\"<unk>\"])\n",
        "\n",
        "input_tokenizer._tokenizer.post_processor = BertProcessing(\n",
        "    (\"</s>\", input_tokenizer.token_to_id(\"</s>\")),\n",
        "    (\"<s>\", input_tokenizer.token_to_id(\"<s>\")),\n",
        ")\n",
        "\n",
        "# save the input tokenizer \n",
        "os.makedirs(\"input_tokenizer_aminoacids\", exist_ok=True)\n",
        "input_tokenizer.save_model(\"input_tokenizer_aminoacids\")"
      ],
      "metadata": {
        "colab": {
          "base_uri": "https://localhost:8080/"
        },
        "id": "ARc_I92dYj-x",
        "outputId": "e46b7e68-975a-4b05-f409-f5b124f16fd3"
      },
      "execution_count": 146,
      "outputs": [
        {
          "output_type": "execute_result",
          "data": {
            "text/plain": [
              "['input_tokenizer_aminoacids/vocab.json',\n",
              " 'input_tokenizer_aminoacids/merges.txt']"
            ]
          },
          "metadata": {},
          "execution_count": 146
        }
      ]
    },
    {
      "cell_type": "code",
      "source": [
        "input_tokenizer.encode(\"MRWQEMGYIFYPRKLR\").type_ids"
      ],
      "metadata": {
        "colab": {
          "base_uri": "https://localhost:8080/"
        },
        "id": "1ljAnfvj5Ng4",
        "outputId": "c69c97d2-ca85-42fd-c3ca-c07b8635b9ef"
      },
      "execution_count": 147,
      "outputs": [
        {
          "output_type": "execute_result",
          "data": {
            "text/plain": [
              "[0, 0, 0, 0, 0, 0, 0, 0, 0, 0, 0, 0, 0, 0, 0, 0, 0, 0]"
            ]
          },
          "metadata": {},
          "execution_count": 147
        }
      ]
    },
    {
      "cell_type": "code",
      "source": [
        "# Train the output tokenizer \n",
        "from tokenizers import SentencePieceBPETokenizer\n",
        "\n",
        "output_tokenizer = SentencePieceBPETokenizer()\n",
        "output_tokenizer.train(files=[\"names.txt\"], vocab_size=32000,min_frequency=2, special_tokens=[\"<pad>\",\"<s>\",\"</s>\",\"<unk>\"])\n",
        "\n",
        "# save the input tokenizer \n",
        "os.makedirs(\"output_tokenizer_names\", exist_ok=True)\n",
        "input_tokenizer.save_model(\"output_tokenizer_names\")"
      ],
      "metadata": {
        "colab": {
          "base_uri": "https://localhost:8080/"
        },
        "id": "JKiAXJLnZHIR",
        "outputId": "40970de2-aecb-4c24-ae38-0e2570be973e"
      },
      "execution_count": 148,
      "outputs": [
        {
          "output_type": "execute_result",
          "data": {
            "text/plain": [
              "['output_tokenizer_names/vocab.json', 'output_tokenizer_names/merges.txt']"
            ]
          },
          "metadata": {},
          "execution_count": 148
        }
      ]
    },
    {
      "cell_type": "code",
      "source": [
        "e = output_tokenizer.encode(\"Protein FAM170A\")"
      ],
      "metadata": {
        "id": "tcfQUAHpdaUB"
      },
      "execution_count": 149,
      "outputs": []
    },
    {
      "cell_type": "code",
      "source": [
        "import torch \n",
        "from torch.utils.data import Dataset, DataLoader\n",
        "from datasets import load_dataset\n",
        "\n",
        "class CustomAADataset(Dataset):\n",
        "  def __init__(self, data, input_tokenizer, output_tokenizer, max_length=512):\n",
        "    self.data = data\n",
        "    self.input_tokenizer = PreTrainedTokenizerFast(tokenizer_object=input_tokenizer,\n",
        "                                                   max_length=512,\n",
        "                                                   padding=True)\n",
        "    self._input_tokenizer = input_tokenizer\n",
        " \n",
        "    self.output_tokenizer = PreTrainedTokenizerFast(tokenizer_object=output_tokenizer,\n",
        "                                                   max_length=512,\n",
        "                                                   padding=True)\n",
        "    self._output_tokenizer = output_tokenizer\n",
        "    self.max_length = max_length\n",
        "\n",
        "  def __len__(self):\n",
        "    return len(self.data)\n",
        "\n",
        "  def __getitem__(self, idx):\n",
        "    source_text = self.data[\"source\"][idx]\n",
        "    target_text = self.data[\"target\"][idx]\n",
        "\n",
        "    # Tokenize and truncate input and output texts \n",
        "    input_tokens = self.input_tokenizer.encode(source_text)\n",
        "    output_tokens = self.output_tokenizer.encode(target_text)\n",
        "\n",
        "    # Pad input and output tokens\n",
        "    input_tokens = input_tokens + [self._input_tokenizer.token_to_id(\"<pad>\")] * (self.max_length - len(input_tokens))\n",
        "\n",
        "    output_tokens = output_tokens + [self._output_tokenizer.token_to_id(\"<pad>\")] * (self.max_length - len(output_tokens))\n",
        "\n",
        "    return {\"input_ids\": torch.tensor(input_tokens, dtype=torch.long),\n",
        "            \"labels\": torch.tensor(output_tokens, dtype=torch.long),\n",
        "            }\n"
      ],
      "metadata": {
        "id": "NHWqg-w4nOtm"
      },
      "execution_count": 150,
      "outputs": []
    },
    {
      "cell_type": "code",
      "source": [
        "# Load data\n",
        "from datasets import Dataset as Dataset_hf\n",
        "\n",
        "dataset = Dataset_hf.from_dict({\"source\": dataframe[\"Sequence\"].values, \"target\": dataframe[\"Protein Name\"].values})"
      ],
      "metadata": {
        "id": "0BpdFHmUtpda"
      },
      "execution_count": 151,
      "outputs": []
    },
    {
      "cell_type": "code",
      "source": [
        "import matplotlib.pyplot as plt\n",
        "plt.hist(dataframe[\"Sequence\"].str.len())"
      ],
      "metadata": {
        "colab": {
          "base_uri": "https://localhost:8080/",
          "height": 517
        },
        "id": "jVmvZrKNL3Nn",
        "outputId": "3b3e811c-e10e-464f-e907-9e0cca364ebd"
      },
      "execution_count": 154,
      "outputs": [
        {
          "output_type": "execute_result",
          "data": {
            "text/plain": [
              "(array([ 107.,  722., 1567., 1451., 1429., 1408., 1952., 1425., 1295.,\n",
              "        1261.]),\n",
              " array([  2. ,  52.8, 103.6, 154.4, 205.2, 256. , 306.8, 357.6, 408.4,\n",
              "        459.2, 510. ]),\n",
              " <BarContainer object of 10 artists>)"
            ]
          },
          "metadata": {},
          "execution_count": 154
        },
        {
          "output_type": "display_data",
          "data": {
            "text/plain": [
              "<Figure size 640x480 with 1 Axes>"
            ],
            "image/png": "[encoded data removed]"
          },
          "metadata": {}
        }
      ]
    },
    {
      "cell_type": "code",
      "source": [
        "# Create dataset instances\n",
        "train_dataset = CustomAADataset(dataset, input_tokenizer, output_tokenizer)\n",
        "\n",
        "# Create data loaders\n",
        "train_loader = DataLoader(train_dataset, batch_size=64, shuffle=True)"
      ],
      "metadata": {
        "id": "kQv4-09StvBR"
      },
      "execution_count": 155,
      "outputs": []
    },
    {
      "cell_type": "code",
      "source": [
        "from transformers import T5ForConditionalGeneration, T5Config, AdamW\n",
        "from tqdm.auto import tqdm\n",
        "\n",
        "device = torch.device(\"cuda\" if torch.cuda.is_available() else \"cpu\")\n",
        "\n",
        "# Load T5 model\n",
        "config = T5Config.from_pretrained(\"t5-small\")\n",
        "model = T5ForConditionalGeneration(config)\n",
        "model.to(device)\n",
        "\n",
        "# Set hyperparameters\n",
        "num_epochs = 3\n",
        "learning_rate = 5e-4\n",
        "\n",
        "# Initialize optimizer\n",
        "optimizer = AdamW(model.parameters(), lr=learning_rate)\n",
        "\n",
        "# Training loop\n",
        "for epoch in range(num_epochs):\n",
        "    print(f\"Epoch: {epoch + 1}/{num_epochs}\")\n",
        "\n",
        "    # Training\n",
        "    model.train()\n",
        "    train_losses = []\n",
        "    for batch in tqdm(train_loader):\n",
        "        input_ids = batch[\"input_ids\"].to(device)\n",
        "        labels = batch[\"labels\"].to(device)\n",
        "\n",
        "        optimizer.zero_grad()\n",
        "        outputs = model(input_ids=input_ids, labels=labels)\n",
        "        loss = outputs.loss\n",
        "        train_losses.append(loss.item())\n",
        "\n",
        "        loss.backward()\n",
        "        optimizer.step()\n",
        "\n",
        "    print(f\"Train loss: {sum(train_losses) / len(train_losses)}\")\n",
        "\n",
        "# Save the fine-tuned model\n",
        "model.save_pretrained(\"fine_tuned_t5\")\n"
      ],
      "metadata": {
        "colab": {
          "base_uri": "https://localhost:8080/",
          "height": 156,
          "referenced_widgets": [
            "0de8bb85911b427d8294a81d94939ce4",
            "cd698668f6984461956d307c4cbce5cc",
            "99170237c3444b13a432b8c374fc1473",
            "43cf4edef7a043928b9508bde88b9374",
            "443cfdca91394190a0c800b1e1e654eb",
            "71b09a2f29c44961b792ddf69ea8f150",
            "99599d201e274dacb4d8c0dc8ffb80b9",
            "2106053b50d844a5a4b0b466a5614841",
            "971715e9020f4f68ab3a4f024c7e85bb",
            "3d217e7538a049be9fb50bacf859e9ac",
            "2fe2f7b256874bf384386a4fa5123ea3"
          ]
        },
        "id": "g05067UixGnb",
        "outputId": "9d323d51-89df-4aa8-c1f8-5110eb4c927c"
      },
      "execution_count": null,
      "outputs": [
        {
          "output_type": "stream",
          "name": "stdout",
          "text": [
            "Epoch: 1/3\n"
          ]
        },
        {
          "output_type": "stream",
          "name": "stderr",
          "text": [
            "/usr/local/lib/python3.9/dist-packages/transformers/optimization.py:391: FutureWarning: This implementation of AdamW is deprecated and will be removed in a future version. Use the PyTorch implementation torch.optim.AdamW instead, or set `no_deprecation_warning=True` to disable this warning\n",
            "  warnings.warn(\n"
          ]
        },
        {
          "output_type": "display_data",
          "data": {
            "text/plain": [
              "  0%|          | 0/198 [00:00<?, ?it/s]"
            ],
            "application/vnd.jupyter.widget-view+json": {
              "version_major": 2,
              "version_minor": 0,
              "model_id": "0de8bb85911b427d8294a81d94939ce4"
            }
          },
          "metadata": {}
        },
        {
          "output_type": "stream",
          "name": "stdout",
          "text": [
            "torch.Size([64, 512])\n",
            "torch.Size([64, 512])\n"
          ]
        }
      ]
    }
  ]
}