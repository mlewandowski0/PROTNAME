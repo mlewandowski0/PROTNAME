{
 "cells": [
  {
   "cell_type": "markdown",
   "id": "5c8fe4de-c510-4fa1-b6ce-53ff8a6de2ac",
   "metadata": {},
   "source": [
    "# Install extra packages"
   ]
  },
  {
   "cell_type": "code",
   "execution_count": 23,
   "id": "b91d4b8f-564d-41f8-a119-aa03ff8e6ae0",
   "metadata": {
    "tags": []
   },
   "outputs": [
    {
     "name": "stdout",
     "output_type": "stream",
     "text": [
      "\u001b[33mWARNING: Running pip as the 'root' user can result in broken permissions and conflicting behaviour with the system package manager. It is recommended to use a virtual environment instead: https://pip.pypa.io/warnings/venv\u001b[0m\u001b[33m\n",
      "\u001b[0m\n",
      "\u001b[1m[\u001b[0m\u001b[34;49mnotice\u001b[0m\u001b[1;39;49m]\u001b[0m\u001b[39;49m A new release of pip is available: \u001b[0m\u001b[31;49m23.0.1\u001b[0m\u001b[39;49m -> \u001b[0m\u001b[32;49m23.1.1\u001b[0m\n",
      "\u001b[1m[\u001b[0m\u001b[34;49mnotice\u001b[0m\u001b[1;39;49m]\u001b[0m\u001b[39;49m To update, run: \u001b[0m\u001b[32;49mpython -m pip install --upgrade pip\u001b[0m\n",
      "\u001b[33mWARNING: Running pip as the 'root' user can result in broken permissions and conflicting behaviour with the system package manager. It is recommended to use a virtual environment instead: https://pip.pypa.io/warnings/venv\u001b[0m\u001b[33m\n",
      "\u001b[0m\n",
      "\u001b[1m[\u001b[0m\u001b[34;49mnotice\u001b[0m\u001b[1;39;49m]\u001b[0m\u001b[39;49m A new release of pip is available: \u001b[0m\u001b[31;49m23.0.1\u001b[0m\u001b[39;49m -> \u001b[0m\u001b[32;49m23.1.1\u001b[0m\n",
      "\u001b[1m[\u001b[0m\u001b[34;49mnotice\u001b[0m\u001b[1;39;49m]\u001b[0m\u001b[39;49m To update, run: \u001b[0m\u001b[32;49mpython -m pip install --upgrade pip\u001b[0m\n",
      "\u001b[33mWARNING: Running pip as the 'root' user can result in broken permissions and conflicting behaviour with the system package manager. It is recommended to use a virtual environment instead: https://pip.pypa.io/warnings/venv\u001b[0m\u001b[33m\n",
      "\u001b[0m\n",
      "\u001b[1m[\u001b[0m\u001b[34;49mnotice\u001b[0m\u001b[1;39;49m]\u001b[0m\u001b[39;49m A new release of pip is available: \u001b[0m\u001b[31;49m23.0.1\u001b[0m\u001b[39;49m -> \u001b[0m\u001b[32;49m23.1.1\u001b[0m\n",
      "\u001b[1m[\u001b[0m\u001b[34;49mnotice\u001b[0m\u001b[1;39;49m]\u001b[0m\u001b[39;49m To update, run: \u001b[0m\u001b[32;49mpython -m pip install --upgrade pip\u001b[0m\n",
      "\u001b[33mWARNING: Running pip as the 'root' user can result in broken permissions and conflicting behaviour with the system package manager. It is recommended to use a virtual environment instead: https://pip.pypa.io/warnings/venv\u001b[0m\u001b[33m\n",
      "\u001b[0m\n",
      "\u001b[1m[\u001b[0m\u001b[34;49mnotice\u001b[0m\u001b[1;39;49m]\u001b[0m\u001b[39;49m A new release of pip is available: \u001b[0m\u001b[31;49m23.0.1\u001b[0m\u001b[39;49m -> \u001b[0m\u001b[32;49m23.1.1\u001b[0m\n",
      "\u001b[1m[\u001b[0m\u001b[34;49mnotice\u001b[0m\u001b[1;39;49m]\u001b[0m\u001b[39;49m To update, run: \u001b[0m\u001b[32;49mpython -m pip install --upgrade pip\u001b[0m\n",
      "\u001b[33mWARNING: Running pip as the 'root' user can result in broken permissions and conflicting behaviour with the system package manager. It is recommended to use a virtual environment instead: https://pip.pypa.io/warnings/venv\u001b[0m\u001b[33m\n",
      "\u001b[0m\n",
      "\u001b[1m[\u001b[0m\u001b[34;49mnotice\u001b[0m\u001b[1;39;49m]\u001b[0m\u001b[39;49m A new release of pip is available: \u001b[0m\u001b[31;49m23.0.1\u001b[0m\u001b[39;49m -> \u001b[0m\u001b[32;49m23.1.1\u001b[0m\n",
      "\u001b[1m[\u001b[0m\u001b[34;49mnotice\u001b[0m\u001b[1;39;49m]\u001b[0m\u001b[39;49m To update, run: \u001b[0m\u001b[32;49mpython -m pip install --upgrade pip\u001b[0m\n",
      "\u001b[33mWARNING: Running pip as the 'root' user can result in broken permissions and conflicting behaviour with the system package manager. It is recommended to use a virtual environment instead: https://pip.pypa.io/warnings/venv\u001b[0m\u001b[33m\n",
      "\u001b[0m\n",
      "\u001b[1m[\u001b[0m\u001b[34;49mnotice\u001b[0m\u001b[1;39;49m]\u001b[0m\u001b[39;49m A new release of pip is available: \u001b[0m\u001b[31;49m23.0.1\u001b[0m\u001b[39;49m -> \u001b[0m\u001b[32;49m23.1.1\u001b[0m\n",
      "\u001b[1m[\u001b[0m\u001b[34;49mnotice\u001b[0m\u001b[1;39;49m]\u001b[0m\u001b[39;49m To update, run: \u001b[0m\u001b[32;49mpython -m pip install --upgrade pip\u001b[0m\n"
     ]
    }
   ],
   "source": [
    "!pip install -q -U tensorflow_addons\n",
    "!pip install -q keras-nlp\n",
    "!pip install -q tqdm\n",
    "!pip install -q scikit-learn \n",
    "!pip install -q pandas\n",
    "!pip install -q matplotlib"
   ]
  },
  {
   "cell_type": "markdown",
   "id": "fd19b265-9a3e-4c51-a47c-52a778a4d308",
   "metadata": {},
   "source": [
    "# Hyperparameters"
   ]
  },
  {
   "cell_type": "code",
   "execution_count": 45,
   "id": "3eef0317-41b9-4ae9-b47c-153aa1010552",
   "metadata": {
    "tags": []
   },
   "outputs": [],
   "source": [
    "file_id = '1w3IQMK3PmXH-Bq6Lt_P8wxGPvr5olrZT'\n",
    "destination = 'pfam.zip'\n",
    "n_families_of_interest = 3000\n",
    "data_dirpath = \"pfam\"\n",
    "os.makedirs(\"models\", exist_ok=True)"
   ]
  },
  {
   "cell_type": "markdown",
   "id": "1c59778a-1e41-44af-b54c-7170c5a36882",
   "metadata": {},
   "source": [
    "# Import Data"
   ]
  },
  {
   "cell_type": "code",
   "execution_count": 25,
   "id": "84eacd82-551b-4a9a-a29d-8bf0aa32ae1a",
   "metadata": {
    "tags": []
   },
   "outputs": [],
   "source": [
    "import os\n",
    "import requests\n",
    "import tqdm\n",
    "import json\n",
    "import pandas as pd\n",
    "import numpy as np\n",
    "from collections import Counter\n",
    "import zipfile\n",
    "from tensorflow.keras.preprocessing.text import Tokenizer\n",
    "from tensorflow.keras.preprocessing.sequence import pad_sequences\n",
    "from tensorflow.keras.layers import Input, Embedding, MultiHeadAttention, Dense, GlobalAveragePooling1D, LayerNormalization, Dropout\n",
    "from tensorflow.keras.models import Model\n",
    "\n",
    "import tensorflow.keras as keras\n",
    "from tensorflow.keras import backend as K\n",
    "import tensorflow_addons as tfa\n",
    "import tensorflow as tf\n",
    "from tensorflow.keras import layers\n",
    "from functools import partial \n",
    "\n",
    "import matplotlib.pyplot as plt\n",
    "from collections import Counter\n",
    "import pandas as pd\n",
    "import numpy as np\n",
    "import os\n",
    "import gc"
   ]
  },
  {
   "cell_type": "code",
   "execution_count": 12,
   "id": "f99b0d16-541c-4c63-9014-2f040cd787d1",
   "metadata": {
    "tags": []
   },
   "outputs": [],
   "source": [
    "def format_size(value):\n",
    "  if value >= 1024**3:\n",
    "    return f\"{round(value / 1024**3 , 3)} GB\"\n",
    "  elif value >= 1024**2:\n",
    "    return f\"{round(value / 1024**2 , 3)} MB\"\n",
    "  elif value >= 1024:\n",
    "    return f\"{round(value / 1024 , 3)} KB\"\n",
    "  return f\"{value} B\"\n",
    "\n",
    "# Code taken from https://stackoverflow.com/questions/38511444/python-download-files-from-google-drive-using-url\n",
    "def download_file_from_google_drive(id, destination):\n",
    "    URL = \"https://docs.google.com/uc?export=download\"\n",
    "\n",
    "    session = requests.Session()\n",
    "\n",
    "    response = session.get(URL, params = { 'id' : id }, stream = True)\n",
    "    token = get_confirm_token(response)\n",
    "    params = { 'id' : id, 'confirm' : 1 }\n",
    "    response = session.get(URL, params = params, stream = True)\n",
    "\n",
    "    save_response_content(response, destination)    \n",
    "\n",
    "def get_confirm_token(response):\n",
    "    for key, value in response.cookies.items():\n",
    "        if key.startswith('download_warning'):\n",
    "            return value\n",
    "\n",
    "    return None\n",
    "\n",
    "def save_response_content(response, destination):\n",
    "    CHUNK_SIZE = 32768\n",
    "    \n",
    "    pb = tqdm.tqdm(response.iter_content(CHUNK_SIZE))\n",
    "    b_total = 0\n",
    "    with open(destination, \"wb\") as f:\n",
    "        for i,chunk in enumerate(pb):\n",
    "            if chunk: # filter out keep-alive new chunks\n",
    "                f.write(chunk)\n",
    "                b_total += len(chunk)\n",
    "\n",
    "                if i % 1000 == 0:\n",
    "                  pb.set_description(f\"written : {format_size(b_total)}\")\n",
    "                i += 1\n",
    "    print(\"\\n\")\n",
    "    print(f\"saved all the data to {destination}. total size : {format_size(os.stat(destination).st_size)}\")"
   ]
  },
  {
   "cell_type": "code",
   "execution_count": 19,
   "id": "d82806a0-db0e-449d-87bc-7213a8dec0b8",
   "metadata": {
    "tags": []
   },
   "outputs": [
    {
     "name": "stderr",
     "output_type": "stream",
     "text": [
      "written : 468.781 MB: : 15780it [00:10, 1502.62it/s]\n"
     ]
    },
    {
     "name": "stdout",
     "output_type": "stream",
     "text": [
      "\n",
      "\n",
      "saved all the data to pfam.zip. total size : 493.095 MB\n"
     ]
    }
   ],
   "source": [
    "download_file_from_google_drive(file_id, destination)\n",
    "with zipfile.ZipFile(destination, 'r') as zip_ref:\n",
    "    zip_ref.extractall(\".\")\n",
    "!mv random_split pfam"
   ]
  },
  {
   "cell_type": "code",
   "execution_count": 26,
   "id": "12617935-94b2-465a-87de-9dc16ebc6342",
   "metadata": {
    "tags": []
   },
   "outputs": [
    {
     "name": "stdout",
     "output_type": "stream",
     "text": [
      "Available dataset partitions:  ['train', 'test', 'random_split', 'dev']\n"
     ]
    }
   ],
   "source": [
    "data_dirpath = \"pfam\"\n",
    "print('Available dataset partitions: ', os.listdir(data_dirpath))"
   ]
  },
  {
   "cell_type": "code",
   "execution_count": 27,
   "id": "20568576-1373-47c6-b85e-42fd6f27b99b",
   "metadata": {
    "tags": []
   },
   "outputs": [
    {
     "name": "stdout",
     "output_type": "stream",
     "text": [
      "Dataset partition \"test\" has 126171 sequences\n",
      "Dataset partition \"dev\" has 126171 sequences\n",
      "Dataset partition \"train\" has 1086741 sequences\n"
     ]
    }
   ],
   "source": [
    "def read_all_shards(partition='dev', data_dir = data_dirpath):\n",
    "    shards = []\n",
    "    for fn in os.listdir(os.path.join(data_dir, partition)):\n",
    "        with open(os.path.join(data_dir, partition, fn)) as f:\n",
    "            shards.append(pd.read_csv(f, index_col=None))\n",
    "    \n",
    "    return pd.concat(shards)\n",
    "\n",
    "def read_all_data_initial():\n",
    "  global train, test, dev, all_train_ds_size, all_test_ds_size, all_dev_ds_size\n",
    "\n",
    "  test = read_all_shards('test')\n",
    "  dev = read_all_shards('dev')\n",
    "  train = read_all_shards('train')\n",
    "\n",
    "  partitions = {'test': test, 'dev': dev, 'train': train}\n",
    "  for name, df in partitions.items():\n",
    "      print('Dataset partition \"%s\" has %d sequences' % (name, len(df)))\n",
    "\n",
    "  all_train_ds_size = len(train)\n",
    "  all_test_ds_size = len(test)\n",
    "  all_dev_ds_size = len(dev)\n",
    "\n",
    "  train.reset_index(inplace=True, drop=True)\n",
    "  dev.reset_index(inplace=True, drop=True)\n",
    "  test.reset_index(inplace=True, drop=True)\n",
    "\n",
    "read_all_data_initial()"
   ]
  },
  {
   "cell_type": "code",
   "execution_count": 28,
   "id": "e3e6bdbe-4ff9-4ce0-8340-3c288f0e6adb",
   "metadata": {
    "tags": []
   },
   "outputs": [],
   "source": [
    "def plot_counts(data):\n",
    "\n",
    "    counter = Counter(data['family_accession'])\n",
    "    print(f\"how many labels : {len(counter)}\")\n",
    "    \n",
    "    datasetSize = len(data)\n",
    "    xs = []\n",
    "    x_labels = []\n",
    "    ys = []\n",
    "\n",
    "    t = 0\n",
    "    cumulative = []\n",
    "\n",
    "    for i,(x, y) in  enumerate(counter.most_common()):\n",
    "        xs.append(i)\n",
    "        x_labels.append(x)\n",
    "        ys.append(y)\n",
    "        t += y / datasetSize\n",
    "        cumulative.append(t)\n",
    "\n",
    "    plt.figure(figsize=(16 ,6))\n",
    "    plt.subplot(1, 2, 1)\n",
    "    plt.plot(xs, ys)\n",
    "    plt.yscale(\"log\")\n",
    "\n",
    "    plt.subplot(1, 2, 2)\n",
    "    plt.plot(xs, cumulative)\n",
    "    plt.yticks([0, 0.1, 0.2, 0.3, 0.4, 0.5, 0.6, 0.7, 0.8, 0.9, 1.])\n",
    "    plt.show()\n",
    "    return cumulative\n"
   ]
  },
  {
   "cell_type": "code",
   "execution_count": 29,
   "id": "5a9c56c6-fd5f-4faa-9306-c2a6bc407eb6",
   "metadata": {
    "tags": []
   },
   "outputs": [
    {
     "name": "stdout",
     "output_type": "stream",
     "text": [
      "how many labels : 17929\n"
     ]
    },
    {
     "data": {
      "image/png": "[encoded data removed]",
      "text/plain": [
       "<Figure size 1600x600 with 2 Axes>"
      ]
     },
     "metadata": {},
     "output_type": "display_data"
    }
   ],
   "source": [
    "cumulative = plot_counts(train)"
   ]
  },
  {
   "cell_type": "code",
   "execution_count": 31,
   "id": "42611550-82ee-4593-afaa-e657f682a6d9",
   "metadata": {
    "tags": []
   },
   "outputs": [
    {
     "name": "stdout",
     "output_type": "stream",
     "text": [
      "3000 classes is 65.9 portion of training data\n"
     ]
    }
   ],
   "source": [
    "print(f\"{n_families_of_interest} classes is {100 * round( cumulative[n_families_of_interest-1],3)} portion of training data\")"
   ]
  },
  {
   "cell_type": "markdown",
   "id": "bebee203-5f47-458d-8bfe-7b7adea62238",
   "metadata": {},
   "source": [
    "# Create keras dataset"
   ]
  },
  {
   "cell_type": "code",
   "execution_count": 33,
   "id": "7a442961-d546-4e26-a2db-300dd833876a",
   "metadata": {
    "tags": []
   },
   "outputs": [
    {
     "name": "stdout",
     "output_type": "stream",
     "text": [
      "how many labels : 3000\n"
     ]
    },
    {
     "data": {
      "image/png": "[encoded data removed]",
      "text/plain": [
       "<Figure size 1600x600 with 2 Axes>"
      ]
     },
     "metadata": {},
     "output_type": "display_data"
    }
   ],
   "source": [
    "familiesOfInterest = train.family_accession.value_counts()[:n_families_of_interest]\n",
    "\n",
    "mask = train.family_accession.isin(familiesOfInterest.index.values)\n",
    "train = train.loc[mask,:]\n",
    "\n",
    "mask = dev.family_accession.isin(familiesOfInterest.index.values)\n",
    "dev = dev.loc[mask,:]\n",
    "\n",
    "mask = test.family_accession.isin(familiesOfInterest.index.values)\n",
    "test = test.loc[mask,:]\n",
    "\n",
    "cumulative_split = plot_counts(train)"
   ]
  },
  {
   "cell_type": "code",
   "execution_count": 34,
   "id": "114df0bf-c2d0-41d3-b697-ac86e2aeda6b",
   "metadata": {
    "tags": []
   },
   "outputs": [],
   "source": [
    "train_seq = train['sequence']\n",
    "dev_seq = dev['sequence']\n",
    "test_seq = test['sequence']"
   ]
  },
  {
   "cell_type": "code",
   "execution_count": 35,
   "id": "7f5d67ce-b060-4211-b3c4-9e34b253d594",
   "metadata": {
    "tags": []
   },
   "outputs": [],
   "source": [
    "train_sentences = train_seq.apply(lambda seq: [aa for aa in seq])\n",
    "validation_sentences = dev_seq.apply(lambda seq: [aa for aa in seq])\n",
    "test_sentences = test_seq.apply(lambda seq: [aa for aa in seq])"
   ]
  },
  {
   "cell_type": "code",
   "execution_count": 36,
   "id": "cbaf855f-4928-4c0e-9e49-30b16418e81b",
   "metadata": {
    "tags": []
   },
   "outputs": [],
   "source": [
    "train_labels = train['family_accession'].apply(lambda x: x.split('.')[0])\n",
    "validation_labels = dev['family_accession'].apply(lambda x: x.split('.')[0])\n",
    "test_labels = test['family_accession'].apply(lambda x: x.split('.')[0])\n",
    "\n",
    "label_tokenizer = Tokenizer(oov_token = -1)\n",
    "label_tokenizer.fit_on_texts(train_labels)\n",
    "\n",
    "training_label_seq = np.array(label_tokenizer.texts_to_sequences(train_labels))\n",
    "validation_label_seq = np.array(label_tokenizer.texts_to_sequences(validation_labels))\n",
    "test_label_seq = np.array(label_tokenizer.texts_to_sequences(test_labels))\n",
    "\n",
    "training_label_seq = training_label_seq-1\n",
    "validation_label_seq = validation_label_seq-1\n",
    "test_label_seq = test_label_seq-1"
   ]
  },
  {
   "cell_type": "code",
   "execution_count": 37,
   "id": "2b8c7169-d08d-440d-919b-abf3858b888b",
   "metadata": {
    "tags": []
   },
   "outputs": [
    {
     "name": "stdout",
     "output_type": "stream",
     "text": [
      "{'<OOV>': 1, 'l': 2, 'a': 3, 'g': 4, 'v': 5, 'e': 6, 'i': 7, 's': 8, 'r': 9, 'd': 10, 't': 11, 'k': 12, 'p': 13, 'f': 14, 'n': 15, 'q': 16, 'y': 17, 'm': 18, 'h': 19, 'c': 20, 'w': 21, 'x': 22, 'u': 23, 'b': 24, 'o': 25}\n"
     ]
    }
   ],
   "source": [
    "vocab_size = 25\n",
    "embedding_dim = vocab_size\n",
    "max_length = 512\n",
    "trunc_type = \"post\"\n",
    "padding_type = \"post\"\n",
    "oov_tok = \"<OOV>\"\n",
    "training_portion = .8\n",
    "\n",
    "tokenizer = Tokenizer(oov_token=oov_tok, num_words = vocab_size)\n",
    "tokenizer.fit_on_texts(train_sentences)\n",
    "word_index = tokenizer.word_index\n",
    "print(word_index)"
   ]
  },
  {
   "cell_type": "code",
   "execution_count": 38,
   "id": "95976ea7-7187-410e-83af-36cc25554fa6",
   "metadata": {},
   "outputs": [
    {
     "name": "stdout",
     "output_type": "stream",
     "text": [
      "[9, 7, 4, 7, 18, 11, 8, 4, 4, 10, 3, 13, 4, 18, 15, 2, 3, 7, 9, 3, 5, 3, 9, 12, 3, 2, 8, 8, 4, 2, 6, 3, 17, 4, 7, 15, 17, 4, 14, 3, 4, 2, 5, 3, 4, 10, 7, 19, 6, 14, 12, 3, 3, 10, 2, 10, 10, 18, 5, 8, 16, 4, 4, 11, 18, 2, 17, 8, 3, 9, 17, 13, 6, 14, 3, 16, 6, 6, 8, 16, 2, 12, 4, 7, 6, 16, 2, 12, 12, 14, 4, 7, 10, 3, 2, 5, 5, 7, 4, 4, 10, 4, 8, 17, 19, 4, 3, 2, 9, 2, 11, 6, 19, 4, 17, 15, 11, 7, 4, 2, 13, 4, 11, 7, 10, 15, 10, 7, 13, 14, 11, 10, 14, 11, 7, 4, 14, 10, 11, 3, 2, 15, 11, 3, 5, 10, 3, 7, 10, 12, 7, 9, 10, 11, 3, 12, 8, 19, 16, 9, 5, 14, 3, 5, 16, 5, 18, 4, 9, 15, 3, 3, 10, 7, 3, 2, 21, 3, 4, 5, 3, 8, 4, 3, 10, 3, 5, 7, 3, 13, 4, 14, 10, 17, 10, 5, 6, 3, 7, 3, 15, 12, 2, 12, 12, 15, 9, 3, 15, 4, 12, 10, 17, 4, 7, 7, 5, 7, 3, 6, 4, 10, 3, 15, 8, 10, 3, 3, 13, 6, 14, 7, 10, 16, 2, 12, 16, 17, 4, 10, 14, 10, 3, 9, 3, 11, 5, 7, 4, 19, 5, 16, 9, 4, 4, 5, 13, 8, 3, 12, 10, 9, 5, 2, 3, 8, 12, 18, 4, 3, 17, 3, 5, 6, 2, 2]\n",
      "[ 9  7  4  7 18 11  8  4  4 10  3 13  4 18 15  2  3  7  9  3  5  3  9 12\n",
      "  3  2  8  8  4  2  6  3 17  4  7 15 17  4 14  3  4  2  5  3  4 10  7 19\n",
      "  6 14 12  3  3 10  2 10 10 18  5  8 16  4  4 11 18  2 17  8  3  9 17 13\n",
      "  6 14  3 16  6  6  8 16  2 12  4  7  6 16  2 12 12 14  4  7 10  3  2  5\n",
      "  5  7  4  4 10  4  8 17 19  4  3  2  9  2 11  6 19  4 17 15 11  7  4  2\n",
      " 13  4 11  7 10 15 10  7 13 14 11 10 14 11  7  4 14 10 11  3  2 15 11  3\n",
      "  5 10  3  7 10 12  7  9 10 11  3 12  8 19 16  9  5 14  3  5 16  5 18  4\n",
      "  9 15  3  3 10  7  3  2 21  3  4  5  3  8  4  3 10  3  5  7  3 13  4 14\n",
      " 10 17 10  5  6  3  7  3 15 12  2 12 12 15  9  3 15  4 12 10 17  4  7  7\n",
      "  5  7  3  6  4 10  3 15  8 10  3  3 13  6 14  7 10 16  2 12 16 17  4 10\n",
      " 14 10  3  9  3 11  5  7  4 19  5 16  9  4  4  5 13  8  3 12 10  9  5  2\n",
      "  3  8 12 18  4  3 17  3  5  6  2  2  0  0  0  0  0  0  0  0  0  0  0  0\n",
      "  0  0  0  0  0  0  0  0  0  0  0  0  0  0  0  0  0  0  0  0  0  0  0  0\n",
      "  0  0  0  0  0  0  0  0  0  0  0  0  0  0  0  0  0  0  0  0  0  0  0  0\n",
      "  0  0  0  0  0  0  0  0  0  0  0  0  0  0  0  0  0  0  0  0  0  0  0  0\n",
      "  0  0  0  0  0  0  0  0  0  0  0  0  0  0  0  0  0  0  0  0  0  0  0  0\n",
      "  0  0  0  0  0  0  0  0  0  0  0  0  0  0  0  0  0  0  0  0  0  0  0  0\n",
      "  0  0  0  0  0  0  0  0  0  0  0  0  0  0  0  0  0  0  0  0  0  0  0  0\n",
      "  0  0  0  0  0  0  0  0  0  0  0  0  0  0  0  0  0  0  0  0  0  0  0  0\n",
      "  0  0  0  0  0  0  0  0  0  0  0  0  0  0  0  0  0  0  0  0  0  0  0  0\n",
      "  0  0  0  0  0  0  0  0  0  0  0  0  0  0  0  0  0  0  0  0  0  0  0  0\n",
      "  0  0  0  0  0  0  0  0]\n"
     ]
    }
   ],
   "source": [
    "train_sequences = tokenizer.texts_to_sequences(train_sentences)\n",
    "print(train_sequences[0])\n",
    "train_padded = pad_sequences(train_sequences, maxlen=max_length, padding=padding_type)\n",
    "print(train_padded[0])"
   ]
  },
  {
   "cell_type": "code",
   "execution_count": 39,
   "id": "5410859d-ce00-4c21-a835-8b7222942d82",
   "metadata": {
    "tags": []
   },
   "outputs": [],
   "source": [
    "validation_sequences = tokenizer.texts_to_sequences(validation_sentences)\n",
    "validation_padded = pad_sequences(validation_sequences, maxlen=max_length, padding=padding_type)\n",
    "\n",
    "test_sequences = tokenizer.texts_to_sequences(test_sentences)\n",
    "test_padded = pad_sequences(test_sequences, maxlen=max_length, padding=padding_type)"
   ]
  },
  {
   "cell_type": "code",
   "execution_count": 40,
   "id": "3193741b-66b4-4ce2-a04b-04d4d9a09aee",
   "metadata": {
    "tags": []
   },
   "outputs": [
    {
     "name": "stdout",
     "output_type": "stream",
     "text": [
      "(715645, 512)\n",
      "(87755, 512)\n",
      "(87755, 512)\n",
      "[ 9  7  4  7 18 11  8  4  4 10  3 13  4 18 15  2  3  7  9  3  5  3  9 12\n",
      "  3  2  8  8  4  2  6  3 17  4  7 15 17  4 14  3  4  2  5  3  4 10  7 19\n",
      "  6 14 12  3  3 10  2 10 10 18  5  8 16  4  4 11 18  2 17  8  3  9 17 13\n",
      "  6 14  3 16  6  6  8 16  2 12  4  7  6 16  2 12 12 14  4  7 10  3  2  5\n",
      "  5  7  4  4 10  4  8 17 19  4  3  2  9  2 11  6 19  4 17 15 11  7  4  2\n",
      " 13  4 11  7 10 15 10  7 13 14 11 10 14 11  7  4 14 10 11  3  2 15 11  3\n",
      "  5 10  3  7 10 12  7  9 10 11  3 12  8 19 16  9  5 14  3  5 16  5 18  4\n",
      "  9 15  3  3 10  7  3  2 21  3  4  5  3  8  4  3 10  3  5  7  3 13  4 14\n",
      " 10 17 10  5  6  3  7  3 15 12  2 12 12 15  9  3 15  4 12 10 17  4  7  7\n",
      "  5  7  3  6  4 10  3 15  8 10  3  3 13  6 14  7 10 16  2 12 16 17  4 10\n",
      " 14 10  3  9  3 11  5  7  4 19  5 16  9  4  4  5 13  8  3 12 10  9  5  2\n",
      "  3  8 12 18  4  3 17  3  5  6  2  2  0  0  0  0  0  0  0  0  0  0  0  0\n",
      "  0  0  0  0  0  0  0  0  0  0  0  0  0  0  0  0  0  0  0  0  0  0  0  0\n",
      "  0  0  0  0  0  0  0  0  0  0  0  0  0  0  0  0  0  0  0  0  0  0  0  0\n",
      "  0  0  0  0  0  0  0  0  0  0  0  0  0  0  0  0  0  0  0  0  0  0  0  0\n",
      "  0  0  0  0  0  0  0  0  0  0  0  0  0  0  0  0  0  0  0  0  0  0  0  0\n",
      "  0  0  0  0  0  0  0  0  0  0  0  0  0  0  0  0  0  0  0  0  0  0  0  0\n",
      "  0  0  0  0  0  0  0  0  0  0  0  0  0  0  0  0  0  0  0  0  0  0  0  0\n",
      "  0  0  0  0  0  0  0  0  0  0  0  0  0  0  0  0  0  0  0  0  0  0  0  0\n",
      "  0  0  0  0  0  0  0  0  0  0  0  0  0  0  0  0  0  0  0  0  0  0  0  0\n",
      "  0  0  0  0  0  0  0  0  0  0  0  0  0  0  0  0  0  0  0  0  0  0  0  0\n",
      "  0  0  0  0  0  0  0  0]\n"
     ]
    }
   ],
   "source": [
    "print(train_padded.shape)\n",
    "print(validation_padded.shape)\n",
    "print(test_padded.shape)\n",
    "print(train_padded[0])"
   ]
  },
  {
   "cell_type": "code",
   "execution_count": 41,
   "id": "a4706df6-f28e-4a47-be9b-66c5fd7c242d",
   "metadata": {
    "tags": []
   },
   "outputs": [
    {
     "name": "stdout",
     "output_type": "stream",
     "text": [
      "(715645, 512)\n",
      "(87755, 512)\n",
      "(87755, 512)\n",
      "[ 9  7  4  7 18 11  8  4  4 10  3 13  4 18 15  2  3  7  9  3  5  3  9 12\n",
      "  3  2  8  8  4  2  6  3 17  4  7 15 17  4 14  3  4  2  5  3  4 10  7 19\n",
      "  6 14 12  3  3 10  2 10 10 18  5  8 16  4  4 11 18  2 17  8  3  9 17 13\n",
      "  6 14  3 16  6  6  8 16  2 12  4  7  6 16  2 12 12 14  4  7 10  3  2  5\n",
      "  5  7  4  4 10  4  8 17 19  4  3  2  9  2 11  6 19  4 17 15 11  7  4  2\n",
      " 13  4 11  7 10 15 10  7 13 14 11 10 14 11  7  4 14 10 11  3  2 15 11  3\n",
      "  5 10  3  7 10 12  7  9 10 11  3 12  8 19 16  9  5 14  3  5 16  5 18  4\n",
      "  9 15  3  3 10  7  3  2 21  3  4  5  3  8  4  3 10  3  5  7  3 13  4 14\n",
      " 10 17 10  5  6  3  7  3 15 12  2 12 12 15  9  3 15  4 12 10 17  4  7  7\n",
      "  5  7  3  6  4 10  3 15  8 10  3  3 13  6 14  7 10 16  2 12 16 17  4 10\n",
      " 14 10  3  9  3 11  5  7  4 19  5 16  9  4  4  5 13  8  3 12 10  9  5  2\n",
      "  3  8 12 18  4  3 17  3  5  6  2  2  0  0  0  0  0  0  0  0  0  0  0  0\n",
      "  0  0  0  0  0  0  0  0  0  0  0  0  0  0  0  0  0  0  0  0  0  0  0  0\n",
      "  0  0  0  0  0  0  0  0  0  0  0  0  0  0  0  0  0  0  0  0  0  0  0  0\n",
      "  0  0  0  0  0  0  0  0  0  0  0  0  0  0  0  0  0  0  0  0  0  0  0  0\n",
      "  0  0  0  0  0  0  0  0  0  0  0  0  0  0  0  0  0  0  0  0  0  0  0  0\n",
      "  0  0  0  0  0  0  0  0  0  0  0  0  0  0  0  0  0  0  0  0  0  0  0  0\n",
      "  0  0  0  0  0  0  0  0  0  0  0  0  0  0  0  0  0  0  0  0  0  0  0  0\n",
      "  0  0  0  0  0  0  0  0  0  0  0  0  0  0  0  0  0  0  0  0  0  0  0  0\n",
      "  0  0  0  0  0  0  0  0  0  0  0  0  0  0  0  0  0  0  0  0  0  0  0  0\n",
      "  0  0  0  0  0  0  0  0  0  0  0  0  0  0  0  0  0  0  0  0  0  0  0  0\n",
      "  0  0  0  0  0  0  0  0]\n"
     ]
    }
   ],
   "source": [
    "print(train_padded.shape)\n",
    "print(validation_padded.shape)\n",
    "print(test_padded.shape)\n",
    "print(train_padded[0])"
   ]
  },
  {
   "cell_type": "code",
   "execution_count": null,
   "id": "3539832b-4ef1-4b60-9cbc-8585096dc13d",
   "metadata": {
    "tags": []
   },
   "outputs": [],
   "source": [
    "def plot_history(data):\n",
    "  plt.plot(data['loss'], label=\"loss\")\n",
    "  plt.plot(data['val_loss'], label=\"val_loss\")\n",
    "  plt.legend()\n",
    "  plt.show()\n",
    "\n",
    "  plt.plot(data['accuracy'], label=\"accuracy\")\n",
    "  plt.plot(data['val_accuracy'], label=\"val_accuracy\")\n",
    "  plt.legend()\n",
    "  plt.show()\n",
    "\n",
    "def train_network(get_model, save_path, epochs=25, INIT_LR=1e-4, MAX_LR=1e-3, BATCH_SIZE=32):\n",
    "  steps_per_epoch = len(train_sequences) // BATCH_SIZE\n",
    "  clr = tfa.optimizers.CyclicalLearningRate(initial_learning_rate=INIT_LR,\n",
    "      maximal_learning_rate=MAX_LR,\n",
    "      scale_fn=lambda x: 1/(2.**(x-1)),\n",
    "      step_size=2 * steps_per_epoch\n",
    "  )\n",
    "\n",
    "  es_cb = tf.keras.callbacks.EarlyStopping(monitor='val_loss', mode='min', min_delta=0.01, patience=5)\n",
    "  save_model_cb = tf.keras.callbacks.ModelCheckpoint(save_path, monitor = \"accuracy\", verbose= 1, save_best_only = True) \n",
    "\n",
    "  model = get_model()\n",
    "  optimizer = tf.keras.optimizers.Adam(clr)\n",
    "  model.compile(loss='sparse_categorical_crossentropy',optimizer=optimizer,metrics=['accuracy'])\n",
    "  model.summary()\n",
    "\n",
    "  history = model.fit(train_padded, training_label_seq, epochs=epochs, validation_data=(validation_padded, validation_label_seq), \n",
    "                      callbacks = [es_cb , save_model_cb])\n",
    "  \n",
    "  data = history.history\n",
    "  plot_history(data)\n",
    "  return history"
   ]
  },
  {
   "cell_type": "markdown",
   "id": "c382858a-e89d-4f7a-ad68-d1369aa8fb44",
   "metadata": {},
   "source": [
    "# ProtCNN"
   ]
  },
  {
   "cell_type": "markdown",
   "id": "a9d6e3de-a77b-417a-84a5-b658d6327201",
   "metadata": {},
   "source": [
    "## Architecture"
   ]
  },
  {
   "cell_type": "code",
   "execution_count": 43,
   "id": "a7e296d0-decb-40cf-9f33-ee1a239e0dbc",
   "metadata": {
    "tags": []
   },
   "outputs": [],
   "source": [
    "def residual_block(x, dil, filters, ks=3):\n",
    "    shortcut = x\n",
    "    bn1 = tf.keras.layers.BatchNormalization()(x)\n",
    "    a1 = tf.keras.layers.Activation(\"relu\")(x)\n",
    "    conv1 = tf.keras.layers.Conv1D(filters, ks, dilation_rate=dil, padding=\"same\")(x)\n",
    "    \n",
    "    bn2 = tf.keras.layers.BatchNormalization()(conv1)\n",
    "    a2 = tf.keras.layers.Activation(\"relu\")(bn2)\n",
    "    conv2 = tf.keras.layers.Conv1D(filters, ks, padding=\"same\")(a2)\n",
    "    \n",
    "    x = tf.keras.layers.Add()([conv2, shortcut])\n",
    "    return x\n",
    "\n",
    "\n",
    "def getProtCNN(numclass, residuals_ks=3, residuals_filters=64):\n",
    "    input_x = tf.keras.layers.Input(shape=(512, ))\n",
    "    x = tf.keras.layers.Embedding(vocab_size, vocab_size, embeddings_initializer=tf.keras.initializers.Identity(gain=1.0), trainable=False)(input_x)\n",
    "    x = tf.keras.layers.Permute(dims=[2, 1])(x)\n",
    "    x = tf.keras.layers.Conv1D(64, 8, padding=\"same\")(x)\n",
    "    x = residual_block(x, 1, residuals_filters, ks=residuals_ks)\n",
    "    x = residual_block(x, 2, residuals_filters, ks=residuals_ks)\n",
    "    x = tf.keras.layers.Permute(dims=[2, 1])(x)\n",
    "    x = tf.keras.layers.Conv1D(64, 3, padding=\"same\")(x)\n",
    "    x = residual_block(x, 1, residuals_filters, ks=residuals_ks)\n",
    "    x = residual_block(x, 2, residuals_filters, ks=residuals_ks)\n",
    "    x = tf.keras.layers.Lambda(lambda x: K.expand_dims(x, -1))(x) #will not compile if not defined as lambda\n",
    "    x = tf.keras.layers.Conv2D(32, (4,4), padding=\"same\")(x)\n",
    "    x = tf.keras.layers.Activation(\"relu\")(x)\n",
    "    x = tf.keras.layers.Conv2D(8, (8,8), padding=\"same\")(x)\n",
    "    x = tf.keras.layers.Activation(\"relu\")(x)\n",
    "    x = tf.keras.layers.MaxPooling2D((64,64))(x)\n",
    "    #x = tf.keras.layers.Conv1D(8, 8, padding=\"same\")(x)\n",
    "    #x = tf.keras.layers.MaxPooling1D(64)(x)\n",
    "    x = tf.keras.layers.Flatten()(x)\n",
    "    out = tf.keras.layers.Dense(numclass+1, activation=\"softmax\")(x)\n",
    "\n",
    "    model = tf.keras.Model(inputs=input_x, outputs=out)\n",
    "    return model"
   ]
  },
  {
   "cell_type": "markdown",
   "id": "88a22ea0-9065-46cc-a8f6-212d1fed17e9",
   "metadata": {},
   "source": [
    "## Experiment 1"
   ]
  },
  {
   "cell_type": "code",
   "execution_count": 46,
   "id": "ac234c03-42ea-4a00-a47e-21a91b2228ed",
   "metadata": {
    "tags": []
   },
   "outputs": [
    {
     "name": "stderr",
     "output_type": "stream",
     "text": [
      "2023-04-22 22:15:15.894245: I tensorflow/core/common_runtime/gpu/gpu_device.cc:1635] Created device /job:localhost/replica:0/task:0/device:GPU:0 with 22077 MB memory:  -> device: 0, name: NVIDIA GeForce RTX 4090, pci bus id: 0000:c1:00.0, compute capability: 8.9\n"
     ]
    },
    {
     "name": "stdout",
     "output_type": "stream",
     "text": [
      "Model: \"model\"\n",
      "__________________________________________________________________________________________________\n",
      " Layer (type)                   Output Shape         Param #     Connected to                     \n",
      "==================================================================================================\n",
      " input_1 (InputLayer)           [(None, 512)]        0           []                               \n",
      "                                                                                                  \n",
      " embedding (Embedding)          (None, 512, 25)      625         ['input_1[0][0]']                \n",
      "                                                                                                  \n",
      " permute (Permute)              (None, 25, 512)      0           ['embedding[0][0]']              \n",
      "                                                                                                  \n",
      " conv1d (Conv1D)                (None, 25, 64)       262208      ['permute[0][0]']                \n",
      "                                                                                                  \n",
      " conv1d_1 (Conv1D)              (None, 25, 64)       12352       ['conv1d[0][0]']                 \n",
      "                                                                                                  \n",
      " batch_normalization_1 (BatchNo  (None, 25, 64)      256         ['conv1d_1[0][0]']               \n",
      " rmalization)                                                                                     \n",
      "                                                                                                  \n",
      " activation_1 (Activation)      (None, 25, 64)       0           ['batch_normalization_1[0][0]']  \n",
      "                                                                                                  \n",
      " conv1d_2 (Conv1D)              (None, 25, 64)       12352       ['activation_1[0][0]']           \n",
      "                                                                                                  \n",
      " add (Add)                      (None, 25, 64)       0           ['conv1d_2[0][0]',               \n",
      "                                                                  'conv1d[0][0]']                 \n",
      "                                                                                                  \n",
      " conv1d_3 (Conv1D)              (None, 25, 64)       12352       ['add[0][0]']                    \n",
      "                                                                                                  \n",
      " batch_normalization_3 (BatchNo  (None, 25, 64)      256         ['conv1d_3[0][0]']               \n",
      " rmalization)                                                                                     \n",
      "                                                                                                  \n",
      " activation_3 (Activation)      (None, 25, 64)       0           ['batch_normalization_3[0][0]']  \n",
      "                                                                                                  \n",
      " conv1d_4 (Conv1D)              (None, 25, 64)       12352       ['activation_3[0][0]']           \n",
      "                                                                                                  \n",
      " add_1 (Add)                    (None, 25, 64)       0           ['conv1d_4[0][0]',               \n",
      "                                                                  'add[0][0]']                    \n",
      "                                                                                                  \n",
      " permute_1 (Permute)            (None, 64, 25)       0           ['add_1[0][0]']                  \n",
      "                                                                                                  \n",
      " conv1d_5 (Conv1D)              (None, 64, 64)       4864        ['permute_1[0][0]']              \n",
      "                                                                                                  \n",
      " conv1d_6 (Conv1D)              (None, 64, 64)       12352       ['conv1d_5[0][0]']               \n",
      "                                                                                                  \n",
      " batch_normalization_5 (BatchNo  (None, 64, 64)      256         ['conv1d_6[0][0]']               \n",
      " rmalization)                                                                                     \n",
      "                                                                                                  \n",
      " activation_5 (Activation)      (None, 64, 64)       0           ['batch_normalization_5[0][0]']  \n",
      "                                                                                                  \n",
      " conv1d_7 (Conv1D)              (None, 64, 64)       12352       ['activation_5[0][0]']           \n",
      "                                                                                                  \n",
      " add_2 (Add)                    (None, 64, 64)       0           ['conv1d_7[0][0]',               \n",
      "                                                                  'conv1d_5[0][0]']               \n",
      "                                                                                                  \n",
      " conv1d_8 (Conv1D)              (None, 64, 64)       12352       ['add_2[0][0]']                  \n",
      "                                                                                                  \n",
      " batch_normalization_7 (BatchNo  (None, 64, 64)      256         ['conv1d_8[0][0]']               \n",
      " rmalization)                                                                                     \n",
      "                                                                                                  \n",
      " activation_7 (Activation)      (None, 64, 64)       0           ['batch_normalization_7[0][0]']  \n",
      "                                                                                                  \n",
      " conv1d_9 (Conv1D)              (None, 64, 64)       12352       ['activation_7[0][0]']           \n",
      "                                                                                                  \n",
      " add_3 (Add)                    (None, 64, 64)       0           ['conv1d_9[0][0]',               \n",
      "                                                                  'add_2[0][0]']                  \n",
      "                                                                                                  \n",
      " lambda (Lambda)                (None, 64, 64, 1)    0           ['add_3[0][0]']                  \n",
      "                                                                                                  \n",
      " conv2d (Conv2D)                (None, 64, 64, 32)   544         ['lambda[0][0]']                 \n",
      "                                                                                                  \n",
      " activation_8 (Activation)      (None, 64, 64, 32)   0           ['conv2d[0][0]']                 \n",
      "                                                                                                  \n",
      " conv2d_1 (Conv2D)              (None, 64, 64, 8)    16392       ['activation_8[0][0]']           \n",
      "                                                                                                  \n",
      " activation_9 (Activation)      (None, 64, 64, 8)    0           ['conv2d_1[0][0]']               \n",
      "                                                                                                  \n",
      " max_pooling2d (MaxPooling2D)   (None, 1, 1, 8)      0           ['activation_9[0][0]']           \n",
      "                                                                                                  \n",
      " flatten (Flatten)              (None, 8)            0           ['max_pooling2d[0][0]']          \n",
      "                                                                                                  \n",
      " dense (Dense)                  (None, 3001)         27009       ['flatten[0][0]']                \n",
      "                                                                                                  \n",
      "==================================================================================================\n",
      "Total params: 411,482\n",
      "Trainable params: 410,345\n",
      "Non-trainable params: 1,137\n",
      "__________________________________________________________________________________________________\n"
     ]
    },
    {
     "name": "stderr",
     "output_type": "stream",
     "text": [
      "2023-04-22 22:15:21.049222: E tensorflow/compiler/xla/stream_executor/cuda/cuda_dnn.cc:417] Loaded runtime CuDNN library: 8.4.0 but source was compiled with: 8.6.0.  CuDNN library needs to have matching major version and equal or higher minor version. If using a binary install, upgrade your CuDNN library.  If building from sources, make sure the library loaded at runtime is compatible with the version specified during compile configuration.\n",
      "2023-04-22 22:15:21.050081: W tensorflow/core/framework/op_kernel.cc:1830] OP_REQUIRES failed at conv_ops.cc:1068 : UNIMPLEMENTED: DNN library is not found.\n",
      "2023-04-22 22:15:21.050125: I tensorflow/core/common_runtime/executor.cc:1197] [/job:localhost/replica:0/task:0/device:GPU:0] (DEBUG INFO) Executor start aborting (this does not indicate an error and you can ignore this message): UNIMPLEMENTED: DNN library is not found.\n",
      "\t [[{{node model/conv1d/Conv1D}}]]\n"
     ]
    },
    {
     "ename": "UnimplementedError",
     "evalue": "Graph execution error:\n\nDetected at node 'model/conv1d/Conv1D' defined at (most recent call last):\n    File \"/usr/lib/python3.10/runpy.py\", line 196, in _run_module_as_main\n      return _run_code(code, main_globals, None,\n    File \"/usr/lib/python3.10/runpy.py\", line 86, in _run_code\n      exec(code, run_globals)\n    File \"/usr/local/lib/python3.10/dist-packages/ipykernel_launcher.py\", line 17, in <module>\n      app.launch_new_instance()\n    File \"/usr/local/lib/python3.10/dist-packages/traitlets/config/application.py\", line 1043, in launch_instance\n      app.start()\n    File \"/usr/local/lib/python3.10/dist-packages/ipykernel/kernelapp.py\", line 725, in start\n      self.io_loop.start()\n    File \"/usr/local/lib/python3.10/dist-packages/tornado/platform/asyncio.py\", line 215, in start\n      self.asyncio_loop.run_forever()\n    File \"/usr/lib/python3.10/asyncio/base_events.py\", line 603, in run_forever\n      self._run_once()\n    File \"/usr/lib/python3.10/asyncio/base_events.py\", line 1909, in _run_once\n      handle._run()\n    File \"/usr/lib/python3.10/asyncio/events.py\", line 80, in _run\n      self._context.run(self._callback, *self._args)\n    File \"/usr/local/lib/python3.10/dist-packages/ipykernel/kernelbase.py\", line 513, in dispatch_queue\n      await self.process_one()\n    File \"/usr/local/lib/python3.10/dist-packages/ipykernel/kernelbase.py\", line 502, in process_one\n      await dispatch(*args)\n    File \"/usr/local/lib/python3.10/dist-packages/ipykernel/kernelbase.py\", line 409, in dispatch_shell\n      await result\n    File \"/usr/local/lib/python3.10/dist-packages/ipykernel/kernelbase.py\", line 729, in execute_request\n      reply_content = await reply_content\n    File \"/usr/local/lib/python3.10/dist-packages/ipykernel/ipkernel.py\", line 422, in do_execute\n      res = shell.run_cell(\n    File \"/usr/local/lib/python3.10/dist-packages/ipykernel/zmqshell.py\", line 540, in run_cell\n      return super().run_cell(*args, **kwargs)\n    File \"/usr/local/lib/python3.10/dist-packages/IPython/core/interactiveshell.py\", line 3006, in run_cell\n      result = self._run_cell(\n    File \"/usr/local/lib/python3.10/dist-packages/IPython/core/interactiveshell.py\", line 3061, in _run_cell\n      result = runner(coro)\n    File \"/usr/local/lib/python3.10/dist-packages/IPython/core/async_helpers.py\", line 129, in _pseudo_sync_runner\n      coro.send(None)\n    File \"/usr/local/lib/python3.10/dist-packages/IPython/core/interactiveshell.py\", line 3266, in run_cell_async\n      has_raised = await self.run_ast_nodes(code_ast.body, cell_name,\n    File \"/usr/local/lib/python3.10/dist-packages/IPython/core/interactiveshell.py\", line 3445, in run_ast_nodes\n      if await self.run_code(code, result, async_=asy):\n    File \"/usr/local/lib/python3.10/dist-packages/IPython/core/interactiveshell.py\", line 3505, in run_code\n      exec(code_obj, self.user_global_ns, self.user_ns)\n    File \"/tmp/ipykernel_364/3158395036.py\", line 2, in <module>\n      train_network(model, os.path.join(\"models\", \"protCNN_exp1.h5\"), epochs=1)\n    File \"/tmp/ipykernel_364/193760011.py\", line 28, in train_network\n      history = model.fit(train_padded, training_label_seq, epochs=epochs, validation_data=(validation_padded, validation_label_seq),\n    File \"/usr/local/lib/python3.10/dist-packages/keras/utils/traceback_utils.py\", line 65, in error_handler\n      return fn(*args, **kwargs)\n    File \"/usr/local/lib/python3.10/dist-packages/keras/engine/training.py\", line 1685, in fit\n      tmp_logs = self.train_function(iterator)\n    File \"/usr/local/lib/python3.10/dist-packages/keras/engine/training.py\", line 1284, in train_function\n      return step_function(self, iterator)\n    File \"/usr/local/lib/python3.10/dist-packages/keras/engine/training.py\", line 1268, in step_function\n      outputs = model.distribute_strategy.run(run_step, args=(data,))\n    File \"/usr/local/lib/python3.10/dist-packages/keras/engine/training.py\", line 1249, in run_step\n      outputs = model.train_step(data)\n    File \"/usr/local/lib/python3.10/dist-packages/keras/engine/training.py\", line 1050, in train_step\n      y_pred = self(x, training=True)\n    File \"/usr/local/lib/python3.10/dist-packages/keras/utils/traceback_utils.py\", line 65, in error_handler\n      return fn(*args, **kwargs)\n    File \"/usr/local/lib/python3.10/dist-packages/keras/engine/training.py\", line 558, in __call__\n      return super().__call__(*args, **kwargs)\n    File \"/usr/local/lib/python3.10/dist-packages/keras/utils/traceback_utils.py\", line 65, in error_handler\n      return fn(*args, **kwargs)\n    File \"/usr/local/lib/python3.10/dist-packages/keras/engine/base_layer.py\", line 1145, in __call__\n      outputs = call_fn(inputs, *args, **kwargs)\n    File \"/usr/local/lib/python3.10/dist-packages/keras/utils/traceback_utils.py\", line 96, in error_handler\n      return fn(*args, **kwargs)\n    File \"/usr/local/lib/python3.10/dist-packages/keras/engine/functional.py\", line 512, in call\n      return self._run_internal_graph(inputs, training=training, mask=mask)\n    File \"/usr/local/lib/python3.10/dist-packages/keras/engine/functional.py\", line 669, in _run_internal_graph\n      outputs = node.layer(*args, **kwargs)\n    File \"/usr/local/lib/python3.10/dist-packages/keras/utils/traceback_utils.py\", line 65, in error_handler\n      return fn(*args, **kwargs)\n    File \"/usr/local/lib/python3.10/dist-packages/keras/engine/base_layer.py\", line 1145, in __call__\n      outputs = call_fn(inputs, *args, **kwargs)\n    File \"/usr/local/lib/python3.10/dist-packages/keras/utils/traceback_utils.py\", line 96, in error_handler\n      return fn(*args, **kwargs)\n    File \"/usr/local/lib/python3.10/dist-packages/keras/layers/convolutional/base_conv.py\", line 290, in call\n      outputs = self.convolution_op(inputs, self.kernel)\n    File \"/usr/local/lib/python3.10/dist-packages/keras/layers/convolutional/base_conv.py\", line 262, in convolution_op\n      return tf.nn.convolution(\nNode: 'model/conv1d/Conv1D'\nDNN library is not found.\n\t [[{{node model/conv1d/Conv1D}}]] [Op:__inference_train_function_5119]",
     "output_type": "error",
     "traceback": [
      "\u001b[0;31m---------------------------------------------------------------------------\u001b[0m",
      "\u001b[0;31mUnimplementedError\u001b[0m                        Traceback (most recent call last)",
      "Cell \u001b[0;32mIn[46], line 2\u001b[0m\n\u001b[1;32m      1\u001b[0m model \u001b[38;5;241m=\u001b[39m partial(partial(getProtCNN, n_families_of_interest))\n\u001b[0;32m----> 2\u001b[0m \u001b[43mtrain_network\u001b[49m\u001b[43m(\u001b[49m\u001b[43mmodel\u001b[49m\u001b[43m,\u001b[49m\u001b[43m \u001b[49m\u001b[43mos\u001b[49m\u001b[38;5;241;43m.\u001b[39;49m\u001b[43mpath\u001b[49m\u001b[38;5;241;43m.\u001b[39;49m\u001b[43mjoin\u001b[49m\u001b[43m(\u001b[49m\u001b[38;5;124;43m\"\u001b[39;49m\u001b[38;5;124;43mmodels\u001b[39;49m\u001b[38;5;124;43m\"\u001b[39;49m\u001b[43m,\u001b[49m\u001b[43m \u001b[49m\u001b[38;5;124;43m\"\u001b[39;49m\u001b[38;5;124;43mprotCNN_exp1.h5\u001b[39;49m\u001b[38;5;124;43m\"\u001b[39;49m\u001b[43m)\u001b[49m\u001b[43m,\u001b[49m\u001b[43m \u001b[49m\u001b[43mepochs\u001b[49m\u001b[38;5;241;43m=\u001b[39;49m\u001b[38;5;241;43m1\u001b[39;49m\u001b[43m)\u001b[49m\n",
      "Cell \u001b[0;32mIn[42], line 28\u001b[0m, in \u001b[0;36mtrain_network\u001b[0;34m(get_model, save_path, epochs, INIT_LR, MAX_LR, BATCH_SIZE)\u001b[0m\n\u001b[1;32m     25\u001b[0m model\u001b[38;5;241m.\u001b[39mcompile(loss\u001b[38;5;241m=\u001b[39m\u001b[38;5;124m'\u001b[39m\u001b[38;5;124msparse_categorical_crossentropy\u001b[39m\u001b[38;5;124m'\u001b[39m,optimizer\u001b[38;5;241m=\u001b[39moptimizer,metrics\u001b[38;5;241m=\u001b[39m[\u001b[38;5;124m'\u001b[39m\u001b[38;5;124maccuracy\u001b[39m\u001b[38;5;124m'\u001b[39m])\n\u001b[1;32m     26\u001b[0m model\u001b[38;5;241m.\u001b[39msummary()\n\u001b[0;32m---> 28\u001b[0m history \u001b[38;5;241m=\u001b[39m \u001b[43mmodel\u001b[49m\u001b[38;5;241;43m.\u001b[39;49m\u001b[43mfit\u001b[49m\u001b[43m(\u001b[49m\u001b[43mtrain_padded\u001b[49m\u001b[43m,\u001b[49m\u001b[43m \u001b[49m\u001b[43mtraining_label_seq\u001b[49m\u001b[43m,\u001b[49m\u001b[43m \u001b[49m\u001b[43mepochs\u001b[49m\u001b[38;5;241;43m=\u001b[39;49m\u001b[43mepochs\u001b[49m\u001b[43m,\u001b[49m\u001b[43m \u001b[49m\u001b[43mvalidation_data\u001b[49m\u001b[38;5;241;43m=\u001b[39;49m\u001b[43m(\u001b[49m\u001b[43mvalidation_padded\u001b[49m\u001b[43m,\u001b[49m\u001b[43m \u001b[49m\u001b[43mvalidation_label_seq\u001b[49m\u001b[43m)\u001b[49m\u001b[43m,\u001b[49m\u001b[43m \u001b[49m\n\u001b[1;32m     29\u001b[0m \u001b[43m                    \u001b[49m\u001b[43mcallbacks\u001b[49m\u001b[43m \u001b[49m\u001b[38;5;241;43m=\u001b[39;49m\u001b[43m \u001b[49m\u001b[43m[\u001b[49m\u001b[43mes_cb\u001b[49m\u001b[43m \u001b[49m\u001b[43m,\u001b[49m\u001b[43m \u001b[49m\u001b[43msave_model_cb\u001b[49m\u001b[43m]\u001b[49m\u001b[43m)\u001b[49m\n\u001b[1;32m     31\u001b[0m data \u001b[38;5;241m=\u001b[39m history\u001b[38;5;241m.\u001b[39mhistory\n\u001b[1;32m     32\u001b[0m plot_history(data)\n",
      "File \u001b[0;32m/usr/local/lib/python3.10/dist-packages/keras/utils/traceback_utils.py:70\u001b[0m, in \u001b[0;36mfilter_traceback.<locals>.error_handler\u001b[0;34m(*args, **kwargs)\u001b[0m\n\u001b[1;32m     67\u001b[0m     filtered_tb \u001b[38;5;241m=\u001b[39m _process_traceback_frames(e\u001b[38;5;241m.\u001b[39m__traceback__)\n\u001b[1;32m     68\u001b[0m     \u001b[38;5;66;03m# To get the full stack trace, call:\u001b[39;00m\n\u001b[1;32m     69\u001b[0m     \u001b[38;5;66;03m# `tf.debugging.disable_traceback_filtering()`\u001b[39;00m\n\u001b[0;32m---> 70\u001b[0m     \u001b[38;5;28;01mraise\u001b[39;00m e\u001b[38;5;241m.\u001b[39mwith_traceback(filtered_tb) \u001b[38;5;28;01mfrom\u001b[39;00m \u001b[38;5;28mNone\u001b[39m\n\u001b[1;32m     71\u001b[0m \u001b[38;5;28;01mfinally\u001b[39;00m:\n\u001b[1;32m     72\u001b[0m     \u001b[38;5;28;01mdel\u001b[39;00m filtered_tb\n",
      "File \u001b[0;32m/usr/local/lib/python3.10/dist-packages/tensorflow/python/eager/execute.py:52\u001b[0m, in \u001b[0;36mquick_execute\u001b[0;34m(op_name, num_outputs, inputs, attrs, ctx, name)\u001b[0m\n\u001b[1;32m     50\u001b[0m \u001b[38;5;28;01mtry\u001b[39;00m:\n\u001b[1;32m     51\u001b[0m   ctx\u001b[38;5;241m.\u001b[39mensure_initialized()\n\u001b[0;32m---> 52\u001b[0m   tensors \u001b[38;5;241m=\u001b[39m pywrap_tfe\u001b[38;5;241m.\u001b[39mTFE_Py_Execute(ctx\u001b[38;5;241m.\u001b[39m_handle, device_name, op_name,\n\u001b[1;32m     53\u001b[0m                                       inputs, attrs, num_outputs)\n\u001b[1;32m     54\u001b[0m \u001b[38;5;28;01mexcept\u001b[39;00m core\u001b[38;5;241m.\u001b[39m_NotOkStatusException \u001b[38;5;28;01mas\u001b[39;00m e:\n\u001b[1;32m     55\u001b[0m   \u001b[38;5;28;01mif\u001b[39;00m name \u001b[38;5;129;01mis\u001b[39;00m \u001b[38;5;129;01mnot\u001b[39;00m \u001b[38;5;28;01mNone\u001b[39;00m:\n",
      "\u001b[0;31mUnimplementedError\u001b[0m: Graph execution error:\n\nDetected at node 'model/conv1d/Conv1D' defined at (most recent call last):\n    File \"/usr/lib/python3.10/runpy.py\", line 196, in _run_module_as_main\n      return _run_code(code, main_globals, None,\n    File \"/usr/lib/python3.10/runpy.py\", line 86, in _run_code\n      exec(code, run_globals)\n    File \"/usr/local/lib/python3.10/dist-packages/ipykernel_launcher.py\", line 17, in <module>\n      app.launch_new_instance()\n    File \"/usr/local/lib/python3.10/dist-packages/traitlets/config/application.py\", line 1043, in launch_instance\n      app.start()\n    File \"/usr/local/lib/python3.10/dist-packages/ipykernel/kernelapp.py\", line 725, in start\n      self.io_loop.start()\n    File \"/usr/local/lib/python3.10/dist-packages/tornado/platform/asyncio.py\", line 215, in start\n      self.asyncio_loop.run_forever()\n    File \"/usr/lib/python3.10/asyncio/base_events.py\", line 603, in run_forever\n      self._run_once()\n    File \"/usr/lib/python3.10/asyncio/base_events.py\", line 1909, in _run_once\n      handle._run()\n    File \"/usr/lib/python3.10/asyncio/events.py\", line 80, in _run\n      self._context.run(self._callback, *self._args)\n    File \"/usr/local/lib/python3.10/dist-packages/ipykernel/kernelbase.py\", line 513, in dispatch_queue\n      await self.process_one()\n    File \"/usr/local/lib/python3.10/dist-packages/ipykernel/kernelbase.py\", line 502, in process_one\n      await dispatch(*args)\n    File \"/usr/local/lib/python3.10/dist-packages/ipykernel/kernelbase.py\", line 409, in dispatch_shell\n      await result\n    File \"/usr/local/lib/python3.10/dist-packages/ipykernel/kernelbase.py\", line 729, in execute_request\n      reply_content = await reply_content\n    File \"/usr/local/lib/python3.10/dist-packages/ipykernel/ipkernel.py\", line 422, in do_execute\n      res = shell.run_cell(\n    File \"/usr/local/lib/python3.10/dist-packages/ipykernel/zmqshell.py\", line 540, in run_cell\n      return super().run_cell(*args, **kwargs)\n    File \"/usr/local/lib/python3.10/dist-packages/IPython/core/interactiveshell.py\", line 3006, in run_cell\n      result = self._run_cell(\n    File \"/usr/local/lib/python3.10/dist-packages/IPython/core/interactiveshell.py\", line 3061, in _run_cell\n      result = runner(coro)\n    File \"/usr/local/lib/python3.10/dist-packages/IPython/core/async_helpers.py\", line 129, in _pseudo_sync_runner\n      coro.send(None)\n    File \"/usr/local/lib/python3.10/dist-packages/IPython/core/interactiveshell.py\", line 3266, in run_cell_async\n      has_raised = await self.run_ast_nodes(code_ast.body, cell_name,\n    File \"/usr/local/lib/python3.10/dist-packages/IPython/core/interactiveshell.py\", line 3445, in run_ast_nodes\n      if await self.run_code(code, result, async_=asy):\n    File \"/usr/local/lib/python3.10/dist-packages/IPython/core/interactiveshell.py\", line 3505, in run_code\n      exec(code_obj, self.user_global_ns, self.user_ns)\n    File \"/tmp/ipykernel_364/3158395036.py\", line 2, in <module>\n      train_network(model, os.path.join(\"models\", \"protCNN_exp1.h5\"), epochs=1)\n    File \"/tmp/ipykernel_364/193760011.py\", line 28, in train_network\n      history = model.fit(train_padded, training_label_seq, epochs=epochs, validation_data=(validation_padded, validation_label_seq),\n    File \"/usr/local/lib/python3.10/dist-packages/keras/utils/traceback_utils.py\", line 65, in error_handler\n      return fn(*args, **kwargs)\n    File \"/usr/local/lib/python3.10/dist-packages/keras/engine/training.py\", line 1685, in fit\n      tmp_logs = self.train_function(iterator)\n    File \"/usr/local/lib/python3.10/dist-packages/keras/engine/training.py\", line 1284, in train_function\n      return step_function(self, iterator)\n    File \"/usr/local/lib/python3.10/dist-packages/keras/engine/training.py\", line 1268, in step_function\n      outputs = model.distribute_strategy.run(run_step, args=(data,))\n    File \"/usr/local/lib/python3.10/dist-packages/keras/engine/training.py\", line 1249, in run_step\n      outputs = model.train_step(data)\n    File \"/usr/local/lib/python3.10/dist-packages/keras/engine/training.py\", line 1050, in train_step\n      y_pred = self(x, training=True)\n    File \"/usr/local/lib/python3.10/dist-packages/keras/utils/traceback_utils.py\", line 65, in error_handler\n      return fn(*args, **kwargs)\n    File \"/usr/local/lib/python3.10/dist-packages/keras/engine/training.py\", line 558, in __call__\n      return super().__call__(*args, **kwargs)\n    File \"/usr/local/lib/python3.10/dist-packages/keras/utils/traceback_utils.py\", line 65, in error_handler\n      return fn(*args, **kwargs)\n    File \"/usr/local/lib/python3.10/dist-packages/keras/engine/base_layer.py\", line 1145, in __call__\n      outputs = call_fn(inputs, *args, **kwargs)\n    File \"/usr/local/lib/python3.10/dist-packages/keras/utils/traceback_utils.py\", line 96, in error_handler\n      return fn(*args, **kwargs)\n    File \"/usr/local/lib/python3.10/dist-packages/keras/engine/functional.py\", line 512, in call\n      return self._run_internal_graph(inputs, training=training, mask=mask)\n    File \"/usr/local/lib/python3.10/dist-packages/keras/engine/functional.py\", line 669, in _run_internal_graph\n      outputs = node.layer(*args, **kwargs)\n    File \"/usr/local/lib/python3.10/dist-packages/keras/utils/traceback_utils.py\", line 65, in error_handler\n      return fn(*args, **kwargs)\n    File \"/usr/local/lib/python3.10/dist-packages/keras/engine/base_layer.py\", line 1145, in __call__\n      outputs = call_fn(inputs, *args, **kwargs)\n    File \"/usr/local/lib/python3.10/dist-packages/keras/utils/traceback_utils.py\", line 96, in error_handler\n      return fn(*args, **kwargs)\n    File \"/usr/local/lib/python3.10/dist-packages/keras/layers/convolutional/base_conv.py\", line 290, in call\n      outputs = self.convolution_op(inputs, self.kernel)\n    File \"/usr/local/lib/python3.10/dist-packages/keras/layers/convolutional/base_conv.py\", line 262, in convolution_op\n      return tf.nn.convolution(\nNode: 'model/conv1d/Conv1D'\nDNN library is not found.\n\t [[{{node model/conv1d/Conv1D}}]] [Op:__inference_train_function_5119]"
     ]
    }
   ],
   "source": [
    "model = partial(partial(getProtCNN, n_families_of_interest))\n",
    "train_network(model, os.path.join(\"models\", \"protCNN_exp1.h5\"), epochs=1)"
   ]
  },
  {
   "cell_type": "code",
   "execution_count": null,
   "id": "5cad8c31-860c-4fe0-bc41-183bd31f4085",
   "metadata": {},
   "outputs": [],
   "source": []
  }
 ],
 "metadata": {
  "kernelspec": {
   "display_name": "Python 3 (ipykernel)",
   "language": "python",
   "name": "python3"
  },
  "language_info": {
   "codemirror_mode": {
    "name": "ipython",
    "version": 3
   },
   "file_extension": ".py",
   "mimetype": "text/x-python",
   "name": "python",
   "nbconvert_exporter": "python",
   "pygments_lexer": "ipython3",
   "version": "3.10.10"
  }
 },
 "nbformat": 4,
 "nbformat_minor": 5
}
