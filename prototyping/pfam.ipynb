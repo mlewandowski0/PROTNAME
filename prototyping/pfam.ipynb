{
  "nbformat": 4,
  "nbformat_minor": 0,
  "metadata": {
    "colab": {
      "provenance": [],
      "machine_shape": "hm"
    },
    "kernelspec": {
      "name": "python3",
      "display_name": "Python 3"
    },
    "language_info": {
      "name": "python"
    },
    "accelerator": "GPU",
    "gpuClass": "standard"
  },
  "cells": [
    {
      "cell_type": "markdown",
      "source": [
        "# Install extra packages"
      ],
      "metadata": {
        "id": "zHnkzufh3peX"
      }
    },
    {
      "cell_type": "code",
      "source": [
        "!pip install -q -U tensorflow_addons"
      ],
      "metadata": {
        "colab": {
          "base_uri": "https://localhost:8080/"
        },
        "id": "wASi3YBq3rSC",
        "outputId": "024daeed-15de-4111-f44a-04adcb804644"
      },
      "execution_count": 56,
      "outputs": [
        {
          "output_type": "stream",
          "name": "stdout",
          "text": [
            "\u001b[?25l     \u001b[90m━━━━━━━━━━━━━━━━━━━━━━━━━━━━━━━━━━━━━━━━\u001b[0m \u001b[32m0.0/591.0 kB\u001b[0m \u001b[31m?\u001b[0m eta \u001b[36m-:--:--\u001b[0m\r\u001b[2K     \u001b[90m━━━━━━━━━━━━━━━━━━━━━━━━━━━━━━━━━━━━━━\u001b[0m \u001b[32m591.0/591.0 kB\u001b[0m \u001b[31m23.6 MB/s\u001b[0m eta \u001b[36m0:00:00\u001b[0m\n",
            "\u001b[?25h"
          ]
        }
      ]
    },
    {
      "cell_type": "markdown",
      "source": [
        "# Import Data"
      ],
      "metadata": {
        "id": "neguqnWnw6jR"
      }
    },
    {
      "cell_type": "code",
      "execution_count": 1,
      "metadata": {
        "colab": {
          "base_uri": "https://localhost:8080/"
        },
        "id": "YRy5MMLZwmXu",
        "outputId": "c3950d9d-51ca-4dbf-ca6e-2d9125712328"
      },
      "outputs": [
        {
          "output_type": "stream",
          "name": "stdout",
          "text": [
            "Mounted at /content/drive\n",
            "sending incremental file list\n",
            "pfam.zip\n",
            "    517,047,246 100%   26.77MB/s    0:00:18 (xfr#1, to-chk=0/1)\n",
            "\n",
            "sent 517,323,336 bytes  received 35 bytes  25,235,286.39 bytes/sec\n",
            "total size is 517,047,246  speedup is 1.00\n"
          ]
        }
      ],
      "source": [
        "from google.colab import drive\n",
        "drive.mount('/content/drive')\n",
        "\n",
        "!rsync -avzP /content/drive/MyDrive/datasets/kaggling/pfam/pfam.zip . \n",
        "!unzip -q pfam.zip"
      ]
    },
    {
      "cell_type": "markdown",
      "source": [
        "# Imports"
      ],
      "metadata": {
        "id": "G70wQ-WYyDnb"
      }
    },
    {
      "cell_type": "code",
      "source": [
        "from tensorflow.keras.preprocessing.text import Tokenizer\n",
        "from tensorflow.keras.preprocessing.text import Tokenizer\n",
        "from tensorflow.keras.preprocessing.sequence import pad_sequences\n",
        "from tensorflow.keras import backend as K\n",
        "import tensorflow_addons as tfa\n",
        "import tensorflow as tf\n",
        "from functools import partial \n",
        "\n",
        "import matplotlib.pyplot as plt\n",
        "from collections import Counter\n",
        "import pandas as pd\n",
        "import numpy as np\n",
        "import seaborn\n",
        "import os\n",
        "import gc"
      ],
      "metadata": {
        "id": "BZ0EucWhxiYj"
      },
      "execution_count": 73,
      "outputs": []
    },
    {
      "cell_type": "markdown",
      "source": [
        "# Inspect dataset"
      ],
      "metadata": {
        "id": "i_JEw2ZTyE4C"
      }
    },
    {
      "cell_type": "code",
      "source": [
        "data_dirpath = \"random_split\"\n",
        "print('Available dataset partitions: ', os.listdir(data_dirpath))"
      ],
      "metadata": {
        "colab": {
          "base_uri": "https://localhost:8080/"
        },
        "id": "2NYPgosax9gY",
        "outputId": "68fc794b-0ffb-4f7e-f1c1-acef8905cecb"
      },
      "execution_count": 7,
      "outputs": [
        {
          "output_type": "stream",
          "name": "stdout",
          "text": [
            "Available dataset partitions:  ['dev', 'train', 'random_split', 'test']\n"
          ]
        }
      ]
    },
    {
      "cell_type": "code",
      "source": [
        "def read_all_shards(partition='dev', data_dir = data_dirpath):\n",
        "    shards = []\n",
        "    for fn in os.listdir(os.path.join(data_dir, partition)):\n",
        "        with open(os.path.join(data_dir, partition, fn)) as f:\n",
        "            shards.append(pd.read_csv(f, index_col=None))\n",
        "    \n",
        "    return pd.concat(shards)\n",
        "\n",
        "def read_all_data_initial():\n",
        "  global train, test, dev, all_train_ds_size, all_test_ds_size, all_dev_ds_size\n",
        "\n",
        "  test = read_all_shards('test')\n",
        "  dev = read_all_shards('dev')\n",
        "  train = read_all_shards('train')\n",
        "\n",
        "  partitions = {'test': test, 'dev': dev, 'train': train}\n",
        "  for name, df in partitions.items():\n",
        "      print('Dataset partition \"%s\" has %d sequences' % (name, len(df)))\n",
        "\n",
        "  all_train_ds_size = len(train)\n",
        "  all_test_ds_size = len(test)\n",
        "  all_dev_ds_size = len(dev)\n",
        "\n",
        "  train.reset_index(inplace=True, drop=True)\n",
        "  dev.reset_index(inplace=True, drop=True)\n",
        "  test.reset_index(inplace=True, drop=True)\n",
        "\n",
        "read_all_data_initial()"
      ],
      "metadata": {
        "colab": {
          "base_uri": "https://localhost:8080/"
        },
        "id": "7LgUv4AuyCXG",
        "outputId": "0b219644-97e7-4f25-c012-973171857a49"
      },
      "execution_count": 35,
      "outputs": [
        {
          "output_type": "stream",
          "name": "stdout",
          "text": [
            "Dataset partition \"test\" has 126171 sequences\n",
            "Dataset partition \"dev\" has 126171 sequences\n",
            "Dataset partition \"train\" has 1086741 sequences\n"
          ]
        }
      ]
    },
    {
      "cell_type": "code",
      "source": [
        "def plot_counts(data):\n",
        "\n",
        "    counter = Counter(data['family_accession'])\n",
        "    print(f\"how many labels : {len(counter)}\")\n",
        "    \n",
        "    datasetSize = len(data)\n",
        "    xs = []\n",
        "    x_labels = []\n",
        "    ys = []\n",
        "\n",
        "    t = 0\n",
        "    cumulative = []\n",
        "\n",
        "    for i,(x, y) in  enumerate(counter.most_common()):\n",
        "        xs.append(i)\n",
        "        x_labels.append(x)\n",
        "        ys.append(y)\n",
        "        t += y / datasetSize\n",
        "        cumulative.append(t)\n",
        "\n",
        "    plt.figure(figsize=(16 ,6))\n",
        "    plt.subplot(1, 2, 1)\n",
        "    plt.plot(xs, ys)\n",
        "    plt.yscale(\"log\")\n",
        "\n",
        "    plt.subplot(1, 2, 2)\n",
        "    plt.plot(xs, cumulative)\n",
        "    plt.yticks([0, 0.1, 0.2, 0.3, 0.4, 0.5, 0.6, 0.7, 0.8, 0.9, 1.])\n",
        "    plt.show()\n",
        "    return cumulative\n"
      ],
      "metadata": {
        "id": "cfSkBjnsyptI"
      },
      "execution_count": 36,
      "outputs": []
    },
    {
      "cell_type": "code",
      "source": [
        "cumulative = plot_counts(train)"
      ],
      "metadata": {
        "colab": {
          "base_uri": "https://localhost:8080/",
          "height": 539
        },
        "id": "P4vzY0y4yj_v",
        "outputId": "537215e6-d152-4664-dd67-4417e7238921"
      },
      "execution_count": 37,
      "outputs": [
        {
          "output_type": "stream",
          "name": "stdout",
          "text": [
            "how many labels : 17929\n"
          ]
        },
        {
          "output_type": "display_data",
          "data": {
            "text/plain": [
              "<Figure size 1600x600 with 2 Axes>"
            ],
            "image/png": "[encoded data removed]"
          },
          "metadata": {}
        }
      ]
    },
    {
      "cell_type": "code",
      "source": [
        "n_families_of_interest = 3000\n",
        "\n",
        "print(f\"{n_families_of_interest} classes is {100 * round( cumulative[n_families_of_interest-1],3)} portion of training data\")"
      ],
      "metadata": {
        "colab": {
          "base_uri": "https://localhost:8080/"
        },
        "id": "wbJP1xEy0wnp",
        "outputId": "28f6b210-28dc-4283-d683-8811e2e28563"
      },
      "execution_count": 42,
      "outputs": [
        {
          "output_type": "stream",
          "name": "stdout",
          "text": [
            "3000 classes is 65.9 portion of training data\n"
          ]
        }
      ]
    },
    {
      "cell_type": "markdown",
      "source": [
        "# Create the Dataset"
      ],
      "metadata": {
        "id": "hb4wyjIRy4C_"
      }
    },
    {
      "cell_type": "code",
      "source": [
        "familiesOfInterest = train.family_accession.value_counts()[:n_families_of_interest]\n",
        "\n",
        "mask = train.family_accession.isin(familiesOfInterest.index.values)\n",
        "train = train.loc[mask,:]\n",
        "\n",
        "mask = dev.family_accession.isin(familiesOfInterest.index.values)\n",
        "dev = dev.loc[mask,:]\n",
        "\n",
        "mask = test.family_accession.isin(familiesOfInterest.index.values)\n",
        "test = test.loc[mask,:]\n",
        "\n",
        "cumulative_split = plot_counts(train)"
      ],
      "metadata": {
        "colab": {
          "base_uri": "https://localhost:8080/",
          "height": 539
        },
        "id": "5KCWeFJyy5K4",
        "outputId": "3fccb3e0-ce74-44a5-f272-54c2ed784cc3"
      },
      "execution_count": 44,
      "outputs": [
        {
          "output_type": "stream",
          "name": "stdout",
          "text": [
            "how many labels : 3000\n"
          ]
        },
        {
          "output_type": "display_data",
          "data": {
            "text/plain": [
              "<Figure size 1600x600 with 2 Axes>"
            ],
            "image/png": "[encoded data removed]"
          },
          "metadata": {}
        }
      ]
    },
    {
      "cell_type": "code",
      "source": [
        "train_seq = train['sequence']\n",
        "dev_seq = dev['sequence']\n",
        "test_seq = test['sequence']"
      ],
      "metadata": {
        "id": "cpC-VIzIzG8v"
      },
      "execution_count": 45,
      "outputs": []
    },
    {
      "cell_type": "code",
      "source": [
        "train_sentences = train_seq.apply(lambda seq: [aa for aa in seq])\n",
        "validation_sentences = dev_seq.apply(lambda seq: [aa for aa in seq])\n",
        "test_sentences = test_seq.apply(lambda seq: [aa for aa in seq])"
      ],
      "metadata": {
        "id": "0pi7dKhr2pdx"
      },
      "execution_count": 46,
      "outputs": []
    },
    {
      "cell_type": "code",
      "source": [
        "train_labels = train['family_accession'].apply(lambda x: x.split('.')[0])\n",
        "validation_labels = dev['family_accession'].apply(lambda x: x.split('.')[0])\n",
        "test_labels = test['family_accession'].apply(lambda x: x.split('.')[0])\n",
        "\n",
        "label_tokenizer = Tokenizer(oov_token = -1)\n",
        "label_tokenizer.fit_on_texts(train_labels)\n",
        "\n",
        "training_label_seq = np.array(label_tokenizer.texts_to_sequences(train_labels))\n",
        "validation_label_seq = np.array(label_tokenizer.texts_to_sequences(validation_labels))\n",
        "test_label_seq = np.array(label_tokenizer.texts_to_sequences(test_labels))\n",
        "\n",
        "training_label_seq = training_label_seq-1\n",
        "validation_label_seq = validation_label_seq-1\n",
        "test_label_seq = test_label_seq-1"
      ],
      "metadata": {
        "id": "5zkuMduG2sA_"
      },
      "execution_count": 50,
      "outputs": []
    },
    {
      "cell_type": "code",
      "source": [
        "vocab_size = 25\n",
        "embedding_dim = vocab_size\n",
        "max_length = 512\n",
        "trunc_type = \"post\"\n",
        "padding_type = \"post\"\n",
        "oov_tok = \"<OOV>\"\n",
        "training_portion = .8\n",
        "\n",
        "tokenizer = Tokenizer(oov_token=oov_tok, num_words = vocab_size)\n",
        "tokenizer.fit_on_texts(train_sentences)\n",
        "word_index = tokenizer.word_index\n",
        "print(word_index)"
      ],
      "metadata": {
        "colab": {
          "base_uri": "https://localhost:8080/"
        },
        "id": "QgENBH8k20KL",
        "outputId": "72bf24e0-5dd5-4b8c-cb17-293c9249d648"
      },
      "execution_count": 51,
      "outputs": [
        {
          "output_type": "stream",
          "name": "stdout",
          "text": [
            "{'<OOV>': 1, 'l': 2, 'a': 3, 'g': 4, 'v': 5, 'e': 6, 'i': 7, 's': 8, 'r': 9, 'd': 10, 't': 11, 'k': 12, 'p': 13, 'f': 14, 'n': 15, 'q': 16, 'y': 17, 'm': 18, 'h': 19, 'c': 20, 'w': 21, 'x': 22, 'u': 23, 'b': 24, 'o': 25}\n"
          ]
        }
      ]
    },
    {
      "cell_type": "code",
      "source": [
        "train_sequences = tokenizer.texts_to_sequences(train_sentences)\n",
        "print(train_sequences[0])\n",
        "train_padded = pad_sequences(train_sequences, maxlen=max_length, padding=padding_type)\n",
        "print(train_padded[0])"
      ],
      "metadata": {
        "colab": {
          "base_uri": "https://localhost:8080/"
        },
        "id": "lMsQ-Yk927qq",
        "outputId": "75fdb514-899d-4adf-8058-1fe23bac7249"
      },
      "execution_count": 52,
      "outputs": [
        {
          "output_type": "stream",
          "name": "stdout",
          "text": [
            "[2, 6, 4, 7, 9, 3, 2, 5, 11, 2, 4, 8, 11, 9, 6, 21, 7, 10, 9, 5, 9, 14, 7, 8, 15, 13, 8, 8, 4, 5, 18, 4, 2, 6, 3, 3, 2, 6, 2, 17, 3, 9, 4, 3, 6, 5, 10, 5, 5, 3, 4, 17, 11, 8, 5, 6, 7, 13, 19, 2, 14, 15, 11, 5, 12, 11, 6, 11, 11, 6, 10, 18, 3, 3, 3, 5, 6, 6, 2, 11, 8, 12, 9, 6, 17, 10, 3, 5, 5, 3, 3, 3, 3, 13, 5, 10, 14, 9, 13, 3, 4, 3, 14, 6, 4, 12, 7, 9, 8, 4, 16, 9, 2, 5, 2, 6, 2, 6, 13, 11, 13, 12, 5, 2, 6, 4, 7, 3, 9, 9, 13, 12, 5, 2, 5, 3, 14, 3, 3, 6, 17, 5, 10, 15, 2, 10, 8, 2, 9, 10, 13, 3, 2, 6, 12, 18, 6, 12, 17, 10, 3, 10, 2, 5, 5, 3, 15, 9, 5, 4, 5, 6, 4, 5, 4, 14, 3, 8, 13, 2, 2, 10, 5, 2, 18, 2]\n",
            "[ 2  6  4  7  9  3  2  5 11  2  4  8 11  9  6 21  7 10  9  5  9 14  7  8\n",
            " 15 13  8  8  4  5 18  4  2  6  3  3  2  6  2 17  3  9  4  3  6  5 10  5\n",
            "  5  3  4 17 11  8  5  6  7 13 19  2 14 15 11  5 12 11  6 11 11  6 10 18\n",
            "  3  3  3  5  6  6  2 11  8 12  9  6 17 10  3  5  5  3  3  3  3 13  5 10\n",
            " 14  9 13  3  4  3 14  6  4 12  7  9  8  4 16  9  2  5  2  6  2  6 13 11\n",
            " 13 12  5  2  6  4  7  3  9  9 13 12  5  2  5  3 14  3  3  6 17  5 10 15\n",
            "  2 10  8  2  9 10 13  3  2  6 12 18  6 12 17 10  3 10  2  5  5  3 15  9\n",
            "  5  4  5  6  4  5  4 14  3  8 13  2  2 10  5  2 18  2  0  0  0  0  0  0\n",
            "  0  0  0  0  0  0  0  0  0  0  0  0  0  0  0  0  0  0  0  0  0  0  0  0\n",
            "  0  0  0  0  0  0  0  0  0  0  0  0  0  0  0  0  0  0  0  0  0  0  0  0\n",
            "  0  0  0  0  0  0  0  0  0  0  0  0  0  0  0  0  0  0  0  0  0  0  0  0\n",
            "  0  0  0  0  0  0  0  0  0  0  0  0  0  0  0  0  0  0  0  0  0  0  0  0\n",
            "  0  0  0  0  0  0  0  0  0  0  0  0  0  0  0  0  0  0  0  0  0  0  0  0\n",
            "  0  0  0  0  0  0  0  0  0  0  0  0  0  0  0  0  0  0  0  0  0  0  0  0\n",
            "  0  0  0  0  0  0  0  0  0  0  0  0  0  0  0  0  0  0  0  0  0  0  0  0\n",
            "  0  0  0  0  0  0  0  0  0  0  0  0  0  0  0  0  0  0  0  0  0  0  0  0\n",
            "  0  0  0  0  0  0  0  0  0  0  0  0  0  0  0  0  0  0  0  0  0  0  0  0\n",
            "  0  0  0  0  0  0  0  0  0  0  0  0  0  0  0  0  0  0  0  0  0  0  0  0\n",
            "  0  0  0  0  0  0  0  0  0  0  0  0  0  0  0  0  0  0  0  0  0  0  0  0\n",
            "  0  0  0  0  0  0  0  0  0  0  0  0  0  0  0  0  0  0  0  0  0  0  0  0\n",
            "  0  0  0  0  0  0  0  0  0  0  0  0  0  0  0  0  0  0  0  0  0  0  0  0\n",
            "  0  0  0  0  0  0  0  0]\n"
          ]
        }
      ]
    },
    {
      "cell_type": "code",
      "source": [
        "validation_sequences = tokenizer.texts_to_sequences(validation_sentences)\n",
        "validation_padded = pad_sequences(validation_sequences, maxlen=max_length, padding=padding_type)\n",
        "\n",
        "test_sequences = tokenizer.texts_to_sequences(test_sentences)\n",
        "test_padded = pad_sequences(test_sequences, maxlen=max_length, padding=padding_type)"
      ],
      "metadata": {
        "id": "eDeayh923Lqk"
      },
      "execution_count": 53,
      "outputs": []
    },
    {
      "cell_type": "code",
      "source": [
        "print(train_padded.shape)\n",
        "print(validation_padded.shape)\n",
        "print(test_padded.shape)\n",
        "print(train_padded[0])"
      ],
      "metadata": {
        "colab": {
          "base_uri": "https://localhost:8080/"
        },
        "id": "QLRyui5E3Qy8",
        "outputId": "24301c13-95ef-4723-8e48-ead67111d3b1"
      },
      "execution_count": 54,
      "outputs": [
        {
          "output_type": "stream",
          "name": "stdout",
          "text": [
            "(715645, 512)\n",
            "(87755, 512)\n",
            "(87755, 512)\n",
            "[ 2  6  4  7  9  3  2  5 11  2  4  8 11  9  6 21  7 10  9  5  9 14  7  8\n",
            " 15 13  8  8  4  5 18  4  2  6  3  3  2  6  2 17  3  9  4  3  6  5 10  5\n",
            "  5  3  4 17 11  8  5  6  7 13 19  2 14 15 11  5 12 11  6 11 11  6 10 18\n",
            "  3  3  3  5  6  6  2 11  8 12  9  6 17 10  3  5  5  3  3  3  3 13  5 10\n",
            " 14  9 13  3  4  3 14  6  4 12  7  9  8  4 16  9  2  5  2  6  2  6 13 11\n",
            " 13 12  5  2  6  4  7  3  9  9 13 12  5  2  5  3 14  3  3  6 17  5 10 15\n",
            "  2 10  8  2  9 10 13  3  2  6 12 18  6 12 17 10  3 10  2  5  5  3 15  9\n",
            "  5  4  5  6  4  5  4 14  3  8 13  2  2 10  5  2 18  2  0  0  0  0  0  0\n",
            "  0  0  0  0  0  0  0  0  0  0  0  0  0  0  0  0  0  0  0  0  0  0  0  0\n",
            "  0  0  0  0  0  0  0  0  0  0  0  0  0  0  0  0  0  0  0  0  0  0  0  0\n",
            "  0  0  0  0  0  0  0  0  0  0  0  0  0  0  0  0  0  0  0  0  0  0  0  0\n",
            "  0  0  0  0  0  0  0  0  0  0  0  0  0  0  0  0  0  0  0  0  0  0  0  0\n",
            "  0  0  0  0  0  0  0  0  0  0  0  0  0  0  0  0  0  0  0  0  0  0  0  0\n",
            "  0  0  0  0  0  0  0  0  0  0  0  0  0  0  0  0  0  0  0  0  0  0  0  0\n",
            "  0  0  0  0  0  0  0  0  0  0  0  0  0  0  0  0  0  0  0  0  0  0  0  0\n",
            "  0  0  0  0  0  0  0  0  0  0  0  0  0  0  0  0  0  0  0  0  0  0  0  0\n",
            "  0  0  0  0  0  0  0  0  0  0  0  0  0  0  0  0  0  0  0  0  0  0  0  0\n",
            "  0  0  0  0  0  0  0  0  0  0  0  0  0  0  0  0  0  0  0  0  0  0  0  0\n",
            "  0  0  0  0  0  0  0  0  0  0  0  0  0  0  0  0  0  0  0  0  0  0  0  0\n",
            "  0  0  0  0  0  0  0  0  0  0  0  0  0  0  0  0  0  0  0  0  0  0  0  0\n",
            "  0  0  0  0  0  0  0  0  0  0  0  0  0  0  0  0  0  0  0  0  0  0  0  0\n",
            "  0  0  0  0  0  0  0  0]\n"
          ]
        }
      ]
    },
    {
      "cell_type": "markdown",
      "source": [
        "# Keras util functions"
      ],
      "metadata": {
        "id": "CQ06Sk-PSBJG"
      }
    },
    {
      "cell_type": "code",
      "source": [
        "def plot_history(data):\n",
        "  plt.plot(data['loss'], label=\"loss\")\n",
        "  plt.plot(data['val_loss'], label=\"val_loss\")\n",
        "  plt.legend()\n",
        "  plt.show()\n",
        "\n",
        "  plt.plot(data['accuracy'], label=\"accuracy\")\n",
        "  plt.plot(data['val_accuracy'], label=\"val_accuracy\")\n",
        "  plt.legend()\n",
        "  plt.show()\n",
        "\n",
        "def train_network(get_model, save_path, epochs=25, INIT_LR=1e-4, MAX_LR=1e-3, BATCH_SIZE=32):\n",
        "  steps_per_epoch = len(train_sequences) // BATCH_SIZE\n",
        "  clr = tfa.optimizers.CyclicalLearningRate(initial_learning_rate=INIT_LR,\n",
        "      maximal_learning_rate=MAX_LR,\n",
        "      scale_fn=lambda x: 1/(2.**(x-1)),\n",
        "      step_size=2 * steps_per_epoch\n",
        "  )\n",
        "\n",
        "  es_cb = tf.keras.callbacks.EarlyStopping(monitor='val_loss', mode='min', min_delta=0.01, patience=5)\n",
        "  save_model_cb = tf.keras.callbacks.ModelCheckpoint(save_path, monitor = \"accuracy\", verbose= 1, save_best_only = True) \n",
        "\n",
        "  model = get_model()\n",
        "  optimizer = tf.keras.optimizers.Adam(clr)\n",
        "  model.compile(loss='sparse_categorical_crossentropy',optimizer=optimizer,metrics=['accuracy'])\n",
        "  model.summary()\n",
        "\n",
        "  history = model.fit(train_padded, training_label_seq, epochs=epochs, validation_data=(validation_padded, validation_label_seq), \n",
        "                      callbacks = [es_cb , save_model_cb])\n",
        "  \n",
        "  data = history.history\n",
        "  plot_history(data)\n",
        "  return history"
      ],
      "metadata": {
        "id": "SBfCQm0sSC0D"
      },
      "execution_count": 77,
      "outputs": []
    },
    {
      "cell_type": "markdown",
      "source": [
        "# ProtCNN"
      ],
      "metadata": {
        "id": "mLtfmLR23Tw5"
      }
    },
    {
      "cell_type": "markdown",
      "source": [
        "# Architecture"
      ],
      "metadata": {
        "id": "wczcAjRrSevo"
      }
    },
    {
      "cell_type": "code",
      "source": [
        "def residual_block(x, dil, filters, ks=3):\n",
        "    shortcut = x\n",
        "    bn1 = tf.keras.layers.BatchNormalization()(x)\n",
        "    a1 = tf.keras.layers.Activation(\"relu\")(x)\n",
        "    conv1 = tf.keras.layers.Conv1D(filters, ks, dilation_rate=dil, padding=\"same\")(x)\n",
        "    \n",
        "    bn2 = tf.keras.layers.BatchNormalization()(conv1)\n",
        "    a2 = tf.keras.layers.Activation(\"relu\")(bn2)\n",
        "    conv2 = tf.keras.layers.Conv1D(filters, ks, padding=\"same\")(a2)\n",
        "    \n",
        "    x = tf.keras.layers.Add()([conv2, shortcut])\n",
        "    return x\n",
        "\n",
        "\n",
        "def getProtCNN(numclass, residuals_ks=3, residuals_filters=64):\n",
        "    input_x = tf.keras.layers.Input(shape=(512, ))\n",
        "    \n",
        "    x = tf.keras.layers.Embedding(vocab_size, vocab_size, embeddings_initializer=tf.keras.initializers.Identity(gain=1.0), trainable=False)(input_x)\n",
        "    x = tf.keras.layers.Permute(dims=[2, 1])(x)\n",
        "    x = tf.keras.layers.Conv1D(64, 8, padding=\"same\")(x)\n",
        "    x = residual_block(x, 1, residuals_filters, ks=residuals_ks)\n",
        "    x = residual_block(x, 2, residuals_filters, ks=residuals_ks)\n",
        "    x = tf.keras.layers.Permute(dims=[2, 1])(x)\n",
        "    x = tf.keras.layers.Conv1D(64, 3, padding=\"same\")(x)\n",
        "    x = residual_block(x, 1, residuals_filters, ks=residuals_ks)\n",
        "    x = residual_block(x, 2, residuals_filters, ks=residuals_ks)\n",
        "    x = tf.keras.layers.Lambda(lambda x: K.expand_dims(x, -1))(x) #will not compile if not defined as lambda\n",
        "    x = tf.keras.layers.Conv2D(32, (4,4), padding=\"same\")(x)\n",
        "    x = tf.keras.layers.Activation(\"relu\")(x)\n",
        "    x = tf.keras.layers.Conv2D(8, (8,8), padding=\"same\")(x)\n",
        "    x = tf.keras.layers.Activation(\"relu\")(x)\n",
        "    x = tf.keras.layers.MaxPooling2D((64,64))(x)\n",
        "    #x = tf.keras.layers.Conv1D(8, 8, padding=\"same\")(x)\n",
        "    #x = tf.keras.layers.MaxPooling1D(64)(x)\n",
        "    x = tf.keras.layers.Flatten()(x)\n",
        "    out = tf.keras.layers.Dense(numclass+1, activation=\"softmax\")(x)\n",
        "\n",
        "    model = tf.keras.Model(inputs=input_x, outputs=out)\n",
        "    return model"
      ],
      "metadata": {
        "id": "LeBpmWfx3VXr"
      },
      "execution_count": 78,
      "outputs": []
    },
    {
      "cell_type": "markdown",
      "source": [
        "## Experiment 1"
      ],
      "metadata": {
        "id": "ZyGptKbHSiIH"
      }
    },
    {
      "cell_type": "code",
      "source": [
        "model = partial(partial(getProtCNN, n_families_of_interest))\n",
        "train_network(model, os.path.join(\"/content\",\"drive\",\"MyDrive\",\"datasets\",\"kaggling\",\"pfam\", \"models\", \"protCNN_asd.h5\"), epochs=1)"
      ],
      "metadata": {
        "colab": {
          "base_uri": "https://localhost:8080/",
          "height": 1000
        },
        "id": "Fsr98is_4jwZ",
        "outputId": "9db6ed47-b99e-46b8-8114-62f0e5e399e0"
      },
      "execution_count": 76,
      "outputs": [
        {
          "output_type": "stream",
          "name": "stdout",
          "text": [
            "Model: \"model_4\"\n",
            "__________________________________________________________________________________________________\n",
            " Layer (type)                   Output Shape         Param #     Connected to                     \n",
            "==================================================================================================\n",
            " input_5 (InputLayer)           [(None, 512)]        0           []                               \n",
            "                                                                                                  \n",
            " embedding_4 (Embedding)        (None, 512, 25)      625         ['input_5[0][0]']                \n",
            "                                                                                                  \n",
            " permute_8 (Permute)            (None, 25, 512)      0           ['embedding_4[0][0]']            \n",
            "                                                                                                  \n",
            " conv1d_40 (Conv1D)             (None, 25, 64)       262208      ['permute_8[0][0]']              \n",
            "                                                                                                  \n",
            " conv1d_41 (Conv1D)             (None, 25, 64)       12352       ['conv1d_40[0][0]']              \n",
            "                                                                                                  \n",
            " batch_normalization_33 (BatchN  (None, 25, 64)      256         ['conv1d_41[0][0]']              \n",
            " ormalization)                                                                                    \n",
            "                                                                                                  \n",
            " activation_41 (Activation)     (None, 25, 64)       0           ['batch_normalization_33[0][0]'] \n",
            "                                                                                                  \n",
            " conv1d_42 (Conv1D)             (None, 25, 64)       4160        ['activation_41[0][0]']          \n",
            "                                                                                                  \n",
            " add_16 (Add)                   (None, 25, 64)       0           ['conv1d_42[0][0]',              \n",
            "                                                                  'conv1d_40[0][0]']              \n",
            "                                                                                                  \n",
            " conv1d_43 (Conv1D)             (None, 25, 64)       12352       ['add_16[0][0]']                 \n",
            "                                                                                                  \n",
            " batch_normalization_35 (BatchN  (None, 25, 64)      256         ['conv1d_43[0][0]']              \n",
            " ormalization)                                                                                    \n",
            "                                                                                                  \n",
            " activation_43 (Activation)     (None, 25, 64)       0           ['batch_normalization_35[0][0]'] \n",
            "                                                                                                  \n",
            " conv1d_44 (Conv1D)             (None, 25, 64)       4160        ['activation_43[0][0]']          \n",
            "                                                                                                  \n",
            " add_17 (Add)                   (None, 25, 64)       0           ['conv1d_44[0][0]',              \n",
            "                                                                  'add_16[0][0]']                 \n",
            "                                                                                                  \n",
            " permute_9 (Permute)            (None, 64, 25)       0           ['add_17[0][0]']                 \n",
            "                                                                                                  \n",
            " conv1d_45 (Conv1D)             (None, 64, 64)       4864        ['permute_9[0][0]']              \n",
            "                                                                                                  \n",
            " conv1d_46 (Conv1D)             (None, 64, 64)       12352       ['conv1d_45[0][0]']              \n",
            "                                                                                                  \n",
            " batch_normalization_37 (BatchN  (None, 64, 64)      256         ['conv1d_46[0][0]']              \n",
            " ormalization)                                                                                    \n",
            "                                                                                                  \n",
            " activation_45 (Activation)     (None, 64, 64)       0           ['batch_normalization_37[0][0]'] \n",
            "                                                                                                  \n",
            " conv1d_47 (Conv1D)             (None, 64, 64)       4160        ['activation_45[0][0]']          \n",
            "                                                                                                  \n",
            " add_18 (Add)                   (None, 64, 64)       0           ['conv1d_47[0][0]',              \n",
            "                                                                  'conv1d_45[0][0]']              \n",
            "                                                                                                  \n",
            " conv1d_48 (Conv1D)             (None, 64, 64)       12352       ['add_18[0][0]']                 \n",
            "                                                                                                  \n",
            " batch_normalization_39 (BatchN  (None, 64, 64)      256         ['conv1d_48[0][0]']              \n",
            " ormalization)                                                                                    \n",
            "                                                                                                  \n",
            " activation_47 (Activation)     (None, 64, 64)       0           ['batch_normalization_39[0][0]'] \n",
            "                                                                                                  \n",
            " conv1d_49 (Conv1D)             (None, 64, 64)       4160        ['activation_47[0][0]']          \n",
            "                                                                                                  \n",
            " add_19 (Add)                   (None, 64, 64)       0           ['conv1d_49[0][0]',              \n",
            "                                                                  'add_18[0][0]']                 \n",
            "                                                                                                  \n",
            " lambda_4 (Lambda)              (None, 64, 64, 1)    0           ['add_19[0][0]']                 \n",
            "                                                                                                  \n",
            " conv2d_8 (Conv2D)              (None, 64, 64, 32)   544         ['lambda_4[0][0]']               \n",
            "                                                                                                  \n",
            " activation_48 (Activation)     (None, 64, 64, 32)   0           ['conv2d_8[0][0]']               \n",
            "                                                                                                  \n",
            " conv2d_9 (Conv2D)              (None, 64, 64, 8)    16392       ['activation_48[0][0]']          \n",
            "                                                                                                  \n",
            " activation_49 (Activation)     (None, 64, 64, 8)    0           ['conv2d_9[0][0]']               \n",
            "                                                                                                  \n",
            " max_pooling2d_4 (MaxPooling2D)  (None, 1, 1, 8)     0           ['activation_49[0][0]']          \n",
            "                                                                                                  \n",
            " flatten_4 (Flatten)            (None, 8)            0           ['max_pooling2d_4[0][0]']        \n",
            "                                                                                                  \n",
            " dense_4 (Dense)                (None, 3001)         27009       ['flatten_4[0][0]']              \n",
            "                                                                                                  \n",
            "==================================================================================================\n",
            "Total params: 378,714\n",
            "Trainable params: 377,577\n",
            "Non-trainable params: 1,137\n",
            "__________________________________________________________________________________________________\n",
            "22362/22364 [============================>.] - ETA: 0s - loss: 4.3881 - accuracy: 0.2020\n",
            "Epoch 1: accuracy improved from -inf to 0.20203, saving model to /content/drive/MyDrive/datasets/kaggling/pfam/models/protCNN_asd.h5\n",
            "22364/22364 [==============================] - 314s 14ms/step - loss: 4.3880 - accuracy: 0.2020 - val_loss: 3.0378 - val_accuracy: 0.3438\n"
          ]
        },
        {
          "output_type": "display_data",
          "data": {
            "text/plain": [
              "<Figure size 640x480 with 1 Axes>"
            ],
            "image/png": "[encoded data removed]"
          },
          "metadata": {}
        },
        {
          "output_type": "display_data",
          "data": {
            "text/plain": [
              "<Figure size 640x480 with 1 Axes>"
            ],
            "image/png": "[encoded data removed]"
          },
          "metadata": {}
        },
        {
          "output_type": "execute_result",
          "data": {
            "text/plain": [
              "<keras.callbacks.History at 0x7fd891f4d400>"
            ]
          },
          "metadata": {},
          "execution_count": 76
        }
      ]
    },
    {
      "cell_type": "markdown",
      "source": [
        "## Experiment 2"
      ],
      "metadata": {
        "id": "uKcjQH90Skh5"
      }
    },
    {
      "cell_type": "code",
      "source": [
        "model = partial(partial(getProtCNN, numclass=n_families_of_interest, residuals_ks=5))\n",
        "train_network(model, os.path.join(\"/content\",\"drive\",\"MyDrive\",\"datasets\",\"kaggling\",\"pfam\", \"models\", \"protCNN_ks=5.h5\"), epochs=25)"
      ],
      "metadata": {
        "colab": {
          "base_uri": "https://localhost:8080/"
        },
        "id": "vdDQtyKFSleB",
        "outputId": "30867455-3696-4074-fd3f-9bd754c59105"
      },
      "execution_count": null,
      "outputs": [
        {
          "output_type": "stream",
          "name": "stdout",
          "text": [
            "Model: \"model_7\"\n",
            "__________________________________________________________________________________________________\n",
            " Layer (type)                   Output Shape         Param #     Connected to                     \n",
            "==================================================================================================\n",
            " input_8 (InputLayer)           [(None, 512)]        0           []                               \n",
            "                                                                                                  \n",
            " embedding_7 (Embedding)        (None, 512, 25)      625         ['input_8[0][0]']                \n",
            "                                                                                                  \n",
            " permute_14 (Permute)           (None, 25, 512)      0           ['embedding_7[0][0]']            \n",
            "                                                                                                  \n",
            " conv1d_70 (Conv1D)             (None, 25, 64)       262208      ['permute_14[0][0]']             \n",
            "                                                                                                  \n",
            " conv1d_71 (Conv1D)             (None, 25, 64)       20544       ['conv1d_70[0][0]']              \n",
            "                                                                                                  \n",
            " batch_normalization_57 (BatchN  (None, 25, 64)      256         ['conv1d_71[0][0]']              \n",
            " ormalization)                                                                                    \n",
            "                                                                                                  \n",
            " activation_71 (Activation)     (None, 25, 64)       0           ['batch_normalization_57[0][0]'] \n",
            "                                                                                                  \n",
            " conv1d_72 (Conv1D)             (None, 25, 64)       20544       ['activation_71[0][0]']          \n",
            "                                                                                                  \n",
            " add_28 (Add)                   (None, 25, 64)       0           ['conv1d_72[0][0]',              \n",
            "                                                                  'conv1d_70[0][0]']              \n",
            "                                                                                                  \n",
            " conv1d_73 (Conv1D)             (None, 25, 64)       20544       ['add_28[0][0]']                 \n",
            "                                                                                                  \n",
            " batch_normalization_59 (BatchN  (None, 25, 64)      256         ['conv1d_73[0][0]']              \n",
            " ormalization)                                                                                    \n",
            "                                                                                                  \n",
            " activation_73 (Activation)     (None, 25, 64)       0           ['batch_normalization_59[0][0]'] \n",
            "                                                                                                  \n",
            " conv1d_74 (Conv1D)             (None, 25, 64)       20544       ['activation_73[0][0]']          \n",
            "                                                                                                  \n",
            " add_29 (Add)                   (None, 25, 64)       0           ['conv1d_74[0][0]',              \n",
            "                                                                  'add_28[0][0]']                 \n",
            "                                                                                                  \n",
            " permute_15 (Permute)           (None, 64, 25)       0           ['add_29[0][0]']                 \n",
            "                                                                                                  \n",
            " conv1d_75 (Conv1D)             (None, 64, 64)       4864        ['permute_15[0][0]']             \n",
            "                                                                                                  \n",
            " conv1d_76 (Conv1D)             (None, 64, 64)       20544       ['conv1d_75[0][0]']              \n",
            "                                                                                                  \n",
            " batch_normalization_61 (BatchN  (None, 64, 64)      256         ['conv1d_76[0][0]']              \n",
            " ormalization)                                                                                    \n",
            "                                                                                                  \n",
            " activation_75 (Activation)     (None, 64, 64)       0           ['batch_normalization_61[0][0]'] \n",
            "                                                                                                  \n",
            " conv1d_77 (Conv1D)             (None, 64, 64)       20544       ['activation_75[0][0]']          \n",
            "                                                                                                  \n",
            " add_30 (Add)                   (None, 64, 64)       0           ['conv1d_77[0][0]',              \n",
            "                                                                  'conv1d_75[0][0]']              \n",
            "                                                                                                  \n",
            " conv1d_78 (Conv1D)             (None, 64, 64)       20544       ['add_30[0][0]']                 \n",
            "                                                                                                  \n",
            " batch_normalization_63 (BatchN  (None, 64, 64)      256         ['conv1d_78[0][0]']              \n",
            " ormalization)                                                                                    \n",
            "                                                                                                  \n",
            " activation_77 (Activation)     (None, 64, 64)       0           ['batch_normalization_63[0][0]'] \n",
            "                                                                                                  \n",
            " conv1d_79 (Conv1D)             (None, 64, 64)       20544       ['activation_77[0][0]']          \n",
            "                                                                                                  \n",
            " add_31 (Add)                   (None, 64, 64)       0           ['conv1d_79[0][0]',              \n",
            "                                                                  'add_30[0][0]']                 \n",
            "                                                                                                  \n",
            " lambda_7 (Lambda)              (None, 64, 64, 1)    0           ['add_31[0][0]']                 \n",
            "                                                                                                  \n",
            " conv2d_14 (Conv2D)             (None, 64, 64, 32)   544         ['lambda_7[0][0]']               \n",
            "                                                                                                  \n",
            " activation_78 (Activation)     (None, 64, 64, 32)   0           ['conv2d_14[0][0]']              \n",
            "                                                                                                  \n",
            " conv2d_15 (Conv2D)             (None, 64, 64, 8)    16392       ['activation_78[0][0]']          \n",
            "                                                                                                  \n",
            " activation_79 (Activation)     (None, 64, 64, 8)    0           ['conv2d_15[0][0]']              \n",
            "                                                                                                  \n",
            " max_pooling2d_7 (MaxPooling2D)  (None, 1, 1, 8)     0           ['activation_79[0][0]']          \n",
            "                                                                                                  \n",
            " flatten_7 (Flatten)            (None, 8)            0           ['max_pooling2d_7[0][0]']        \n",
            "                                                                                                  \n",
            " dense_7 (Dense)                (None, 3001)         27009       ['flatten_7[0][0]']              \n",
            "                                                                                                  \n",
            "==================================================================================================\n",
            "Total params: 477,018\n",
            "Trainable params: 475,881\n",
            "Non-trainable params: 1,137\n",
            "__________________________________________________________________________________________________\n",
            "Epoch 1/25\n",
            "22361/22364 [============================>.] - ETA: 0s - loss: 4.3526 - accuracy: 0.2129\n",
            "Epoch 1: accuracy improved from -inf to 0.21292, saving model to /content/drive/MyDrive/datasets/kaggling/pfam/models/protCNN_ks=5.h5\n",
            "22364/22364 [==============================] - 327s 14ms/step - loss: 4.3524 - accuracy: 0.2129 - val_loss: 2.9590 - val_accuracy: 0.3526\n",
            "Epoch 2/25\n",
            "22361/22364 [============================>.] - ETA: 0s - loss: 2.7467 - accuracy: 0.3899\n",
            "Epoch 2: accuracy improved from 0.21292 to 0.38987, saving model to /content/drive/MyDrive/datasets/kaggling/pfam/models/protCNN_ks=5.h5\n",
            "22364/22364 [==============================] - 314s 14ms/step - loss: 2.7467 - accuracy: 0.3899 - val_loss: 2.5390 - val_accuracy: 0.4326\n",
            "Epoch 3/25\n",
            "22361/22364 [============================>.] - ETA: 0s - loss: 2.2024 - accuracy: 0.4983\n",
            "Epoch 3: accuracy improved from 0.38987 to 0.49835, saving model to /content/drive/MyDrive/datasets/kaggling/pfam/models/protCNN_ks=5.h5\n",
            "22364/22364 [==============================] - 312s 14ms/step - loss: 2.2024 - accuracy: 0.4984 - val_loss: 1.9264 - val_accuracy: 0.5624\n",
            "Epoch 4/25\n",
            "22364/22364 [==============================] - ETA: 0s - loss: 1.6531 - accuracy: 0.6176\n",
            "Epoch 4: accuracy improved from 0.49835 to 0.61758, saving model to /content/drive/MyDrive/datasets/kaggling/pfam/models/protCNN_ks=5.h5\n",
            "22364/22364 [==============================] - 313s 14ms/step - loss: 1.6531 - accuracy: 0.6176 - val_loss: 1.5831 - val_accuracy: 0.6453\n",
            "Epoch 5/25\n",
            "22362/22364 [============================>.] - ETA: 0s - loss: 1.4423 - accuracy: 0.6641\n",
            "Epoch 5: accuracy improved from 0.61758 to 0.66411, saving model to /content/drive/MyDrive/datasets/kaggling/pfam/models/protCNN_ks=5.h5\n",
            "22364/22364 [==============================] - 311s 14ms/step - loss: 1.4423 - accuracy: 0.6641 - val_loss: 1.6885 - val_accuracy: 0.6206\n",
            "Epoch 6/25\n",
            "22363/22364 [============================>.] - ETA: 0s - loss: 1.5663 - accuracy: 0.6315\n",
            "Epoch 6: accuracy did not improve from 0.66411\n",
            "22364/22364 [==============================] - 310s 14ms/step - loss: 1.5663 - accuracy: 0.6315 - val_loss: 1.8010 - val_accuracy: 0.5865\n",
            "Epoch 7/25\n",
            "22361/22364 [============================>.] - ETA: 0s - loss: 1.5162 - accuracy: 0.6428\n",
            "Epoch 7: accuracy did not improve from 0.66411\n",
            "22364/22364 [==============================] - 310s 14ms/step - loss: 1.5162 - accuracy: 0.6428 - val_loss: 1.6113 - val_accuracy: 0.6367\n",
            "Epoch 8/25\n",
            "22363/22364 [============================>.] - ETA: 0s - loss: 1.2764 - accuracy: 0.7003\n",
            "Epoch 8: accuracy improved from 0.66411 to 0.70033, saving model to /content/drive/MyDrive/datasets/kaggling/pfam/models/protCNN_ks=5.h5\n",
            "22364/22364 [==============================] - 311s 14ms/step - loss: 1.2764 - accuracy: 0.7003 - val_loss: 1.4639 - val_accuracy: 0.6786\n",
            "Epoch 9/25\n",
            "15453/22364 [===================>..........] - ETA: 1:32 - loss: 1.1492 - accuracy: 0.7293"
          ]
        }
      ]
    },
    {
      "cell_type": "markdown",
      "source": [
        "## Experiment 3"
      ],
      "metadata": {
        "id": "I5OFShXwj32C"
      }
    },
    {
      "cell_type": "code",
      "source": [
        "model = partial(partial(getProtCNN, numclass=n_families_of_interest, residuals_ks=7, residuals_filters=128))\n",
        "train_network(model, os.path.join(\"/content\",\"drive\",\"MyDrive\",\"datasets\",\"kaggling\",\"pfam\", \"models\", \"protCNN_ks=8_rs=128.h5\"), epochs=25)"
      ],
      "metadata": {
        "id": "g86VYXurTTLy"
      },
      "execution_count": null,
      "outputs": []
    }
  ]
}