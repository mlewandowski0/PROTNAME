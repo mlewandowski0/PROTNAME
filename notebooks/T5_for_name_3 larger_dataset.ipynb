{
 "cells": [
  {
   "cell_type": "code",
   "execution_count": 7,
   "metadata": {
    "colab": {
     "base_uri": "https://localhost:8080/"
    },
    "id": "KMTa-R8A6jiI",
    "outputId": "268501f2-cc48-4b81-d027-87d5ae402d45",
    "tags": []
   },
   "outputs": [
    {
     "name": "stdout",
     "output_type": "stream",
     "text": [
      "\u001b[33mWARNING: Running pip as the 'root' user can result in broken permissions and conflicting behaviour with the system package manager. It is recommended to use a virtual environment instead: https://pip.pypa.io/warnings/venv\u001b[0m\u001b[33m\n",
      "\u001b[0m\n",
      "\u001b[1m[\u001b[0m\u001b[34;49mnotice\u001b[0m\u001b[1;39;49m]\u001b[0m\u001b[39;49m A new release of pip is available: \u001b[0m\u001b[31;49m23.0.1\u001b[0m\u001b[39;49m -> \u001b[0m\u001b[32;49m23.1.2\u001b[0m\n",
      "\u001b[1m[\u001b[0m\u001b[34;49mnotice\u001b[0m\u001b[1;39;49m]\u001b[0m\u001b[39;49m To update, run: \u001b[0m\u001b[32;49mpython -m pip install --upgrade pip\u001b[0m\n"
     ]
    },
    {
     "data": {
      "text/plain": [
       "[\"\\x1b[33mWARNING: Running pip as the 'root' user can result in broken permissions and conflicting behaviour with the system package manager. It is recommended to use a virtual environment instead: https://pip.pypa.io/warnings/venv\\x1b[0m\\x1b[33m\",\n",
       " '\\x1b[0m',\n",
       " '\\x1b[1m[\\x1b[0m\\x1b[34;49mnotice\\x1b[0m\\x1b[1;39;49m]\\x1b[0m\\x1b[39;49m A new release of pip is available: \\x1b[0m\\x1b[31;49m23.0.1\\x1b[0m\\x1b[39;49m -> \\x1b[0m\\x1b[32;49m23.1.2\\x1b[0m',\n",
       " '\\x1b[1m[\\x1b[0m\\x1b[34;49mnotice\\x1b[0m\\x1b[1;39;49m]\\x1b[0m\\x1b[39;49m To update, run: \\x1b[0m\\x1b[32;49mpython -m pip install --upgrade pip\\x1b[0m']"
      ]
     },
     "execution_count": 7,
     "metadata": {},
     "output_type": "execute_result"
    }
   ],
   "source": [
    "!pip install -q transformers datasets matplotlib\n",
    "!!pip install -q accelerate torchinfo huggingface_hub"
   ]
  },
  {
   "cell_type": "code",
   "execution_count": 8,
   "metadata": {
    "tags": []
   },
   "outputs": [
    {
     "name": "stdout",
     "output_type": "stream",
     "text": [
      "Detected operating system as Ubuntu/focal.\n",
      "Checking for curl...\n",
      "Detected curl...\n",
      "Checking for gpg...\n",
      "Detected gpg...\n",
      "Detected apt version as 2.0.9\n",
      "Running apt-get update... done.\n",
      "Installing apt-transport-https... done.\n",
      "Installing /etc/apt/sources.list.d/github_git-lfs.list...done.\n",
      "Importing packagecloud gpg key... Packagecloud gpg key imported to /etc/apt/keyrings/github_git-lfs-archive-keyring.gpg\n",
      "done.\n",
      "Running apt-get update... done.\n",
      "\n",
      "The repository is setup! You can now install packages.\n",
      "Reading package lists... Done\n",
      "Building dependency tree       \n",
      "Reading state information... Done\n",
      "git-lfs is already the newest version (3.3.0).\n",
      "0 upgraded, 0 newly installed, 0 to remove and 30 not upgraded.\n"
     ]
    }
   ],
   "source": [
    "!curl -s https://packagecloud.io/install/repositories/github/git-lfs/script.deb.sh | bash\n",
    "!apt-get install git-lfs"
   ]
  },
  {
   "cell_type": "code",
   "execution_count": 9,
   "metadata": {
    "tags": []
   },
   "outputs": [
    {
     "data": {
      "application/vnd.jupyter.widget-view+json": {
       "model_id": "b5d78bbe490c4630af4d80f817bf5db0",
       "version_major": 2,
       "version_minor": 0
      },
      "text/plain": [
       "VBox(children=(HTML(value='<center> <img\\nsrc=https://huggingface.co/front/assets/huggingface_logo-noborder.sv…"
      ]
     },
     "metadata": {},
     "output_type": "display_data"
    }
   ],
   "source": [
    "from huggingface_hub import notebook_login\n",
    "notebook_login()"
   ]
  },
  {
   "cell_type": "code",
   "execution_count": 10,
   "metadata": {
    "id": "Qpd_5bdc6sxf",
    "tags": []
   },
   "outputs": [],
   "source": [
    "import os\n",
    "import requests\n",
    "import tqdm\n",
    "import json\n",
    "import pandas as pd\n",
    "import numpy as np\n",
    "import zipfile\n",
    "from collections import Counter\n",
    "import torch \n",
    "from torch.utils.data import Dataset, DataLoader\n",
    "from datasets import load_dataset\n",
    "from transformers import PreTrainedTokenizerFast\n",
    "from tqdm.notebook import tqdm\n",
    "from transformers import T5ForConditionalGeneration, T5Config, AdamW\n",
    "from tqdm.auto import tqdm\n",
    "from accelerate import Accelerator"
   ]
  },
  {
   "cell_type": "code",
   "execution_count": 11,
   "metadata": {
    "id": "J_tfT6Ll6wKh",
    "tags": []
   },
   "outputs": [],
   "source": [
    "file_id = '1e1Tz4VycXhimx3ZyrxgL72VBaC0JP6By'\n",
    "destination = 'human_proteins.tsv'\n",
    "hf_name = \"t5-small\"\n",
    "max_length = 512\n",
    "tokenizer_folder = \"PROTNAME_tok\"\n",
    "save_folder = \"PROTNAME\"\n",
    "vocab_size=32"
   ]
  },
  {
   "cell_type": "code",
   "execution_count": 12,
   "metadata": {
    "id": "1Mkm87uO7quF",
    "tags": []
   },
   "outputs": [
    {
     "data": {
      "application/vnd.jupyter.widget-view+json": {
       "model_id": "ccfc09c75a85420d949041856e35b78b",
       "version_major": 2,
       "version_minor": 0
      },
      "text/plain": [
       "0it [00:00, ?it/s]"
      ]
     },
     "metadata": {},
     "output_type": "display_data"
    },
    {
     "name": "stdout",
     "output_type": "stream",
     "text": [
      "\n",
      "\n",
      "saved all the data to human_proteins.tsv. total size : 33.218 MB\n"
     ]
    }
   ],
   "source": [
    "file_id = '1e1Tz4VycXhimx3ZyrxgL72VBaC0JP6By'\n",
    "destination = 'human_proteins.tsv'\n",
    "\n",
    "def format_size(value):\n",
    "  if value >= 1024**3:\n",
    "    return f\"{round(value / 1024**3 , 3)} GB\"\n",
    "  elif value >= 1024**2:\n",
    "    return f\"{round(value / 1024**2 , 3)} MB\"\n",
    "  elif value >= 1024:\n",
    "    return f\"{round(value / 1024 , 3)} KB\"\n",
    "  return f\"{value} B\"\n",
    "\n",
    "# Code taken from https://stackoverflow.com/questions/38511444/python-download-files-from-google-drive-using-url\n",
    "def download_file_from_google_drive(id, destination):\n",
    "    URL = \"https://docs.google.com/uc?export=download\"\n",
    "\n",
    "    session = requests.Session()\n",
    "\n",
    "    response = session.get(URL, params = { 'id' : id }, stream = True)\n",
    "    token = get_confirm_token(response)\n",
    "    params = { 'id' : id, 'confirm' : 1 }\n",
    "    response = session.get(URL, params = params, stream = True)\n",
    "\n",
    "    save_response_content(response, destination)    \n",
    "\n",
    "def get_confirm_token(response):\n",
    "    for key, value in response.cookies.items():\n",
    "        if key.startswith('download_warning'):\n",
    "            return value\n",
    "\n",
    "    return None\n",
    "\n",
    "def save_response_content(response, destination):\n",
    "    CHUNK_SIZE = 32768\n",
    "    \n",
    "    pb = tqdm(response.iter_content(CHUNK_SIZE))\n",
    "    b_total = 0\n",
    "    with open(destination, \"wb\") as f:\n",
    "        for i,chunk in enumerate(pb):\n",
    "            if chunk: # filter out keep-alive new chunks\n",
    "                f.write(chunk)\n",
    "                b_total += len(chunk)\n",
    "\n",
    "                if i % 1000 == 0:\n",
    "                  pb.set_description(f\"written : {format_size(b_total)}\")\n",
    "                i += 1\n",
    "    print(\"\\n\")\n",
    "    print(f\"saved all the data to {destination}. total size : {format_size(os.stat(destination).st_size)}\")\n",
    "\n",
    "\n",
    "download_file_from_google_drive(file_id, destination)"
   ]
  },
  {
   "cell_type": "code",
   "execution_count": 13,
   "metadata": {
    "tags": []
   },
   "outputs": [
    {
     "data": {
      "application/vnd.jupyter.widget-view+json": {
       "model_id": "e5dd7f52d88d4abcbb1c949da708dda9",
       "version_major": 2,
       "version_minor": 0
      },
      "text/plain": [
       "0it [00:00, ?it/s]"
      ]
     },
     "metadata": {},
     "output_type": "display_data"
    },
    {
     "name": "stdout",
     "output_type": "stream",
     "text": [
      "\n",
      "\n",
      "saved all the data to all_proteins.tsv. total size : 294.963 MB\n"
     ]
    }
   ],
   "source": [
    "download_file_from_google_drive(\"1FLrC9kK5-R_NwjmX_WTqT8YqchzS9zIN\", \"all_proteins.tsv\")"
   ]
  },
  {
   "cell_type": "code",
   "execution_count": 17,
   "metadata": {
    "id": "21QymT2_8C48",
    "tags": []
   },
   "outputs": [
    {
     "data": {
      "text/html": [
       "<div>\n",
       "<style scoped>\n",
       "    .dataframe tbody tr th:only-of-type {\n",
       "        vertical-align: middle;\n",
       "    }\n",
       "\n",
       "    .dataframe tbody tr th {\n",
       "        vertical-align: top;\n",
       "    }\n",
       "\n",
       "    .dataframe thead th {\n",
       "        text-align: right;\n",
       "    }\n",
       "</style>\n",
       "<table border=\"1\" class=\"dataframe\">\n",
       "  <thead>\n",
       "    <tr style=\"text-align: right;\">\n",
       "      <th></th>\n",
       "      <th>sequence</th>\n",
       "      <th>protein_name</th>\n",
       "      <th>length</th>\n",
       "    </tr>\n",
       "  </thead>\n",
       "  <tbody>\n",
       "    <tr>\n",
       "      <th>0</th>\n",
       "      <td>M R W Q E M G Y I F Y P R K L R</td>\n",
       "      <td>Mitochondrial-derived peptide MOTS-c</td>\n",
       "      <td>16</td>\n",
       "    </tr>\n",
       "    <tr>\n",
       "      <th>1</th>\n",
       "      <td>M P G W F K K A W Y G L A S L L S F S S F I L ...</td>\n",
       "      <td>Clarin-2</td>\n",
       "      <td>232</td>\n",
       "    </tr>\n",
       "    <tr>\n",
       "      <th>2</th>\n",
       "      <td>M K R R Q K R K H L E N E E S Q E T A E K G G ...</td>\n",
       "      <td>Protein FAM170A</td>\n",
       "      <td>330</td>\n",
       "    </tr>\n",
       "    <tr>\n",
       "      <th>3</th>\n",
       "      <td>M D D A D P E E R N Y D N M L K M L S D L N K ...</td>\n",
       "      <td>Synaptonemal complex central element protein 3</td>\n",
       "      <td>88</td>\n",
       "    </tr>\n",
       "    <tr>\n",
       "      <th>4</th>\n",
       "      <td>M A F S D L T S R T V H L Y D N W I K D A D P ...</td>\n",
       "      <td>Elongation of very long chain fatty acids prot...</td>\n",
       "      <td>281</td>\n",
       "    </tr>\n",
       "    <tr>\n",
       "      <th>...</th>\n",
       "      <td>...</td>\n",
       "      <td>...</td>\n",
       "      <td>...</td>\n",
       "    </tr>\n",
       "    <tr>\n",
       "      <th>89896</th>\n",
       "      <td>M E P V D P R L E P W K H P G S Q P K T P C T ...</td>\n",
       "      <td>Protein Tat</td>\n",
       "      <td>101</td>\n",
       "    </tr>\n",
       "    <tr>\n",
       "      <th>89897</th>\n",
       "      <td>M G G K W S K R S A P G W N A V R E R M R R T ...</td>\n",
       "      <td>Protein Nef</td>\n",
       "      <td>206</td>\n",
       "    </tr>\n",
       "    <tr>\n",
       "      <th>89898</th>\n",
       "      <td>M L L L G A L L L L L A L P S Y G Q D T M Q G ...</td>\n",
       "      <td>Adiponectin</td>\n",
       "      <td>239</td>\n",
       "    </tr>\n",
       "    <tr>\n",
       "      <th>89899</th>\n",
       "      <td>M G Q F I S F M Q E I P I F L Q E A L N I A L ...</td>\n",
       "      <td>Pre-glycoprotein polyprotein GP complex</td>\n",
       "      <td>483</td>\n",
       "    </tr>\n",
       "    <tr>\n",
       "      <th>89900</th>\n",
       "      <td>M V R E D G R N F N E E R K I K I T K N I N I ...</td>\n",
       "      <td>Multifunctional fusion protein [Includes: dITP...</td>\n",
       "      <td>434</td>\n",
       "    </tr>\n",
       "  </tbody>\n",
       "</table>\n",
       "<p>89901 rows × 3 columns</p>\n",
       "</div>"
      ],
      "text/plain": [
       "                                                sequence   \n",
       "0                        M R W Q E M G Y I F Y P R K L R  \\\n",
       "1      M P G W F K K A W Y G L A S L L S F S S F I L ...   \n",
       "2      M K R R Q K R K H L E N E E S Q E T A E K G G ...   \n",
       "3      M D D A D P E E R N Y D N M L K M L S D L N K ...   \n",
       "4      M A F S D L T S R T V H L Y D N W I K D A D P ...   \n",
       "...                                                  ...   \n",
       "89896  M E P V D P R L E P W K H P G S Q P K T P C T ...   \n",
       "89897  M G G K W S K R S A P G W N A V R E R M R R T ...   \n",
       "89898  M L L L G A L L L L L A L P S Y G Q D T M Q G ...   \n",
       "89899  M G Q F I S F M Q E I P I F L Q E A L N I A L ...   \n",
       "89900  M V R E D G R N F N E E R K I K I T K N I N I ...   \n",
       "\n",
       "                                            protein_name  length  \n",
       "0                  Mitochondrial-derived peptide MOTS-c       16  \n",
       "1                                               Clarin-2     232  \n",
       "2                                       Protein FAM170A      330  \n",
       "3        Synaptonemal complex central element protein 3       88  \n",
       "4      Elongation of very long chain fatty acids prot...     281  \n",
       "...                                                  ...     ...  \n",
       "89896                                       Protein Tat      101  \n",
       "89897                                       Protein Nef      206  \n",
       "89898                                        Adiponectin     239  \n",
       "89899           Pre-glycoprotein polyprotein GP complex      483  \n",
       "89900  Multifunctional fusion protein [Includes: dITP...     434  \n",
       "\n",
       "[89901 rows x 3 columns]"
      ]
     },
     "execution_count": 17,
     "metadata": {},
     "output_type": "execute_result"
    }
   ],
   "source": [
    "dataframe = pd.read_csv(\"human_proteins.tsv\", sep=\"\\t\")\n",
    "dataframe = dataframe[dataframe[\"sequence\"].str.len() <= 510]\n",
    "dataframe = pd.read_csv(\"human_proteins.tsv\", sep=\"\\t\")\n",
    "dataframe = dataframe[dataframe[\"sequence\"].str.len() <= 510]\n",
    "dataframe[\"protein_name\"] = [v.split(\"(\")[0] for v in dataframe[\"protein_name\"]]\n",
    "dataframe[\"sequence\"] = [\" \".join(v) for v in dataframe[\"sequence\"]]\n",
    "\n",
    "with open(\"Sequences.txt\", \"w\") as f:\n",
    "    f.write(\"\\n\".join(dataframe[\"sequence\"].values))\n",
    "    \n",
    "dataframe"
   ]
  },
  {
   "cell_type": "code",
   "execution_count": 18,
   "metadata": {
    "tags": []
   },
   "outputs": [
    {
     "data": {
      "text/html": [
       "<div>\n",
       "<style scoped>\n",
       "    .dataframe tbody tr th:only-of-type {\n",
       "        vertical-align: middle;\n",
       "    }\n",
       "\n",
       "    .dataframe tbody tr th {\n",
       "        vertical-align: top;\n",
       "    }\n",
       "\n",
       "    .dataframe thead th {\n",
       "        text-align: right;\n",
       "    }\n",
       "</style>\n",
       "<table border=\"1\" class=\"dataframe\">\n",
       "  <thead>\n",
       "    <tr style=\"text-align: right;\">\n",
       "      <th></th>\n",
       "      <th>Unnamed: 0</th>\n",
       "      <th>sequence</th>\n",
       "      <th>protein_name</th>\n",
       "      <th>length</th>\n",
       "    </tr>\n",
       "  </thead>\n",
       "  <tbody>\n",
       "    <tr>\n",
       "      <th>0</th>\n",
       "      <td>0</td>\n",
       "      <td>MRWQEMGYIFYPRKLR</td>\n",
       "      <td>Mitochondrial-derived peptide MOTS-c</td>\n",
       "      <td>16</td>\n",
       "    </tr>\n",
       "    <tr>\n",
       "      <th>1</th>\n",
       "      <td>1</td>\n",
       "      <td>MPGWFKKAWYGLASLLSFSSFILIIVALVVPHWLSGKILCQTGVDL...</td>\n",
       "      <td>Clarin-2</td>\n",
       "      <td>232</td>\n",
       "    </tr>\n",
       "    <tr>\n",
       "      <th>2</th>\n",
       "      <td>2</td>\n",
       "      <td>MKRRQKRKHLENEESQETAEKGGGMSKSQEDALQPGSTRVAKGWSQ...</td>\n",
       "      <td>Protein FAM170A</td>\n",
       "      <td>330</td>\n",
       "    </tr>\n",
       "    <tr>\n",
       "      <th>3</th>\n",
       "      <td>3</td>\n",
       "      <td>MDDADPEERNYDNMLKMLSDLNKDLEKLLEEMEKISVQATWMAYDM...</td>\n",
       "      <td>Synaptonemal complex central element protein 3</td>\n",
       "      <td>88</td>\n",
       "    </tr>\n",
       "    <tr>\n",
       "      <th>4</th>\n",
       "      <td>4</td>\n",
       "      <td>MAFSDLTSRTVHLYDNWIKDADPRVEDWLLMSSPLPQTILLGFYVY...</td>\n",
       "      <td>Elongation of very long chain fatty acids prot...</td>\n",
       "      <td>281</td>\n",
       "    </tr>\n",
       "    <tr>\n",
       "      <th>...</th>\n",
       "      <td>...</td>\n",
       "      <td>...</td>\n",
       "      <td>...</td>\n",
       "      <td>...</td>\n",
       "    </tr>\n",
       "    <tr>\n",
       "      <th>619007</th>\n",
       "      <td>529106</td>\n",
       "      <td>MNSNAPAAVIVLAAGAGTRMKSKLPKVLHEIGGRSLLMHAITAARG...</td>\n",
       "      <td>Bifunctional protein GlmU [Includes: UDP-N-ace...</td>\n",
       "      <td>492</td>\n",
       "    </tr>\n",
       "    <tr>\n",
       "      <th>619008</th>\n",
       "      <td>529107</td>\n",
       "      <td>MSATGSDPSRRPVDLPDLSREAVPGEKVALAPGQLQLRPTRRGKAP...</td>\n",
       "      <td>Probable dual-specificity RNA methyltransferas...</td>\n",
       "      <td>428</td>\n",
       "    </tr>\n",
       "    <tr>\n",
       "      <th>619009</th>\n",
       "      <td>529108</td>\n",
       "      <td>MVLASHNAKKLRELQRILAPAVPGLEAEQIVSAAGLGLPDVVEDAV...</td>\n",
       "      <td>dITP/XTP pyrophosphatase</td>\n",
       "      <td>203</td>\n",
       "    </tr>\n",
       "    <tr>\n",
       "      <th>619010</th>\n",
       "      <td>529109</td>\n",
       "      <td>MLPVLTADALRTAEQAHWDEHPGDDLMGRAAAEVARHATEMLGDGP...</td>\n",
       "      <td>ADP-dependent</td>\n",
       "      <td>492</td>\n",
       "    </tr>\n",
       "    <tr>\n",
       "      <th>619011</th>\n",
       "      <td>529110</td>\n",
       "      <td>MTAARALAGARVIVGVGGGIAAYKAAHVVRGLVASGAEVRVIPTAS...</td>\n",
       "      <td>Coenzyme A biosynthesis bifunctional protein C...</td>\n",
       "      <td>425</td>\n",
       "    </tr>\n",
       "  </tbody>\n",
       "</table>\n",
       "<p>619012 rows × 4 columns</p>\n",
       "</div>"
      ],
      "text/plain": [
       "        Unnamed: 0                                           sequence   \n",
       "0                0                                   MRWQEMGYIFYPRKLR  \\\n",
       "1                1  MPGWFKKAWYGLASLLSFSSFILIIVALVVPHWLSGKILCQTGVDL...   \n",
       "2                2  MKRRQKRKHLENEESQETAEKGGGMSKSQEDALQPGSTRVAKGWSQ...   \n",
       "3                3  MDDADPEERNYDNMLKMLSDLNKDLEKLLEEMEKISVQATWMAYDM...   \n",
       "4                4  MAFSDLTSRTVHLYDNWIKDADPRVEDWLLMSSPLPQTILLGFYVY...   \n",
       "...            ...                                                ...   \n",
       "619007      529106  MNSNAPAAVIVLAAGAGTRMKSKLPKVLHEIGGRSLLMHAITAARG...   \n",
       "619008      529107  MSATGSDPSRRPVDLPDLSREAVPGEKVALAPGQLQLRPTRRGKAP...   \n",
       "619009      529108  MVLASHNAKKLRELQRILAPAVPGLEAEQIVSAAGLGLPDVVEDAV...   \n",
       "619010      529109  MLPVLTADALRTAEQAHWDEHPGDDLMGRAAAEVARHATEMLGDGP...   \n",
       "619011      529110  MTAARALAGARVIVGVGGGIAAYKAAHVVRGLVASGAEVRVIPTAS...   \n",
       "\n",
       "                                             protein_name  length  \n",
       "0                   Mitochondrial-derived peptide MOTS-c       16  \n",
       "1                                                Clarin-2     232  \n",
       "2                                        Protein FAM170A      330  \n",
       "3         Synaptonemal complex central element protein 3       88  \n",
       "4       Elongation of very long chain fatty acids prot...     281  \n",
       "...                                                   ...     ...  \n",
       "619007  Bifunctional protein GlmU [Includes: UDP-N-ace...     492  \n",
       "619008  Probable dual-specificity RNA methyltransferas...     428  \n",
       "619009                          dITP/XTP pyrophosphatase      203  \n",
       "619010                                     ADP-dependent      492  \n",
       "619011  Coenzyme A biosynthesis bifunctional protein C...     425  \n",
       "\n",
       "[619012 rows x 4 columns]"
      ]
     },
     "execution_count": 18,
     "metadata": {},
     "output_type": "execute_result"
    }
   ],
   "source": [
    "dataframe2 = pd.read_csv(\"all_proteins.tsv\", sep=\"\\t\")\n",
    "dataframe2 = dataframe2[dataframe2[\"sequence\"].str.len() <= 510]\n",
    "dataframe2 = dataframe2[dataframe2[\"sequence\"].str.len() <= 510]\n",
    "dataframe2[\"protein_name\"] = [v.split(\"(\")[0] for v in dataframe2[\"protein_name\"]]\n",
    "\n",
    "with open(\"names.txt\", \"w\") as f:\n",
    "    f.write(\"\\n\".join([v.split(\"(\")[0].strip() for v in dataframe2[\"protein_name\"].values]))  \n",
    "\n",
    "dataframe2"
   ]
  },
  {
   "cell_type": "code",
   "execution_count": 19,
   "metadata": {
    "tags": []
   },
   "outputs": [
    {
     "data": {
      "application/vnd.jupyter.widget-view+json": {
       "model_id": "305efb3df36849b9b6fd4d1b30bd53cb",
       "version_major": 2,
       "version_minor": 0
      },
      "text/plain": [
       "Downloading (…)okenizer_config.json:   0%|          | 0.00/186 [00:00<?, ?B/s]"
      ]
     },
     "metadata": {},
     "output_type": "display_data"
    },
    {
     "data": {
      "application/vnd.jupyter.widget-view+json": {
       "model_id": "a0a6407b61294a2783853f6033c48375",
       "version_major": 2,
       "version_minor": 0
      },
      "text/plain": [
       "Downloading (…)/main/tokenizer.json:   0%|          | 0.00/1.51M [00:00<?, ?B/s]"
      ]
     },
     "metadata": {},
     "output_type": "display_data"
    },
    {
     "data": {
      "application/vnd.jupyter.widget-view+json": {
       "model_id": "a43f67a5c33346a68b591b2af43a5d58",
       "version_major": 2,
       "version_minor": 0
      },
      "text/plain": [
       "Downloading (…)cial_tokens_map.json:   0%|          | 0.00/3.00 [00:00<?, ?B/s]"
      ]
     },
     "metadata": {},
     "output_type": "display_data"
    }
   ],
   "source": [
    "from transformers import AutoTokenizer\n",
    "\n",
    "tokenizer = AutoTokenizer.from_pretrained(\"mlewand/PROT5-small\", max_length=512,\n",
    "                                                   padding=True)"
   ]
  },
  {
   "cell_type": "code",
   "execution_count": 20,
   "metadata": {
    "tags": []
   },
   "outputs": [
    {
     "name": "stdout",
     "output_type": "stream",
     "text": [
      "[1, 118, 89, 204, 116, 100, 118, 92, 131, 110, 115, 131, 88, 89, 104, 85, 89, 2] <s> M R W Q E M G Y I F Y P R K L R</s>\n",
      "[1, 249, 9701, 12, 25, 2] <s> Protein FAM170A</s>\n"
     ]
    }
   ],
   "source": [
    "ids = tokenizer.encode(\"M R W Q E M G Y I F Y P R K L R\")\n",
    "print(ids, tokenizer.decode(ids))\n",
    "ids = tokenizer.encode(\"Protein FAM170A\")\n",
    "print(ids, tokenizer.decode(ids))"
   ]
  },
  {
   "cell_type": "code",
   "execution_count": null,
   "metadata": {
    "tags": []
   },
   "outputs": [
    {
     "data": {
      "application/vnd.jupyter.widget-view+json": {
       "model_id": "f452dcef5c844ad5bfc2f40cf47606a6",
       "version_major": 2,
       "version_minor": 0
      },
      "text/plain": [
       "  0%|          | 0/89901 [00:00<?, ?it/s]"
      ]
     },
     "metadata": {},
     "output_type": "display_data"
    }
   ],
   "source": [
    "_tokenized_X = []\n",
    "_tokenized_Y = []\n",
    "\n",
    "tokenized_X = []\n",
    "tokenized_Y = []\n",
    "sizes_X = []\n",
    "sizes_Y = []\n",
    "\n",
    "max_length_inp = 512\n",
    "max_length_out = 48\n",
    "\n",
    "for x in tqdm(dataframe[\"sequence\"]):\n",
    "    input_tokens = tokenizer.encode(x)\n",
    "    tokenized_X.append(input_tokens)\n",
    "    sizes_X.append(len(input_tokens))\n",
    "\n",
    "for y in tqdm(dataframe[\"protein_name\"]):\n",
    "    out_tokens = tokenizer.encode(y)\n",
    "    tokenized_Y.append(out_tokens)\n",
    "    sizes_Y.append(len(out_tokens))\n",
    "    \n",
    "for x,y in tqdm(zip(_tokenized_X, _tokenized_Y)):\n",
    "   if len(x) <= max_length_inp and len(y) <= max_length_out:\n",
    "    tokenized_X.append(x)\n",
    "    tokenized_Y.append(y)"
   ]
  },
  {
   "cell_type": "code",
   "execution_count": null,
   "metadata": {
    "tags": []
   },
   "outputs": [],
   "source": [
    "train_val_split = 0.9\n",
    "l = len(tokenized_X)\n",
    "split_idx = int(train_val_split * l)\n",
    "\n",
    "idxes = np.arange(l)\n",
    "r = np.random.permutation(idxes)\n",
    "\n",
    "train_idxs = r[:split_idx]\n",
    "val_idxs = r[split_idx:]\n",
    "\n",
    "train_X, train_Y = [], []\n",
    "val_X, val_Y = [], []\n",
    "\n",
    "\n",
    "for idx in train_idxs:\n",
    "    train_X.append(tokenized_X[idx])\n",
    "    train_Y.append(tokenized_Y[idx])\n",
    "    \n",
    "for idx in val_idxs:\n",
    "    val_X.append(tokenized_X[idx])\n",
    "    val_Y.append(tokenized_Y[idx])   \n",
    "    \n",
    "print(f\"train sizes ;  X : {len(train_X)}, Y : {len(train_Y)}\")\n",
    "print(f\"val sizes ;  X : {len(val_X)}, Y : {len(val_Y)}\")\n"
   ]
  },
  {
   "cell_type": "code",
   "execution_count": null,
   "metadata": {
    "id": "NHWqg-w4nOtm",
    "tags": []
   },
   "outputs": [],
   "source": [
    "class CustomAADataset(Dataset):\n",
    "  def __init__(self, X, Y, max_length=512, max_length2=32):\n",
    "    self.max_length = max_length\n",
    "    self.max_length2 = max_length2 \n",
    "    self.X = X\n",
    "    self.Y = Y\n",
    "    \n",
    "  def __len__(self):\n",
    "    return len(self.X)\n",
    "\n",
    "  def __getitem__(self, idx):\n",
    "    input_tokens = self.X[idx]\n",
    "    output_tokens = self.Y[idx]\n",
    "\n",
    "    # Pad input and output tokens\n",
    "    input_tokens = input_tokens + [0] * (self.max_length - len(input_tokens))\n",
    "\n",
    "    output_tokens = output_tokens + [0] * (self.max_length2 - len(output_tokens))\n",
    "\n",
    "    return {\"input_ids\": torch.tensor(input_tokens, dtype=torch.long),\n",
    "            \"labels\": torch.tensor(output_tokens, dtype=torch.long),\n",
    "            }\n"
   ]
  },
  {
   "cell_type": "code",
   "execution_count": null,
   "metadata": {
    "id": "0BpdFHmUtpda",
    "tags": []
   },
   "outputs": [],
   "source": [
    "# Load data\n",
    "from datasets import Dataset as Dataset_hf\n",
    "\n",
    "dataset = Dataset_hf.from_dict({\"source\": dataframe[\"sequence\"].values, \"target\": dataframe[\"protein_name\"].values})"
   ]
  },
  {
   "cell_type": "code",
   "execution_count": null,
   "metadata": {
    "id": "kQv4-09StvBR",
    "tags": []
   },
   "outputs": [],
   "source": [
    "train_dataset = CustomAADataset(train_X, train_Y, max_length_inp, max_length_out)\n",
    "val_dataset = CustomAADataset(val_X, val_Y, max_length_inp, max_length_out)\n",
    "\n",
    "train_dataset[0]"
   ]
  },
  {
   "cell_type": "code",
   "execution_count": null,
   "metadata": {
    "tags": []
   },
   "outputs": [],
   "source": [
    "from transformers import T5Tokenizer, T5ForConditionalGeneration, T5Config\n",
    "from transformers import DataCollatorForSeq2Seq, Seq2SeqTrainingArguments, Seq2SeqTrainer\n",
    "\n",
    "data_collator = DataCollatorForSeq2Seq(tokenizer=None, padding=True, max_length=512)\n",
    "\n",
    "# Load T5 model\n",
    "config = T5Config.from_pretrained(\"mlewand/PROT5-small\")\n",
    "model = T5ForConditionalGeneration(config)"
   ]
  },
  {
   "cell_type": "code",
   "execution_count": null,
   "metadata": {
    "tags": []
   },
   "outputs": [],
   "source": [
    "from transformers import T5Tokenizer, T5ForConditionalGeneration, T5Config\n",
    "from transformers import DataCollatorForSeq2Seq, Seq2SeqTrainingArguments, Seq2SeqTrainer\n",
    "\n",
    "data_collator = DataCollatorForSeq2Seq(tokenizer=None, padding=True, max_length=512)\n",
    "\n",
    "# Load T5 model\n",
    "#config = T5Config.from_pretrained(\"mlewand/PROT5-small\")\n",
    "#model = T5ForConditionalGeneration(config)\n",
    "model_name = \"t5-small\"\n",
    "config = T5Config.from_pretrained(model_name)\n",
    "model = T5ForConditionalGeneration.from_pretrained(model_name, config=config, ignore_mismatched_sizes=True)"
   ]
  },
  {
   "cell_type": "code",
   "execution_count": null,
   "metadata": {
    "tags": []
   },
   "outputs": [],
   "source": [
    "dats = None\n",
    "eval_d = None\n",
    "\n",
    "def preprocess_logits_for_metrics(logits, labels):\n",
    "    \"\"\"\n",
    "    Original Trainer may have a memory leak. \n",
    "    This is a workaround to avoid storing too many tensors that are not needed.\n",
    "    \"\"\"\n",
    "    global dats\n",
    "    pred_ids = torch.argmax(logits[0],dim=-1)\n",
    "    return pred_ids\n",
    "\n",
    "def compute_metrics(pred):\n",
    "    global eval_d\n",
    "    eval_d = pred\n",
    "    labels = pred.label_ids\n",
    "    # labels = np.argmax(labels, axis=1)\n",
    "    preds = pred.predictions\n",
    "\n",
    "    tot = np.sum(labels != 0) + 1e-10\n",
    "    classified_correctly = 0\n",
    "    exact_matches = 0\n",
    "    for i in range(preds.shape[0]):\n",
    "        mask = preds[i, :] != 0\n",
    "        classified_correctly += np.sum(preds[i, mask] == labels[i, mask])\n",
    "        exact_matches += np.all(preds[i,:] == labels[i, :])\n",
    "            \n",
    "    return {\"matches\": classified_correctly / tot, \"exact_matches\" : exact_matches / preds.shape[0]}"
   ]
  },
  {
   "cell_type": "code",
   "execution_count": null,
   "metadata": {
    "tags": []
   },
   "outputs": [],
   "source": [
    "training_args = Seq2SeqTrainingArguments(\n",
    "    output_dir=\"PROT5-small\",\n",
    "    per_device_train_batch_size=16,\n",
    "    per_device_eval_batch_size=16,\n",
    "    learning_rate=1e-4,\n",
    "    num_train_epochs=50,\n",
    "    evaluation_strategy=\"epoch\",\n",
    "    logging_strategy=\"epoch\",\n",
    "    fp16=True,  # Enable mixed precision training if your GPU supports it\n",
    "    push_to_hub=False\n",
    ")\n",
    "\n",
    "trainer = Seq2SeqTrainer(\n",
    "    model=model,\n",
    "    args=training_args,\n",
    "    train_dataset=train_dataset,\n",
    "    eval_dataset=val_dataset,\n",
    "    data_collator=None,\n",
    "    compute_metrics=compute_metrics,\n",
    "    preprocess_logits_for_metrics= preprocess_logits_for_metrics\n",
    ")\n",
    "\n",
    "trainer.train()"
   ]
  },
  {
   "cell_type": "code",
   "execution_count": 39,
   "metadata": {
    "tags": []
   },
   "outputs": [],
   "source": [
    "labels = eval_d.label_ids\n",
    "    # labels = np.argmax(labels, axis=1)\n",
    "preds = eval_d.predictions"
   ]
  },
  {
   "cell_type": "code",
   "execution_count": 58,
   "metadata": {
    "tags": []
   },
   "outputs": [
    {
     "data": {
      "text/plain": [
       "0.00017333597464342314"
      ]
     },
     "execution_count": 58,
     "metadata": {},
     "output_type": "execute_result"
    }
   ],
   "source": [
    "k = 0\n",
    "for a,b in zip(labels,preds):\n",
    "    mask = a != 0\n",
    "    k += np.sum(a[mask] ==b[mask])\n",
    "k / np.sum(labels != 0) "
   ]
  },
  {
   "cell_type": "code",
   "execution_count": 59,
   "metadata": {
    "tags": []
   },
   "outputs": [
    {
     "name": "stdout",
     "output_type": "stream",
     "text": [
      "7\n"
     ]
    }
   ],
   "source": [
    "print(k)"
   ]
  },
  {
   "cell_type": "code",
   "execution_count": null,
   "metadata": {},
   "outputs": [],
   "source": []
  }
 ],
 "metadata": {
  "colab": {
   "machine_shape": "hm",
   "provenance": []
  },
  "gpuClass": "standard",
  "kernelspec": {
   "display_name": "Python 3 (ipykernel)",
   "language": "python",
   "name": "python3"
  },
  "language_info": {
   "codemirror_mode": {
    "name": "ipython",
    "version": 3
   },
   "file_extension": ".py",
   "mimetype": "text/x-python",
   "name": "python",
   "nbconvert_exporter": "python",
   "pygments_lexer": "ipython3",
   "version": "3.10.10"
  },
  "widgets": {
   "application/vnd.jupyter.widget-state+json": {
    "0de8bb85911b427d8294a81d94939ce4": {
     "model_module": "@jupyter-widgets/controls",
     "model_module_version": "1.5.0",
     "model_name": "HBoxModel",
     "state": {
      "_dom_classes": [],
      "_model_module": "@jupyter-widgets/controls",
      "_model_module_version": "1.5.0",
      "_model_name": "HBoxModel",
      "_view_count": null,
      "_view_module": "@jupyter-widgets/controls",
      "_view_module_version": "1.5.0",
      "_view_name": "HBoxView",
      "box_style": "",
      "children": [
       "IPY_MODEL_cd698668f6984461956d307c4cbce5cc",
       "IPY_MODEL_99170237c3444b13a432b8c374fc1473",
       "IPY_MODEL_43cf4edef7a043928b9508bde88b9374"
      ],
      "layout": "IPY_MODEL_443cfdca91394190a0c800b1e1e654eb"
     }
    },
    "2106053b50d844a5a4b0b466a5614841": {
     "model_module": "@jupyter-widgets/base",
     "model_module_version": "1.2.0",
     "model_name": "LayoutModel",
     "state": {
      "_model_module": "@jupyter-widgets/base",
      "_model_module_version": "1.2.0",
      "_model_name": "LayoutModel",
      "_view_count": null,
      "_view_module": "@jupyter-widgets/base",
      "_view_module_version": "1.2.0",
      "_view_name": "LayoutView",
      "align_content": null,
      "align_items": null,
      "align_self": null,
      "border": null,
      "bottom": null,
      "display": null,
      "flex": null,
      "flex_flow": null,
      "grid_area": null,
      "grid_auto_columns": null,
      "grid_auto_flow": null,
      "grid_auto_rows": null,
      "grid_column": null,
      "grid_gap": null,
      "grid_row": null,
      "grid_template_areas": null,
      "grid_template_columns": null,
      "grid_template_rows": null,
      "height": null,
      "justify_content": null,
      "justify_items": null,
      "left": null,
      "margin": null,
      "max_height": null,
      "max_width": null,
      "min_height": null,
      "min_width": null,
      "object_fit": null,
      "object_position": null,
      "order": null,
      "overflow": null,
      "overflow_x": null,
      "overflow_y": null,
      "padding": null,
      "right": null,
      "top": null,
      "visibility": null,
      "width": null
     }
    },
    "2fe2f7b256874bf384386a4fa5123ea3": {
     "model_module": "@jupyter-widgets/controls",
     "model_module_version": "1.5.0",
     "model_name": "DescriptionStyleModel",
     "state": {
      "_model_module": "@jupyter-widgets/controls",
      "_model_module_version": "1.5.0",
      "_model_name": "DescriptionStyleModel",
      "_view_count": null,
      "_view_module": "@jupyter-widgets/base",
      "_view_module_version": "1.2.0",
      "_view_name": "StyleView",
      "description_width": ""
     }
    },
    "3d217e7538a049be9fb50bacf859e9ac": {
     "model_module": "@jupyter-widgets/base",
     "model_module_version": "1.2.0",
     "model_name": "LayoutModel",
     "state": {
      "_model_module": "@jupyter-widgets/base",
      "_model_module_version": "1.2.0",
      "_model_name": "LayoutModel",
      "_view_count": null,
      "_view_module": "@jupyter-widgets/base",
      "_view_module_version": "1.2.0",
      "_view_name": "LayoutView",
      "align_content": null,
      "align_items": null,
      "align_self": null,
      "border": null,
      "bottom": null,
      "display": null,
      "flex": null,
      "flex_flow": null,
      "grid_area": null,
      "grid_auto_columns": null,
      "grid_auto_flow": null,
      "grid_auto_rows": null,
      "grid_column": null,
      "grid_gap": null,
      "grid_row": null,
      "grid_template_areas": null,
      "grid_template_columns": null,
      "grid_template_rows": null,
      "height": null,
      "justify_content": null,
      "justify_items": null,
      "left": null,
      "margin": null,
      "max_height": null,
      "max_width": null,
      "min_height": null,
      "min_width": null,
      "object_fit": null,
      "object_position": null,
      "order": null,
      "overflow": null,
      "overflow_x": null,
      "overflow_y": null,
      "padding": null,
      "right": null,
      "top": null,
      "visibility": null,
      "width": null
     }
    },
    "43cf4edef7a043928b9508bde88b9374": {
     "model_module": "@jupyter-widgets/controls",
     "model_module_version": "1.5.0",
     "model_name": "HTMLModel",
     "state": {
      "_dom_classes": [],
      "_model_module": "@jupyter-widgets/controls",
      "_model_module_version": "1.5.0",
      "_model_name": "HTMLModel",
      "_view_count": null,
      "_view_module": "@jupyter-widgets/controls",
      "_view_module_version": "1.5.0",
      "_view_name": "HTMLView",
      "description": "",
      "description_tooltip": null,
      "layout": "IPY_MODEL_3d217e7538a049be9fb50bacf859e9ac",
      "placeholder": "​",
      "style": "IPY_MODEL_2fe2f7b256874bf384386a4fa5123ea3",
      "value": " 0/198 [00:00&lt;?, ?it/s]"
     }
    },
    "443cfdca91394190a0c800b1e1e654eb": {
     "model_module": "@jupyter-widgets/base",
     "model_module_version": "1.2.0",
     "model_name": "LayoutModel",
     "state": {
      "_model_module": "@jupyter-widgets/base",
      "_model_module_version": "1.2.0",
      "_model_name": "LayoutModel",
      "_view_count": null,
      "_view_module": "@jupyter-widgets/base",
      "_view_module_version": "1.2.0",
      "_view_name": "LayoutView",
      "align_content": null,
      "align_items": null,
      "align_self": null,
      "border": null,
      "bottom": null,
      "display": null,
      "flex": null,
      "flex_flow": null,
      "grid_area": null,
      "grid_auto_columns": null,
      "grid_auto_flow": null,
      "grid_auto_rows": null,
      "grid_column": null,
      "grid_gap": null,
      "grid_row": null,
      "grid_template_areas": null,
      "grid_template_columns": null,
      "grid_template_rows": null,
      "height": null,
      "justify_content": null,
      "justify_items": null,
      "left": null,
      "margin": null,
      "max_height": null,
      "max_width": null,
      "min_height": null,
      "min_width": null,
      "object_fit": null,
      "object_position": null,
      "order": null,
      "overflow": null,
      "overflow_x": null,
      "overflow_y": null,
      "padding": null,
      "right": null,
      "top": null,
      "visibility": null,
      "width": null
     }
    },
    "71b09a2f29c44961b792ddf69ea8f150": {
     "model_module": "@jupyter-widgets/base",
     "model_module_version": "1.2.0",
     "model_name": "LayoutModel",
     "state": {
      "_model_module": "@jupyter-widgets/base",
      "_model_module_version": "1.2.0",
      "_model_name": "LayoutModel",
      "_view_count": null,
      "_view_module": "@jupyter-widgets/base",
      "_view_module_version": "1.2.0",
      "_view_name": "LayoutView",
      "align_content": null,
      "align_items": null,
      "align_self": null,
      "border": null,
      "bottom": null,
      "display": null,
      "flex": null,
      "flex_flow": null,
      "grid_area": null,
      "grid_auto_columns": null,
      "grid_auto_flow": null,
      "grid_auto_rows": null,
      "grid_column": null,
      "grid_gap": null,
      "grid_row": null,
      "grid_template_areas": null,
      "grid_template_columns": null,
      "grid_template_rows": null,
      "height": null,
      "justify_content": null,
      "justify_items": null,
      "left": null,
      "margin": null,
      "max_height": null,
      "max_width": null,
      "min_height": null,
      "min_width": null,
      "object_fit": null,
      "object_position": null,
      "order": null,
      "overflow": null,
      "overflow_x": null,
      "overflow_y": null,
      "padding": null,
      "right": null,
      "top": null,
      "visibility": null,
      "width": null
     }
    },
    "971715e9020f4f68ab3a4f024c7e85bb": {
     "model_module": "@jupyter-widgets/controls",
     "model_module_version": "1.5.0",
     "model_name": "ProgressStyleModel",
     "state": {
      "_model_module": "@jupyter-widgets/controls",
      "_model_module_version": "1.5.0",
      "_model_name": "ProgressStyleModel",
      "_view_count": null,
      "_view_module": "@jupyter-widgets/base",
      "_view_module_version": "1.2.0",
      "_view_name": "StyleView",
      "bar_color": null,
      "description_width": ""
     }
    },
    "99170237c3444b13a432b8c374fc1473": {
     "model_module": "@jupyter-widgets/controls",
     "model_module_version": "1.5.0",
     "model_name": "FloatProgressModel",
     "state": {
      "_dom_classes": [],
      "_model_module": "@jupyter-widgets/controls",
      "_model_module_version": "1.5.0",
      "_model_name": "FloatProgressModel",
      "_view_count": null,
      "_view_module": "@jupyter-widgets/controls",
      "_view_module_version": "1.5.0",
      "_view_name": "ProgressView",
      "bar_style": "",
      "description": "",
      "description_tooltip": null,
      "layout": "IPY_MODEL_2106053b50d844a5a4b0b466a5614841",
      "max": 198,
      "min": 0,
      "orientation": "horizontal",
      "style": "IPY_MODEL_971715e9020f4f68ab3a4f024c7e85bb",
      "value": 0
     }
    },
    "99599d201e274dacb4d8c0dc8ffb80b9": {
     "model_module": "@jupyter-widgets/controls",
     "model_module_version": "1.5.0",
     "model_name": "DescriptionStyleModel",
     "state": {
      "_model_module": "@jupyter-widgets/controls",
      "_model_module_version": "1.5.0",
      "_model_name": "DescriptionStyleModel",
      "_view_count": null,
      "_view_module": "@jupyter-widgets/base",
      "_view_module_version": "1.2.0",
      "_view_name": "StyleView",
      "description_width": ""
     }
    },
    "cd698668f6984461956d307c4cbce5cc": {
     "model_module": "@jupyter-widgets/controls",
     "model_module_version": "1.5.0",
     "model_name": "HTMLModel",
     "state": {
      "_dom_classes": [],
      "_model_module": "@jupyter-widgets/controls",
      "_model_module_version": "1.5.0",
      "_model_name": "HTMLModel",
      "_view_count": null,
      "_view_module": "@jupyter-widgets/controls",
      "_view_module_version": "1.5.0",
      "_view_name": "HTMLView",
      "description": "",
      "description_tooltip": null,
      "layout": "IPY_MODEL_71b09a2f29c44961b792ddf69ea8f150",
      "placeholder": "​",
      "style": "IPY_MODEL_99599d201e274dacb4d8c0dc8ffb80b9",
      "value": "  0%"
     }
    }
   }
  }
 },
 "nbformat": 4,
 "nbformat_minor": 4
}
