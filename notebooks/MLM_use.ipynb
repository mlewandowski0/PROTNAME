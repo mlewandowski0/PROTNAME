{
 "cells": [
  {
   "cell_type": "code",
   "execution_count": 2,
   "metadata": {},
   "outputs": [
    {
     "data": {
      "application/vnd.jupyter.widget-view+json": {
       "model_id": "5373f6b9b31e409d897518cdcf433a8c",
       "version_major": 2,
       "version_minor": 0
      },
      "text/plain": [
       "Downloading pytorch_model.bin:   0%|          | 0.00/60.0M [00:00<?, ?B/s]"
      ]
     },
     "metadata": {},
     "output_type": "display_data"
    },
    {
     "data": {
      "application/vnd.jupyter.widget-view+json": {
       "model_id": "8d7a1450eefb4bfaa916c18559bd73d6",
       "version_major": 2,
       "version_minor": 0
      },
      "text/plain": [
       "Downloading (…)okenizer_config.json:   0%|          | 0.00/1.37k [00:00<?, ?B/s]"
      ]
     },
     "metadata": {},
     "output_type": "display_data"
    },
    {
     "data": {
      "application/vnd.jupyter.widget-view+json": {
       "model_id": "e1368a4761fe428089189448e5fccfea",
       "version_major": 2,
       "version_minor": 0
      },
      "text/plain": [
       "Downloading (…)olve/main/vocab.json:   0%|          | 0.00/2.16k [00:00<?, ?B/s]"
      ]
     },
     "metadata": {},
     "output_type": "display_data"
    },
    {
     "data": {
      "application/vnd.jupyter.widget-view+json": {
       "model_id": "425ef30c342d489c99ee2126e19a0b32",
       "version_major": 2,
       "version_minor": 0
      },
      "text/plain": [
       "Downloading (…)olve/main/merges.txt:   0%|          | 0.00/14.0 [00:00<?, ?B/s]"
      ]
     },
     "metadata": {},
     "output_type": "display_data"
    },
    {
     "data": {
      "application/vnd.jupyter.widget-view+json": {
       "model_id": "4c3d16752d8342919403ae009311743d",
       "version_major": 2,
       "version_minor": 0
      },
      "text/plain": [
       "Downloading (…)/main/tokenizer.json:   0%|          | 0.00/6.02k [00:00<?, ?B/s]"
      ]
     },
     "metadata": {},
     "output_type": "display_data"
    },
    {
     "data": {
      "application/vnd.jupyter.widget-view+json": {
       "model_id": "fc0d8a0157a54bf19ca2b65a3623cecf",
       "version_major": 2,
       "version_minor": 0
      },
      "text/plain": [
       "Downloading (…)cial_tokens_map.json:   0%|          | 0.00/957 [00:00<?, ?B/s]"
      ]
     },
     "metadata": {},
     "output_type": "display_data"
    }
   ],
   "source": [
    "from transformers import pipeline\n",
    "\n",
    "pipeline = pipeline(\"fill-mask\", \n",
    "                    model=\"mlewand/PROTBERT_LM-L8_hid512\", \n",
    "                    tokenizer=\"mlewand/PROTBERT_LM-L8_hid512\")"
   ]
  },
  {
   "cell_type": "code",
   "execution_count": 6,
   "metadata": {},
   "outputs": [
    {
     "data": {
      "text/plain": [
       "[{'score': 0.3259987533092499,\n",
       "  'token': 48,\n",
       "  'token_str': 'L',\n",
       "  'sequence': 'IIDIGCGDGARTLANLPAESVGIDLSRTGLQLAADTVPSATLVQADMASLPVAENTADAITASHAVFHVPRSDHPTVYREVARVLKPGG'},\n",
       " {'score': 0.295426607131958,\n",
       "  'token': 58,\n",
       "  'token_str': 'V',\n",
       "  'sequence': 'IIDIGCGDGARTLANLPAESVGIDLSRTGLQLAADTVPSATVVQADMASLPVAENTADAITASHAVFHVPRSDHPTVYREVARVLKPGG'},\n",
       " {'score': 0.10113195329904556,\n",
       "  'token': 42,\n",
       "  'token_str': 'F',\n",
       "  'sequence': 'IIDIGCGDGARTLANLPAESVGIDLSRTGLQLAADTVPSATFVQADMASLPVAENTADAITASHAVFHVPRSDHPTVYREVARVLKPGG'},\n",
       " {'score': 0.09704553335905075,\n",
       "  'token': 37,\n",
       "  'token_str': 'A',\n",
       "  'sequence': 'IIDIGCGDGARTLANLPAESVGIDLSRTGLQLAADTVPSATAVQADMASLPVAENTADAITASHAVFHVPRSDHPTVYREVARVLKPGG'},\n",
       " {'score': 0.051002517342567444,\n",
       "  'token': 45,\n",
       "  'token_str': 'I',\n",
       "  'sequence': 'IIDIGCGDGARTLANLPAESVGIDLSRTGLQLAADTVPSATIVQADMASLPVAENTADAITASHAVFHVPRSDHPTVYREVARVLKPGG'}]"
      ]
     },
     "execution_count": 6,
     "metadata": {},
     "output_type": "execute_result"
    }
   ],
   "source": [
    "unmasked = \"IIDIGCGDGARTLANLPAESVGIDLSRTGLQLAADTVPSATLVQADMASLPVAENTADAITASHAVFHVPRSDHPTVYREVARVLKPGG\"\n",
    "masked = \"IIDIGCGDGARTLANLPAESVGIDLSRTGLQLAADTVPSAT<mask>VQADMASLPVAENTADAITASHAVFHVPRSDHPTVYREVARVLKPGG\"\n",
    "pipeline(masked)"
   ]
  },
  {
   "cell_type": "code",
   "execution_count": null,
   "metadata": {},
   "outputs": [],
   "source": []
  }
 ],
 "metadata": {
  "kernelspec": {
   "display_name": "base",
   "language": "python",
   "name": "python3"
  },
  "language_info": {
   "codemirror_mode": {
    "name": "ipython",
    "version": 3
   },
   "file_extension": ".py",
   "mimetype": "text/x-python",
   "name": "python",
   "nbconvert_exporter": "python",
   "pygments_lexer": "ipython3",
   "version": "3.9.13"
  },
  "orig_nbformat": 4
 },
 "nbformat": 4,
 "nbformat_minor": 2
}
