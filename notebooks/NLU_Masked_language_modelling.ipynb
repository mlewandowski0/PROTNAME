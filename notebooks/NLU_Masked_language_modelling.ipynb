{
  "cells": [
    {
      "cell_type": "code",
      "execution_count": 1,
      "metadata": {
        "id": "jgVasYi6Pls3"
      },
      "outputs": [],
      "source": [
        "!pip install -q transformers\n",
        "!pip install -q datasets"
      ]
    },
    {
      "cell_type": "code",
      "execution_count": 2,
      "metadata": {
        "colab": {
          "base_uri": "https://localhost:8080/"
        },
        "id": "Gbqnbvk8PqXa",
        "outputId": "ddc55f1c-7573-4180-cdf8-97edc11a1cd9"
      },
      "outputs": [
        {
          "name": "stderr",
          "output_type": "stream",
          "text": [
            "Some weights of the model checkpoint at mlewand/PROTBERT were not used when initializing BertForMaskedLM: ['classifier.bias', 'classifier.weight']\n",
            "- This IS expected if you are initializing BertForMaskedLM from the checkpoint of a model trained on another task or with another architecture (e.g. initializing a BertForSequenceClassification model from a BertForPreTraining model).\n",
            "- This IS NOT expected if you are initializing BertForMaskedLM from the checkpoint of a model that you expect to be exactly identical (initializing a BertForSequenceClassification model from a BertForSequenceClassification model).\n",
            "Some weights of BertForMaskedLM were not initialized from the model checkpoint at mlewand/PROTBERT and are newly initialized: ['cls.predictions.transform.dense.weight', 'cls.predictions.transform.LayerNorm.bias', 'cls.predictions.transform.LayerNorm.weight', 'cls.predictions.transform.dense.bias', 'cls.predictions.bias']\n",
            "You should probably TRAIN this model on a down-stream task to be able to use it for predictions and inference.\n"
          ]
        }
      ],
      "source": [
        "from transformers import AutoTokenizer, AutoModelForMaskedLM\n",
        "\n",
        "tokenizer = AutoTokenizer.from_pretrained(\"mlewand/PROTBERT\")\n",
        "model = AutoModelForMaskedLM.from_pretrained(\"mlewand/PROTBERT\")"
      ]
    },
    {
      "cell_type": "code",
      "execution_count": 3,
      "metadata": {
        "colab": {
          "base_uri": "https://localhost:8080/"
        },
        "id": "zbuwm0c2QAAS",
        "outputId": "4e8deb3d-4004-41c9-8bc4-71891c18fd13"
      },
      "outputs": [
        {
          "name": "stdout",
          "output_type": "stream",
          "text": [
            "0\n",
            "2\n",
            "4\n",
            "1\n"
          ]
        }
      ],
      "source": [
        "print(tokenizer.bos_token_id)\n",
        "print(tokenizer.eos_token_id)\n",
        "print(tokenizer.mask_token_id)\n",
        "print(tokenizer.pad_token_id)"
      ]
    },
    {
      "cell_type": "markdown",
      "metadata": {
        "id": "UbaLP9Z-Vxds"
      },
      "source": [
        "# Imports"
      ]
    },
    {
      "cell_type": "code",
      "execution_count": 4,
      "metadata": {
        "id": "owN00WWYVzGr"
      },
      "outputs": [],
      "source": [
        "import os\n",
        "import requests\n",
        "import tqdm\n",
        "import json\n",
        "import pandas as pd\n",
        "import numpy as np\n",
        "import zipfile\n",
        "from collections import Counter\n",
        "\n",
        "import torch"
      ]
    },
    {
      "cell_type": "markdown",
      "metadata": {
        "id": "1YsvIZ8JV_Vb"
      },
      "source": [
        "# Hyperparameters"
      ]
    },
    {
      "cell_type": "code",
      "execution_count": 5,
      "metadata": {
        "id": "9ZVZotXDWBPT"
      },
      "outputs": [],
      "source": [
        "file_id = '1w3IQMK3PmXH-Bq6Lt_P8wxGPvr5olrZT'\n",
        "destination = 'pfam.zip'\n",
        "hf_name = \"t5-small\"\n",
        "n_families_of_interest = 1000\n",
        "data_dirpath = \"pfam\"\n",
        "aminoacid_separate_by = \"\"\n",
        "max_length = 512\n",
        "tokenizer_folder = \"PROTNAME_tok\"\n",
        "save_folder = \"PROTNAME\"\n",
        "vocab_size=32"
      ]
    },
    {
      "cell_type": "markdown",
      "metadata": {
        "id": "n4BalcS-VgWj"
      },
      "source": [
        "# Utils"
      ]
    },
    {
      "cell_type": "code",
      "execution_count": 6,
      "metadata": {
        "id": "loV2XBknVOe0"
      },
      "outputs": [],
      "source": [
        "def format_size(value):\n",
        "  if value >= 1024**3:\n",
        "    return f\"{round(value / 1024**3 , 3)} GB\"\n",
        "  elif value >= 1024**2:\n",
        "    return f\"{round(value / 1024**2 , 3)} MB\"\n",
        "  elif value >= 1024:\n",
        "    return f\"{round(value / 1024 , 3)} KB\"\n",
        "  return f\"{value} B\""
      ]
    },
    {
      "cell_type": "code",
      "execution_count": 7,
      "metadata": {
        "id": "FnxVLDEaVbx9"
      },
      "outputs": [],
      "source": [
        "# Code taken from https://stackoverflow.com/questions/38511444/python-download-files-from-google-drive-using-url\n",
        "def download_file_from_google_drive(id, destination):\n",
        "    URL = \"https://docs.google.com/uc?export=download\"\n",
        "\n",
        "    session = requests.Session()\n",
        "\n",
        "    response = session.get(URL, params = { 'id' : id }, stream = True)\n",
        "    token = get_confirm_token(response)\n",
        "    params = { 'id' : id, 'confirm' : 1 }\n",
        "    response = session.get(URL, params = params, stream = True)\n",
        "\n",
        "    save_response_content(response, destination)    \n",
        "\n",
        "def get_confirm_token(response):\n",
        "    for key, value in response.cookies.items():\n",
        "        if key.startswith('download_warning'):\n",
        "            return value\n",
        "\n",
        "    return None\n",
        "\n",
        "def save_response_content(response, destination):\n",
        "    CHUNK_SIZE = 32768\n",
        "    \n",
        "    pb = tqdm.tqdm(response.iter_content(CHUNK_SIZE))\n",
        "    b_total = 0\n",
        "    with open(destination, \"wb\") as f:\n",
        "        for i,chunk in enumerate(pb):\n",
        "            if chunk: # filter out keep-alive new chunks\n",
        "                f.write(chunk)\n",
        "                b_total += len(chunk)\n",
        "\n",
        "                if i % 1000 == 0:\n",
        "                  pb.set_description(f\"written : {format_size(b_total)}\")\n",
        "                i += 1\n",
        "    print(\"\\n\")\n",
        "    print(f\"saved all the data to {destination}. total size : {format_size(os.stat(destination).st_size)}\")"
      ]
    },
    {
      "cell_type": "markdown",
      "metadata": {
        "id": "FX87OH9OVjRD"
      },
      "source": [
        "# Get the Dataset"
      ]
    },
    {
      "cell_type": "code",
      "execution_count": 8,
      "metadata": {
        "colab": {
          "base_uri": "https://localhost:8080/"
        },
        "id": "1HGEcl9LVmBn",
        "outputId": "6ec50469-baf7-4cf3-de63-9ad772e77333"
      },
      "outputs": [
        {
          "name": "stderr",
          "output_type": "stream",
          "text": [
            "written : 468.781 MB: : 15780it [00:01, 8106.62it/s]\n"
          ]
        },
        {
          "name": "stdout",
          "output_type": "stream",
          "text": [
            "\n",
            "\n",
            "saved all the data to pfam.zip. total size : 493.095 MB\n",
            "mv: cannot move 'random_split' to 'pfam/random_split': Directory not empty\n"
          ]
        }
      ],
      "source": [
        "download_file_from_google_drive(file_id, destination)\n",
        "with zipfile.ZipFile(destination, 'r') as zip_ref:\n",
        "    zip_ref.extractall(\".\")\n",
        "!mv random_split pfam"
      ]
    },
    {
      "cell_type": "markdown",
      "metadata": {
        "id": "lYCBtPLqWZx4"
      },
      "source": [
        "# Read Data"
      ]
    },
    {
      "cell_type": "code",
      "execution_count": 9,
      "metadata": {
        "colab": {
          "base_uri": "https://localhost:8080/"
        },
        "id": "NZ-6Ce6AWS55",
        "outputId": "fa5582be-7200-4252-f63d-55f547c4eb2d"
      },
      "outputs": [
        {
          "name": "stdout",
          "output_type": "stream",
          "text": [
            "Available dataset partitions:  ['train', 'test', 'random_split', 'dev']\n",
            "Dataset partition \"test\" has 126171 sequences\n",
            "Dataset partition \"dev\" has 126171 sequences\n",
            "Dataset partition \"train\" has 1086741 sequences\n",
            "how many labels : 17929\n",
            "1000 classes is 40.400000000000006 portion of training data\n"
          ]
        }
      ],
      "source": [
        "def read_all_shards(partition='dev', data_dir = data_dirpath):\n",
        "    shards = []\n",
        "    for fn in os.listdir(os.path.join(data_dir, partition)):\n",
        "        with open(os.path.join(data_dir, partition, fn)) as f:\n",
        "            shards.append(pd.read_csv(f, index_col=None))\n",
        "    \n",
        "    return pd.concat(shards)\n",
        "\n",
        "def read_all_data_initial():\n",
        "  global train, test, dev, all_train_ds_size, all_test_ds_size, all_dev_ds_size\n",
        "\n",
        "  test = read_all_shards('test')\n",
        "  dev = read_all_shards('dev')\n",
        "  train = read_all_shards('train')\n",
        "\n",
        "  partitions = {'test': test, 'dev': dev, 'train': train}\n",
        "  for name, df in partitions.items():\n",
        "      print('Dataset partition \"%s\" has %d sequences' % (name, len(df)))\n",
        "\n",
        "  all_train_ds_size = len(train)\n",
        "  all_test_ds_size = len(test)\n",
        "  all_dev_ds_size = len(dev)\n",
        "\n",
        "  train.reset_index(inplace=True, drop=True)\n",
        "  dev.reset_index(inplace=True, drop=True)\n",
        "  test.reset_index(inplace=True, drop=True)\n",
        "\n",
        "def get_cumulative(data):\n",
        "    counter = Counter(data['family_accession'])\n",
        "    print(f\"how many labels : {len(counter)}\")\n",
        "    \n",
        "    datasetSize = len(data)\n",
        "    xs = []\n",
        "    x_labels = []\n",
        "    ys = []\n",
        "\n",
        "    t = 0\n",
        "    cumulative = []\n",
        "\n",
        "    for i,(x, y) in  enumerate(counter.most_common()):\n",
        "        xs.append(i)\n",
        "        x_labels.append(x)\n",
        "        ys.append(y)\n",
        "        t += y / datasetSize\n",
        "        cumulative.append(t)\n",
        "    return cumulative\n",
        "\n",
        "\n",
        "# EXECUTION CODE\n",
        "print('Available dataset partitions: ', os.listdir(data_dirpath))\n",
        "read_all_data_initial()\n",
        "cumulative = get_cumulative(train)\n",
        "print(f\"{n_families_of_interest} classes is {100 * round( cumulative[n_families_of_interest-1],3)} portion of training data\")\n",
        "\n",
        "familiesOfInterest = train.family_accession.value_counts()[:n_families_of_interest]\n",
        "\n",
        "mask = train.family_accession.isin(familiesOfInterest.index.values)\n",
        "train = train.loc[mask,:]\n",
        "\n",
        "mask = dev.family_accession.isin(familiesOfInterest.index.values)\n",
        "dev = dev.loc[mask,:]\n",
        "\n",
        "mask = test.family_accession.isin(familiesOfInterest.index.values)\n",
        "test = test.loc[mask,:]\n",
        "\n",
        "\n",
        "################################################################################\n",
        "train_seq = train['sequence']\n",
        "dev_seq = dev['sequence']\n",
        "test_seq = test['sequence']\n",
        "\n",
        "################################################################################\n",
        "train_sentences = train_seq.apply(lambda seq: aminoacid_separate_by.join([aa for aa in seq]))\n",
        "validation_sentences = dev_seq.apply(lambda seq: aminoacid_separate_by.join([aa for aa in seq]))\n",
        "test_sentences = test_seq.apply(lambda seq: aminoacid_separate_by.join([aa for aa in seq]))\n",
        "\n",
        "################################################################################\n",
        "train_labels = train['family_accession'].apply(lambda x: x.split('.')[0])\n",
        "validation_labels = dev['family_accession'].apply(lambda x: x.split('.')[0])\n",
        "test_labels = test['family_accession'].apply(lambda x: x.split('.')[0])"
      ]
    },
    {
      "cell_type": "code",
      "execution_count": 10,
      "metadata": {
        "colab": {
          "base_uri": "https://localhost:8080/"
        },
        "id": "hSuEYW7GWnZS",
        "outputId": "5fccd9bf-0902-4f2c-cd01-b6a5b0e0fa99"
      },
      "outputs": [
        {
          "data": {
            "text/plain": [
              "1            GGRVWSVDLRPAGESGRSVSGGGLAFEGNRIFVTTGYGELVALDART\n",
              "2          IRPAIVLLLVLTAITGLAYPLAMTGIAGMLFPAQAQGSLIEKDGKV...\n",
              "3          AITAKAGDAGKYKVGLPAWNMVLRGFMSGAYIAMGAALATVCSTGI...\n",
              "4                         SECNPLHEAAAYAHLDLVKYFVQERGINPAEFNE\n",
              "5          LQPGDYVVHRQHGIGKFVKLESLTISQEIRDYLVLQYADGTLRVAA...\n",
              "                                 ...                        \n",
              "1086731    DDVLGRAGRLIAQLTGQVAVVQYPSLRRSGLRHLELVPVGADRLLV...\n",
              "1086734      MKVVLLEDVQNVGKAGEIVNVKDGYGRNFLIKTNKGLPGTKENIAKA\n",
              "1086736    SDIEVSQDIVREVGLLPIQDVAKEAGLLESEVIPWGIAKAKVQLNS...\n",
              "1086738    VLLQRLLNHESLGAVQARALMEQWLSGTLPEALSGALLAALQSKGV...\n",
              "1086739    SLVSIADYSKEEILAILHSAADFEANPNRKTLDGRVIATLFFEPST...\n",
              "Name: sequence, Length: 439493, dtype: object"
            ]
          },
          "execution_count": 10,
          "metadata": {},
          "output_type": "execute_result"
        }
      ],
      "source": [
        "train_sentences"
      ]
    },
    {
      "cell_type": "code",
      "execution_count": 11,
      "metadata": {
        "colab": {
          "base_uri": "https://localhost:8080/"
        },
        "id": "h8cEz2TUWpIh",
        "outputId": "0124f48a-f8da-494e-f82f-f01eb87e4a5b"
      },
      "outputs": [
        {
          "name": "stderr",
          "output_type": "stream",
          "text": [
            "100%|██████████| 439493/439493 [00:00<00:00, 2158120.49it/s]"
          ]
        },
        {
          "name": "stdout",
          "output_type": "stream",
          "text": [
            "\n",
            "1000\n"
          ]
        },
        {
          "name": "stderr",
          "output_type": "stream",
          "text": [
            "\n"
          ]
        }
      ],
      "source": [
        "labels = set()\n",
        "\n",
        "for v in tqdm.tqdm(train_labels):\n",
        "  labels.add(v)\n",
        "\n",
        "label_to_id = {k:v for v,k in enumerate(labels)}\n",
        "\n",
        "print()\n",
        "print(len(labels))"
      ]
    },
    {
      "cell_type": "code",
      "execution_count": 12,
      "metadata": {
        "id": "1dGYGXxBWzsh"
      },
      "outputs": [],
      "source": [
        "from datasets import Dataset\n",
        "dataset = Dataset.from_dict({\"sentence\": train_sentences})\n",
        "dataset_val = Dataset.from_dict({\"sentence\": validation_sentences})"
      ]
    },
    {
      "cell_type": "code",
      "execution_count": 13,
      "metadata": {
        "colab": {
          "base_uri": "https://localhost:8080/"
        },
        "id": "brsB7FSJXE24",
        "outputId": "552ec7e1-2fd3-45ee-e262-4c9a233d802c"
      },
      "outputs": [
        {
          "name": "stdout",
          "output_type": "stream",
          "text": [
            "Dataset({\n",
            "    features: ['sentence'],\n",
            "    num_rows: 439493\n",
            "})\n",
            "Dataset({\n",
            "    features: ['sentence'],\n",
            "    num_rows: 54378\n",
            "})\n"
          ]
        }
      ],
      "source": [
        "print(dataset)\n",
        "print(dataset_val)"
      ]
    },
    {
      "cell_type": "code",
      "execution_count": 14,
      "metadata": {
        "colab": {
          "base_uri": "https://localhost:8080/"
        },
        "id": "eSUx5vu7ZE7o",
        "outputId": "dfc1a83b-ef77-4613-dd89-d3e2617067c8"
      },
      "outputs": [
        {
          "name": "stdout",
          "output_type": "stream",
          "text": [
            "datapoint : GGRVWSVDLRPAGESGRSVSGGGLAFEGNRIFVTTGYGELVALDART, len(47)\n",
            "[0, 43, 43, 54, 58, 59, 55, 58, 40, 48, 54, 52, 37, 43, 41, 55, 43, 54, 55, 58, 55, 43, 43, 43, 48, 37, 42, 41, 43, 50, 54, 45, 42, 58, 56, 56, 43, 61, 43, 41, 48, 58, 37, 48, 40, 37, 54, 56, 2]\n"
          ]
        }
      ],
      "source": [
        "datapoint = train_sentences.iloc[0]\n",
        "encoded = tokenizer.encode(datapoint)\n",
        "print(f\"datapoint : {datapoint}, len({len(datapoint)})\")\n",
        "print(encoded)"
      ]
    },
    {
      "cell_type": "code",
      "execution_count": 15,
      "metadata": {
        "id": "FxFINv-crl_c"
      },
      "outputs": [],
      "source": [
        "def preprocess_function(examples):\n",
        "    return tokenizer(examples[\"sentence\"], truncation=True)"
      ]
    },
    {
      "cell_type": "code",
      "execution_count": 16,
      "metadata": {
        "colab": {
          "base_uri": "https://localhost:8080/",
          "height": 17,
          "referenced_widgets": [
            "c365487441c04a12aabec22d86bd4561",
            "052128a69fe746a1bd79d25e4d472063",
            "1307a4f5fe064f20a0bef031d7586a46",
            "ed9146079caa4e3baf5342d051ff2fcf",
            "c448ff0f58654c04a883c0f9296c1301",
            "195e23c2e6074fe1a4da96bc628db141",
            "3f592bd421f0466f84b2c5d37cd8b804",
            "7cdace6109dd494fbe002c3a82e39c64",
            "1e279b240dbe4150bb742dc8dec92401",
            "80c9725169524de5b1c33998e8961178",
            "ea402b4672a0417b81b2d7c4c1a49ebf",
            "726e137c6dd14657af0a8e4155ad57b1",
            "63258ae8c5cd441ea2091e8e5f4eb797",
            "84a64e0330654408a4eb6a2238437c11",
            "9bbffee00a8242098ea61e6e863bd240",
            "c680f4b4275444e3847082461f85225a",
            "32c4135d36874d72afededd170c6f050",
            "95bbd4a7fedb46088d0012e61b688ba2",
            "22d4adb90ca74c66b976dd648ea5f1b3",
            "d33e1cb843694f3681061cd0770258fb",
            "d686d428facd48da82133c0dc58c1327",
            "5f5e468ca9424cb29b7551fd7d54c3bd"
          ]
        },
        "id": "hHjjVllLrhyk",
        "outputId": "e3b0ae18-ce00-4a93-800b-2cd45cc68c66"
      },
      "outputs": [
        {
          "data": {
            "application/vnd.jupyter.widget-view+json": {
              "model_id": "c365487441c04a12aabec22d86bd4561",
              "version_major": 2,
              "version_minor": 0
            },
            "text/plain": [
              "Map:   0%|          | 0/439493 [00:00<?, ? examples/s]"
            ]
          },
          "metadata": {},
          "output_type": "display_data"
        },
        {
          "data": {
            "application/vnd.jupyter.widget-view+json": {
              "model_id": "726e137c6dd14657af0a8e4155ad57b1",
              "version_major": 2,
              "version_minor": 0
            },
            "text/plain": [
              "Map:   0%|          | 0/54378 [00:00<?, ? examples/s]"
            ]
          },
          "metadata": {},
          "output_type": "display_data"
        }
      ],
      "source": [
        "encoded_dataset = dataset.map(preprocess_function, batched=True)\n",
        "encoded_dataset_val = dataset_val.map(preprocess_function, batched=True)"
      ]
    },
    {
      "cell_type": "code",
      "execution_count": 17,
      "metadata": {
        "colab": {
          "base_uri": "https://localhost:8080/"
        },
        "id": "U0OHc3GSdY4L",
        "outputId": "34afe0c0-53a1-4de8-ec91-5e8e7c530d61"
      },
      "outputs": [
        {
          "name": "stderr",
          "output_type": "stream",
          "text": [
            "You're using a RobertaTokenizerFast tokenizer. Please note that with a fast tokenizer, using the `__call__` method is faster than using a method to encode the text followed by a call to the `pad` method to get a padded encoding.\n"
          ]
        },
        {
          "data": {
            "text/plain": [
              "{'input_ids': tensor([[ 0, 43, 43, 54, 58, 59,  4, 58, 40, 48, 54, 52, 37, 43, 41, 55,  4, 54,\n",
              "         55, 58,  4, 43, 43, 43, 48, 37, 42, 41, 43, 50, 54,  4, 42, 58, 56, 56,\n",
              "         43, 61, 43, 41, 48,  4, 37, 48, 40, 37, 39, 56,  2]]), 'attention_mask': tensor([[1, 1, 1, 1, 1, 1, 1, 1, 1, 1, 1, 1, 1, 1, 1, 1, 1, 1, 1, 1, 1, 1, 1, 1,\n",
              "         1, 1, 1, 1, 1, 1, 1, 1, 1, 1, 1, 1, 1, 1, 1, 1, 1, 1, 1, 1, 1, 1, 1, 1,\n",
              "         1]]), 'labels': tensor([[-100, -100, -100, -100, -100, -100,   55, -100, -100, -100, -100, -100,\n",
              "         -100, -100, -100, -100,   43, -100, -100, -100,   55, -100, -100, -100,\n",
              "         -100, -100, -100, -100, -100, -100, -100,   45, -100, -100, -100, -100,\n",
              "           43, -100, -100, -100, -100,   58, -100, -100, -100, -100,   54, -100,\n",
              "         -100]])}"
            ]
          },
          "execution_count": 17,
          "metadata": {},
          "output_type": "execute_result"
        }
      ],
      "source": [
        "from transformers import DataCollatorForLanguageModeling\n",
        "data_collator = DataCollatorForLanguageModeling(tokenizer=tokenizer, mlm=True, mlm_probability=0.05)\n",
        "tok = tokenizer(train_sentences.iloc[0], truncation=True)\n",
        "data_collator([tok])"
      ]
    },
    {
      "cell_type": "code",
      "execution_count": 18,
      "metadata": {
        "id": "xJz2ahLh5Eav"
      },
      "outputs": [],
      "source": [
        "def compute_metrics(pred):\n",
        "  labels = pred.label_ids\n",
        "  # labels = np.argmax(labels, axis=1)\n",
        "  preds = pred.predictions\n",
        "\n",
        "  tot = np.sum(labels != -100) + 1e-10\n",
        "  classified_correctly = 0\n",
        "  for i in range(preds.shape[0]):\n",
        "    mask = preds[i, :] != -100\n",
        "    classified_correctly += np.sum(preds[i, mask] == labels[i, mask])\n",
        "    \n",
        "\n",
        "  # print(classified_correctly, tot)\n",
        "  #print(f'predictions: {labels.shape}')\n",
        "  #print(f'labels: {labels.shape}')\n",
        "  # print(labels[0])\n",
        "  # print(preds[0])\n",
        "  #cnt = 0\n",
        "  # for i in range(len(labels)):\n",
        "  #   if labels[i] == preds[i]:\n",
        "  #     cnt += 1\n",
        "  \n",
        "  return {\"exact_matches\": classified_correctly / tot}"
      ]
    },
    {
      "cell_type": "code",
      "execution_count": 19,
      "metadata": {
        "id": "Nlk_0wKVaCnu"
      },
      "outputs": [],
      "source": [
        "def preprocess_logits_for_metrics(logits, labels):\n",
        "    \"\"\"\n",
        "    Original Trainer may have a memory leak. \n",
        "    This is a workaround to avoid storing too many tensors that are not needed.\n",
        "    \"\"\"\n",
        "    pred_ids = torch.argmax(logits, dim=-1)\n",
        "    return pred_ids"
      ]
    },
    {
      "cell_type": "code",
      "execution_count": null,
      "metadata": {
        "colab": {
          "base_uri": "https://localhost:8080/",
          "height": 224
        },
        "id": "TB802tI4qpcT",
        "outputId": "4e1795d1-f061-429e-fecf-e5654ebdfac5"
      },
      "outputs": [
        {
          "name": "stderr",
          "output_type": "stream",
          "text": [
            "/usr/local/lib/python3.9/dist-packages/transformers/optimization.py:391: FutureWarning: This implementation of AdamW is deprecated and will be removed in a future version. Use the PyTorch implementation torch.optim.AdamW instead, or set `no_deprecation_warning=True` to disable this warning\n",
            "  warnings.warn(\n"
          ]
        },
        {
          "data": {
            "text/html": [
              "\n",
              "    <div>\n",
              "      \n",
              "      <progress value='13097' max='34340' style='width:300px; height:20px; vertical-align: middle;'></progress>\n",
              "      [13097/34340 28:47 < 46:42, 7.58 it/s, Epoch 3.81/10]\n",
              "    </div>\n",
              "    <table border=\"1\" class=\"dataframe\">\n",
              "  <thead>\n",
              " <tr style=\"text-align: left;\">\n",
              "      <th>Epoch</th>\n",
              "      <th>Training Loss</th>\n",
              "      <th>Validation Loss</th>\n",
              "      <th>Exact Matches</th>\n",
              "    </tr>\n",
              "  </thead>\n",
              "  <tbody>\n",
              "    <tr>\n",
              "      <td>1</td>\n",
              "      <td>2.598500</td>\n",
              "      <td>2.563728</td>\n",
              "      <td>0.204781</td>\n",
              "    </tr>\n",
              "    <tr>\n",
              "      <td>2</td>\n",
              "      <td>2.563100</td>\n",
              "      <td>2.554148</td>\n",
              "      <td>0.205883</td>\n",
              "    </tr>\n",
              "    <tr>\n",
              "      <td>3</td>\n",
              "      <td>2.554700</td>\n",
              "      <td>2.540062</td>\n",
              "      <td>0.212662</td>\n",
              "    </tr>\n",
              "  </tbody>\n",
              "</table><p>"
            ],
            "text/plain": [
              "<IPython.core.display.HTML object>"
            ]
          },
          "metadata": {},
          "output_type": "display_data"
        }
      ],
      "source": [
        "from transformers import Trainer, TrainingArguments\n",
        "\n",
        "training_args = TrainingArguments(\n",
        "    output_dir=save_folder,\n",
        "    overwrite_output_dir=True,\n",
        "    learning_rate=5e-4,\n",
        "    num_train_epochs=10,\n",
        "    per_device_train_batch_size=128,\n",
        "    per_device_eval_batch_size=128,\n",
        "    evaluation_strategy=\"epoch\",\n",
        "    logging_dir=os.path.join(save_folder, \"logs\"),            # directory for storing logs\n",
        "    logging_steps=50,\n",
        "    save_total_limit=2,\n",
        "    prediction_loss_only=False,\n",
        "    logging_strategy=\"epoch\",\n",
        "    fp16=True,\n",
        "    # eval_accumulation_steps = 8 # Transfer GPU tensors during validation to RAM\n",
        ")\n",
        "\n",
        "trainer = Trainer(\n",
        "    model=model,\n",
        "    args=training_args,\n",
        "    train_dataset=encoded_dataset,\n",
        "    eval_dataset=encoded_dataset_val,\n",
        "    tokenizer=tokenizer,\n",
        "    compute_metrics=compute_metrics,\n",
        "    data_collator = data_collator,\n",
        "    preprocess_logits_for_metrics= preprocess_logits_for_metrics\n",
        ")\n",
        "\n",
        "trainer.train()"
      ]
    },
    {
      "cell_type": "code",
      "execution_count": null,
      "metadata": {
        "id": "gtRrx556O842"
      },
      "outputs": [],
      "source": [
        "encoded_dataset_val"
      ]
    },
    {
      "cell_type": "code",
      "execution_count": null,
      "metadata": {
        "id": "YEyPO9FO2AnB"
      },
      "outputs": [],
      "source": [
        "from  transformers import pipeline\n",
        "\n",
        "model=model.to(\"cpu\")\n",
        "p = pipeline(\"fill-mask\", model=model, tokenizer=tokenizer)"
      ]
    },
    {
      "cell_type": "code",
      "execution_count": null,
      "metadata": {
        "id": "gqsxBCCj29qE"
      },
      "outputs": [],
      "source": [
        "seq = train_sentences.iloc[0]\n",
        "seq = seq[:-1]\n",
        "seq += '<mask>'\n",
        "\n",
        "p(seq)"
      ]
    },
    {
      "cell_type": "code",
      "execution_count": null,
      "metadata": {
        "id": "6FfitG5KqchU"
      },
      "outputs": [],
      "source": [
        "!pip install torchinfo\n",
        "from torchinfo import summary "
      ]
    },
    {
      "cell_type": "code",
      "execution_count": null,
      "metadata": {
        "id": "4GdYSkcBy6Bx"
      },
      "outputs": [],
      "source": [
        "summary(model)"
      ]
    },
    {
      "cell_type": "code",
      "execution_count": null,
      "metadata": {
        "id": "M9huIbf-zF3T"
      },
      "outputs": [],
      "source": []
    }
  ],
  "metadata": {
    "accelerator": "GPU",
    "colab": {
      "provenance": []
    },
    "gpuClass": "premium",
    "kernelspec": {
      "display_name": "Python 3",
      "name": "python3"
    },
    "language_info": {
      "name": "python"
    },
    "widgets": {
      "application/vnd.jupyter.widget-state+json": {
        "052128a69fe746a1bd79d25e4d472063": {
          "model_module": "@jupyter-widgets/controls",
          "model_module_version": "1.5.0",
          "model_name": "HTMLModel",
          "state": {
            "_dom_classes": [],
            "_model_module": "@jupyter-widgets/controls",
            "_model_module_version": "1.5.0",
            "_model_name": "HTMLModel",
            "_view_count": null,
            "_view_module": "@jupyter-widgets/controls",
            "_view_module_version": "1.5.0",
            "_view_name": "HTMLView",
            "description": "",
            "description_tooltip": null,
            "layout": "IPY_MODEL_195e23c2e6074fe1a4da96bc628db141",
            "placeholder": "​",
            "style": "IPY_MODEL_3f592bd421f0466f84b2c5d37cd8b804",
            "value": "Map: 100%"
          }
        },
        "1307a4f5fe064f20a0bef031d7586a46": {
          "model_module": "@jupyter-widgets/controls",
          "model_module_version": "1.5.0",
          "model_name": "FloatProgressModel",
          "state": {
            "_dom_classes": [],
            "_model_module": "@jupyter-widgets/controls",
            "_model_module_version": "1.5.0",
            "_model_name": "FloatProgressModel",
            "_view_count": null,
            "_view_module": "@jupyter-widgets/controls",
            "_view_module_version": "1.5.0",
            "_view_name": "ProgressView",
            "bar_style": "",
            "description": "",
            "description_tooltip": null,
            "layout": "IPY_MODEL_7cdace6109dd494fbe002c3a82e39c64",
            "max": 439493,
            "min": 0,
            "orientation": "horizontal",
            "style": "IPY_MODEL_1e279b240dbe4150bb742dc8dec92401",
            "value": 439493
          }
        },
        "195e23c2e6074fe1a4da96bc628db141": {
          "model_module": "@jupyter-widgets/base",
          "model_module_version": "1.2.0",
          "model_name": "LayoutModel",
          "state": {
            "_model_module": "@jupyter-widgets/base",
            "_model_module_version": "1.2.0",
            "_model_name": "LayoutModel",
            "_view_count": null,
            "_view_module": "@jupyter-widgets/base",
            "_view_module_version": "1.2.0",
            "_view_name": "LayoutView",
            "align_content": null,
            "align_items": null,
            "align_self": null,
            "border": null,
            "bottom": null,
            "display": null,
            "flex": null,
            "flex_flow": null,
            "grid_area": null,
            "grid_auto_columns": null,
            "grid_auto_flow": null,
            "grid_auto_rows": null,
            "grid_column": null,
            "grid_gap": null,
            "grid_row": null,
            "grid_template_areas": null,
            "grid_template_columns": null,
            "grid_template_rows": null,
            "height": null,
            "justify_content": null,
            "justify_items": null,
            "left": null,
            "margin": null,
            "max_height": null,
            "max_width": null,
            "min_height": null,
            "min_width": null,
            "object_fit": null,
            "object_position": null,
            "order": null,
            "overflow": null,
            "overflow_x": null,
            "overflow_y": null,
            "padding": null,
            "right": null,
            "top": null,
            "visibility": null,
            "width": null
          }
        },
        "1e279b240dbe4150bb742dc8dec92401": {
          "model_module": "@jupyter-widgets/controls",
          "model_module_version": "1.5.0",
          "model_name": "ProgressStyleModel",
          "state": {
            "_model_module": "@jupyter-widgets/controls",
            "_model_module_version": "1.5.0",
            "_model_name": "ProgressStyleModel",
            "_view_count": null,
            "_view_module": "@jupyter-widgets/base",
            "_view_module_version": "1.2.0",
            "_view_name": "StyleView",
            "bar_color": null,
            "description_width": ""
          }
        },
        "22d4adb90ca74c66b976dd648ea5f1b3": {
          "model_module": "@jupyter-widgets/base",
          "model_module_version": "1.2.0",
          "model_name": "LayoutModel",
          "state": {
            "_model_module": "@jupyter-widgets/base",
            "_model_module_version": "1.2.0",
            "_model_name": "LayoutModel",
            "_view_count": null,
            "_view_module": "@jupyter-widgets/base",
            "_view_module_version": "1.2.0",
            "_view_name": "LayoutView",
            "align_content": null,
            "align_items": null,
            "align_self": null,
            "border": null,
            "bottom": null,
            "display": null,
            "flex": null,
            "flex_flow": null,
            "grid_area": null,
            "grid_auto_columns": null,
            "grid_auto_flow": null,
            "grid_auto_rows": null,
            "grid_column": null,
            "grid_gap": null,
            "grid_row": null,
            "grid_template_areas": null,
            "grid_template_columns": null,
            "grid_template_rows": null,
            "height": null,
            "justify_content": null,
            "justify_items": null,
            "left": null,
            "margin": null,
            "max_height": null,
            "max_width": null,
            "min_height": null,
            "min_width": null,
            "object_fit": null,
            "object_position": null,
            "order": null,
            "overflow": null,
            "overflow_x": null,
            "overflow_y": null,
            "padding": null,
            "right": null,
            "top": null,
            "visibility": null,
            "width": null
          }
        },
        "32c4135d36874d72afededd170c6f050": {
          "model_module": "@jupyter-widgets/base",
          "model_module_version": "1.2.0",
          "model_name": "LayoutModel",
          "state": {
            "_model_module": "@jupyter-widgets/base",
            "_model_module_version": "1.2.0",
            "_model_name": "LayoutModel",
            "_view_count": null,
            "_view_module": "@jupyter-widgets/base",
            "_view_module_version": "1.2.0",
            "_view_name": "LayoutView",
            "align_content": null,
            "align_items": null,
            "align_self": null,
            "border": null,
            "bottom": null,
            "display": null,
            "flex": null,
            "flex_flow": null,
            "grid_area": null,
            "grid_auto_columns": null,
            "grid_auto_flow": null,
            "grid_auto_rows": null,
            "grid_column": null,
            "grid_gap": null,
            "grid_row": null,
            "grid_template_areas": null,
            "grid_template_columns": null,
            "grid_template_rows": null,
            "height": null,
            "justify_content": null,
            "justify_items": null,
            "left": null,
            "margin": null,
            "max_height": null,
            "max_width": null,
            "min_height": null,
            "min_width": null,
            "object_fit": null,
            "object_position": null,
            "order": null,
            "overflow": null,
            "overflow_x": null,
            "overflow_y": null,
            "padding": null,
            "right": null,
            "top": null,
            "visibility": null,
            "width": null
          }
        },
        "3f592bd421f0466f84b2c5d37cd8b804": {
          "model_module": "@jupyter-widgets/controls",
          "model_module_version": "1.5.0",
          "model_name": "DescriptionStyleModel",
          "state": {
            "_model_module": "@jupyter-widgets/controls",
            "_model_module_version": "1.5.0",
            "_model_name": "DescriptionStyleModel",
            "_view_count": null,
            "_view_module": "@jupyter-widgets/base",
            "_view_module_version": "1.2.0",
            "_view_name": "StyleView",
            "description_width": ""
          }
        },
        "5f5e468ca9424cb29b7551fd7d54c3bd": {
          "model_module": "@jupyter-widgets/controls",
          "model_module_version": "1.5.0",
          "model_name": "DescriptionStyleModel",
          "state": {
            "_model_module": "@jupyter-widgets/controls",
            "_model_module_version": "1.5.0",
            "_model_name": "DescriptionStyleModel",
            "_view_count": null,
            "_view_module": "@jupyter-widgets/base",
            "_view_module_version": "1.2.0",
            "_view_name": "StyleView",
            "description_width": ""
          }
        },
        "63258ae8c5cd441ea2091e8e5f4eb797": {
          "model_module": "@jupyter-widgets/controls",
          "model_module_version": "1.5.0",
          "model_name": "HTMLModel",
          "state": {
            "_dom_classes": [],
            "_model_module": "@jupyter-widgets/controls",
            "_model_module_version": "1.5.0",
            "_model_name": "HTMLModel",
            "_view_count": null,
            "_view_module": "@jupyter-widgets/controls",
            "_view_module_version": "1.5.0",
            "_view_name": "HTMLView",
            "description": "",
            "description_tooltip": null,
            "layout": "IPY_MODEL_32c4135d36874d72afededd170c6f050",
            "placeholder": "​",
            "style": "IPY_MODEL_95bbd4a7fedb46088d0012e61b688ba2",
            "value": "Map:  99%"
          }
        },
        "726e137c6dd14657af0a8e4155ad57b1": {
          "model_module": "@jupyter-widgets/controls",
          "model_module_version": "1.5.0",
          "model_name": "HBoxModel",
          "state": {
            "_dom_classes": [],
            "_model_module": "@jupyter-widgets/controls",
            "_model_module_version": "1.5.0",
            "_model_name": "HBoxModel",
            "_view_count": null,
            "_view_module": "@jupyter-widgets/controls",
            "_view_module_version": "1.5.0",
            "_view_name": "HBoxView",
            "box_style": "",
            "children": [
              "IPY_MODEL_63258ae8c5cd441ea2091e8e5f4eb797",
              "IPY_MODEL_84a64e0330654408a4eb6a2238437c11",
              "IPY_MODEL_9bbffee00a8242098ea61e6e863bd240"
            ],
            "layout": "IPY_MODEL_c680f4b4275444e3847082461f85225a"
          }
        },
        "7cdace6109dd494fbe002c3a82e39c64": {
          "model_module": "@jupyter-widgets/base",
          "model_module_version": "1.2.0",
          "model_name": "LayoutModel",
          "state": {
            "_model_module": "@jupyter-widgets/base",
            "_model_module_version": "1.2.0",
            "_model_name": "LayoutModel",
            "_view_count": null,
            "_view_module": "@jupyter-widgets/base",
            "_view_module_version": "1.2.0",
            "_view_name": "LayoutView",
            "align_content": null,
            "align_items": null,
            "align_self": null,
            "border": null,
            "bottom": null,
            "display": null,
            "flex": null,
            "flex_flow": null,
            "grid_area": null,
            "grid_auto_columns": null,
            "grid_auto_flow": null,
            "grid_auto_rows": null,
            "grid_column": null,
            "grid_gap": null,
            "grid_row": null,
            "grid_template_areas": null,
            "grid_template_columns": null,
            "grid_template_rows": null,
            "height": null,
            "justify_content": null,
            "justify_items": null,
            "left": null,
            "margin": null,
            "max_height": null,
            "max_width": null,
            "min_height": null,
            "min_width": null,
            "object_fit": null,
            "object_position": null,
            "order": null,
            "overflow": null,
            "overflow_x": null,
            "overflow_y": null,
            "padding": null,
            "right": null,
            "top": null,
            "visibility": null,
            "width": null
          }
        },
        "80c9725169524de5b1c33998e8961178": {
          "model_module": "@jupyter-widgets/base",
          "model_module_version": "1.2.0",
          "model_name": "LayoutModel",
          "state": {
            "_model_module": "@jupyter-widgets/base",
            "_model_module_version": "1.2.0",
            "_model_name": "LayoutModel",
            "_view_count": null,
            "_view_module": "@jupyter-widgets/base",
            "_view_module_version": "1.2.0",
            "_view_name": "LayoutView",
            "align_content": null,
            "align_items": null,
            "align_self": null,
            "border": null,
            "bottom": null,
            "display": null,
            "flex": null,
            "flex_flow": null,
            "grid_area": null,
            "grid_auto_columns": null,
            "grid_auto_flow": null,
            "grid_auto_rows": null,
            "grid_column": null,
            "grid_gap": null,
            "grid_row": null,
            "grid_template_areas": null,
            "grid_template_columns": null,
            "grid_template_rows": null,
            "height": null,
            "justify_content": null,
            "justify_items": null,
            "left": null,
            "margin": null,
            "max_height": null,
            "max_width": null,
            "min_height": null,
            "min_width": null,
            "object_fit": null,
            "object_position": null,
            "order": null,
            "overflow": null,
            "overflow_x": null,
            "overflow_y": null,
            "padding": null,
            "right": null,
            "top": null,
            "visibility": null,
            "width": null
          }
        },
        "84a64e0330654408a4eb6a2238437c11": {
          "model_module": "@jupyter-widgets/controls",
          "model_module_version": "1.5.0",
          "model_name": "FloatProgressModel",
          "state": {
            "_dom_classes": [],
            "_model_module": "@jupyter-widgets/controls",
            "_model_module_version": "1.5.0",
            "_model_name": "FloatProgressModel",
            "_view_count": null,
            "_view_module": "@jupyter-widgets/controls",
            "_view_module_version": "1.5.0",
            "_view_name": "ProgressView",
            "bar_style": "",
            "description": "",
            "description_tooltip": null,
            "layout": "IPY_MODEL_22d4adb90ca74c66b976dd648ea5f1b3",
            "max": 54378,
            "min": 0,
            "orientation": "horizontal",
            "style": "IPY_MODEL_d33e1cb843694f3681061cd0770258fb",
            "value": 54378
          }
        },
        "95bbd4a7fedb46088d0012e61b688ba2": {
          "model_module": "@jupyter-widgets/controls",
          "model_module_version": "1.5.0",
          "model_name": "DescriptionStyleModel",
          "state": {
            "_model_module": "@jupyter-widgets/controls",
            "_model_module_version": "1.5.0",
            "_model_name": "DescriptionStyleModel",
            "_view_count": null,
            "_view_module": "@jupyter-widgets/base",
            "_view_module_version": "1.2.0",
            "_view_name": "StyleView",
            "description_width": ""
          }
        },
        "9bbffee00a8242098ea61e6e863bd240": {
          "model_module": "@jupyter-widgets/controls",
          "model_module_version": "1.5.0",
          "model_name": "HTMLModel",
          "state": {
            "_dom_classes": [],
            "_model_module": "@jupyter-widgets/controls",
            "_model_module_version": "1.5.0",
            "_model_name": "HTMLModel",
            "_view_count": null,
            "_view_module": "@jupyter-widgets/controls",
            "_view_module_version": "1.5.0",
            "_view_name": "HTMLView",
            "description": "",
            "description_tooltip": null,
            "layout": "IPY_MODEL_d686d428facd48da82133c0dc58c1327",
            "placeholder": "​",
            "style": "IPY_MODEL_5f5e468ca9424cb29b7551fd7d54c3bd",
            "value": " 54000/54378 [00:03&lt;00:00, 14622.26 examples/s]"
          }
        },
        "c365487441c04a12aabec22d86bd4561": {
          "model_module": "@jupyter-widgets/controls",
          "model_module_version": "1.5.0",
          "model_name": "HBoxModel",
          "state": {
            "_dom_classes": [],
            "_model_module": "@jupyter-widgets/controls",
            "_model_module_version": "1.5.0",
            "_model_name": "HBoxModel",
            "_view_count": null,
            "_view_module": "@jupyter-widgets/controls",
            "_view_module_version": "1.5.0",
            "_view_name": "HBoxView",
            "box_style": "",
            "children": [
              "IPY_MODEL_052128a69fe746a1bd79d25e4d472063",
              "IPY_MODEL_1307a4f5fe064f20a0bef031d7586a46",
              "IPY_MODEL_ed9146079caa4e3baf5342d051ff2fcf"
            ],
            "layout": "IPY_MODEL_c448ff0f58654c04a883c0f9296c1301"
          }
        },
        "c448ff0f58654c04a883c0f9296c1301": {
          "model_module": "@jupyter-widgets/base",
          "model_module_version": "1.2.0",
          "model_name": "LayoutModel",
          "state": {
            "_model_module": "@jupyter-widgets/base",
            "_model_module_version": "1.2.0",
            "_model_name": "LayoutModel",
            "_view_count": null,
            "_view_module": "@jupyter-widgets/base",
            "_view_module_version": "1.2.0",
            "_view_name": "LayoutView",
            "align_content": null,
            "align_items": null,
            "align_self": null,
            "border": null,
            "bottom": null,
            "display": null,
            "flex": null,
            "flex_flow": null,
            "grid_area": null,
            "grid_auto_columns": null,
            "grid_auto_flow": null,
            "grid_auto_rows": null,
            "grid_column": null,
            "grid_gap": null,
            "grid_row": null,
            "grid_template_areas": null,
            "grid_template_columns": null,
            "grid_template_rows": null,
            "height": null,
            "justify_content": null,
            "justify_items": null,
            "left": null,
            "margin": null,
            "max_height": null,
            "max_width": null,
            "min_height": null,
            "min_width": null,
            "object_fit": null,
            "object_position": null,
            "order": null,
            "overflow": null,
            "overflow_x": null,
            "overflow_y": null,
            "padding": null,
            "right": null,
            "top": null,
            "visibility": "hidden",
            "width": null
          }
        },
        "c680f4b4275444e3847082461f85225a": {
          "model_module": "@jupyter-widgets/base",
          "model_module_version": "1.2.0",
          "model_name": "LayoutModel",
          "state": {
            "_model_module": "@jupyter-widgets/base",
            "_model_module_version": "1.2.0",
            "_model_name": "LayoutModel",
            "_view_count": null,
            "_view_module": "@jupyter-widgets/base",
            "_view_module_version": "1.2.0",
            "_view_name": "LayoutView",
            "align_content": null,
            "align_items": null,
            "align_self": null,
            "border": null,
            "bottom": null,
            "display": null,
            "flex": null,
            "flex_flow": null,
            "grid_area": null,
            "grid_auto_columns": null,
            "grid_auto_flow": null,
            "grid_auto_rows": null,
            "grid_column": null,
            "grid_gap": null,
            "grid_row": null,
            "grid_template_areas": null,
            "grid_template_columns": null,
            "grid_template_rows": null,
            "height": null,
            "justify_content": null,
            "justify_items": null,
            "left": null,
            "margin": null,
            "max_height": null,
            "max_width": null,
            "min_height": null,
            "min_width": null,
            "object_fit": null,
            "object_position": null,
            "order": null,
            "overflow": null,
            "overflow_x": null,
            "overflow_y": null,
            "padding": null,
            "right": null,
            "top": null,
            "visibility": "hidden",
            "width": null
          }
        },
        "d33e1cb843694f3681061cd0770258fb": {
          "model_module": "@jupyter-widgets/controls",
          "model_module_version": "1.5.0",
          "model_name": "ProgressStyleModel",
          "state": {
            "_model_module": "@jupyter-widgets/controls",
            "_model_module_version": "1.5.0",
            "_model_name": "ProgressStyleModel",
            "_view_count": null,
            "_view_module": "@jupyter-widgets/base",
            "_view_module_version": "1.2.0",
            "_view_name": "StyleView",
            "bar_color": null,
            "description_width": ""
          }
        },
        "d686d428facd48da82133c0dc58c1327": {
          "model_module": "@jupyter-widgets/base",
          "model_module_version": "1.2.0",
          "model_name": "LayoutModel",
          "state": {
            "_model_module": "@jupyter-widgets/base",
            "_model_module_version": "1.2.0",
            "_model_name": "LayoutModel",
            "_view_count": null,
            "_view_module": "@jupyter-widgets/base",
            "_view_module_version": "1.2.0",
            "_view_name": "LayoutView",
            "align_content": null,
            "align_items": null,
            "align_self": null,
            "border": null,
            "bottom": null,
            "display": null,
            "flex": null,
            "flex_flow": null,
            "grid_area": null,
            "grid_auto_columns": null,
            "grid_auto_flow": null,
            "grid_auto_rows": null,
            "grid_column": null,
            "grid_gap": null,
            "grid_row": null,
            "grid_template_areas": null,
            "grid_template_columns": null,
            "grid_template_rows": null,
            "height": null,
            "justify_content": null,
            "justify_items": null,
            "left": null,
            "margin": null,
            "max_height": null,
            "max_width": null,
            "min_height": null,
            "min_width": null,
            "object_fit": null,
            "object_position": null,
            "order": null,
            "overflow": null,
            "overflow_x": null,
            "overflow_y": null,
            "padding": null,
            "right": null,
            "top": null,
            "visibility": null,
            "width": null
          }
        },
        "ea402b4672a0417b81b2d7c4c1a49ebf": {
          "model_module": "@jupyter-widgets/controls",
          "model_module_version": "1.5.0",
          "model_name": "DescriptionStyleModel",
          "state": {
            "_model_module": "@jupyter-widgets/controls",
            "_model_module_version": "1.5.0",
            "_model_name": "DescriptionStyleModel",
            "_view_count": null,
            "_view_module": "@jupyter-widgets/base",
            "_view_module_version": "1.2.0",
            "_view_name": "StyleView",
            "description_width": ""
          }
        },
        "ed9146079caa4e3baf5342d051ff2fcf": {
          "model_module": "@jupyter-widgets/controls",
          "model_module_version": "1.5.0",
          "model_name": "HTMLModel",
          "state": {
            "_dom_classes": [],
            "_model_module": "@jupyter-widgets/controls",
            "_model_module_version": "1.5.0",
            "_model_name": "HTMLModel",
            "_view_count": null,
            "_view_module": "@jupyter-widgets/controls",
            "_view_module_version": "1.5.0",
            "_view_name": "HTMLView",
            "description": "",
            "description_tooltip": null,
            "layout": "IPY_MODEL_80c9725169524de5b1c33998e8961178",
            "placeholder": "​",
            "style": "IPY_MODEL_ea402b4672a0417b81b2d7c4c1a49ebf",
            "value": " 438000/439493 [00:30&lt;00:00, 15568.91 examples/s]"
          }
        }
      }
    }
  },
  "nbformat": 4,
  "nbformat_minor": 0
}
